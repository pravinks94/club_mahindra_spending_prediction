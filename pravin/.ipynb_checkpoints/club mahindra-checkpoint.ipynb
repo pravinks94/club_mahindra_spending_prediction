{
 "cells": [
  {
   "cell_type": "code",
   "execution_count": 1,
   "metadata": {},
   "outputs": [],
   "source": [
    "import os\n",
    "import numpy as np\n",
    "import pandas as pd\n",
    "import matplotlib.pyplot as plt\n",
    "import seaborn as sns\n",
    "%matplotlib inline\n",
    "\n",
    "pd.set_option(\"display.max_columns\", 50)"
   ]
  },
  {
   "cell_type": "code",
   "execution_count": 2,
   "metadata": {
    "scrolled": true
   },
   "outputs": [],
   "source": [
    "os.chdir('../data/')"
   ]
  },
  {
   "cell_type": "code",
   "execution_count": 3,
   "metadata": {},
   "outputs": [
    {
     "name": "stdout",
     "output_type": "stream",
     "text": [
      ".\\Data_Dictionary.xlsx\n",
      ".\\submission_CM.csv\n",
      ".\\test_clubmahindra.csv\n",
      ".\\train_clubmahindra.csv\n"
     ]
    }
   ],
   "source": [
    "files = []\n",
    "# r=root, d=directories, f = files\n",
    "for r, d, f in os.walk('.'):\n",
    "    for file in f:\n",
    "        #if '.txt' in file:\n",
    "            #files.append(os.path.join(r, file))\n",
    "        files.append(os.path.join(r, file))\n",
    "for f in files:\n",
    "    print(f)"
   ]
  },
  {
   "cell_type": "code",
   "execution_count": 4,
   "metadata": {},
   "outputs": [
    {
     "data": {
      "text/html": [
       "<div>\n",
       "<style scoped>\n",
       "    .dataframe tbody tr th:only-of-type {\n",
       "        vertical-align: middle;\n",
       "    }\n",
       "\n",
       "    .dataframe tbody tr th {\n",
       "        vertical-align: top;\n",
       "    }\n",
       "\n",
       "    .dataframe thead th {\n",
       "        text-align: right;\n",
       "    }\n",
       "</style>\n",
       "<table border=\"1\" class=\"dataframe\">\n",
       "  <thead>\n",
       "    <tr style=\"text-align: right;\">\n",
       "      <th></th>\n",
       "      <th>Variable</th>\n",
       "      <th>Description</th>\n",
       "    </tr>\n",
       "  </thead>\n",
       "  <tbody>\n",
       "    <tr>\n",
       "      <th>0</th>\n",
       "      <td>reservation_id</td>\n",
       "      <td>Reservation ID</td>\n",
       "    </tr>\n",
       "    <tr>\n",
       "      <th>1</th>\n",
       "      <td>booking_date</td>\n",
       "      <td>Date of booking</td>\n",
       "    </tr>\n",
       "    <tr>\n",
       "      <th>2</th>\n",
       "      <td>checkin_date</td>\n",
       "      <td>Checkin date recorded at the time of booking</td>\n",
       "    </tr>\n",
       "    <tr>\n",
       "      <th>3</th>\n",
       "      <td>checkout_date</td>\n",
       "      <td>Checkout date recorded at the time of booking</td>\n",
       "    </tr>\n",
       "    <tr>\n",
       "      <th>4</th>\n",
       "      <td>channel_code</td>\n",
       "      <td>Different channels of booking</td>\n",
       "    </tr>\n",
       "    <tr>\n",
       "      <th>5</th>\n",
       "      <td>main_product_code</td>\n",
       "      <td>Type of product a member has purchased</td>\n",
       "    </tr>\n",
       "    <tr>\n",
       "      <th>6</th>\n",
       "      <td>numberofadults</td>\n",
       "      <td>Number of adults travelling</td>\n",
       "    </tr>\n",
       "    <tr>\n",
       "      <th>7</th>\n",
       "      <td>numberofchildren</td>\n",
       "      <td>Number of children travelling</td>\n",
       "    </tr>\n",
       "    <tr>\n",
       "      <th>8</th>\n",
       "      <td>persontravellingid</td>\n",
       "      <td>Type of person travelling</td>\n",
       "    </tr>\n",
       "    <tr>\n",
       "      <th>9</th>\n",
       "      <td>resort_region_code</td>\n",
       "      <td>Resort Region</td>\n",
       "    </tr>\n",
       "    <tr>\n",
       "      <th>10</th>\n",
       "      <td>resort_type_code</td>\n",
       "      <td>Resort Type</td>\n",
       "    </tr>\n",
       "    <tr>\n",
       "      <th>11</th>\n",
       "      <td>room_type_booked_code</td>\n",
       "      <td>Room Type</td>\n",
       "    </tr>\n",
       "    <tr>\n",
       "      <th>12</th>\n",
       "      <td>roomnights</td>\n",
       "      <td>Number of roomnights booked</td>\n",
       "    </tr>\n",
       "    <tr>\n",
       "      <th>13</th>\n",
       "      <td>season_holidayed_code</td>\n",
       "      <td>Season Holidayed</td>\n",
       "    </tr>\n",
       "    <tr>\n",
       "      <th>14</th>\n",
       "      <td>state_code_residence</td>\n",
       "      <td>Residence State of Member</td>\n",
       "    </tr>\n",
       "    <tr>\n",
       "      <th>15</th>\n",
       "      <td>state_code_resort</td>\n",
       "      <td>State in which resort is located</td>\n",
       "    </tr>\n",
       "    <tr>\n",
       "      <th>16</th>\n",
       "      <td>total_pax</td>\n",
       "      <td>Total persons travelling</td>\n",
       "    </tr>\n",
       "    <tr>\n",
       "      <th>17</th>\n",
       "      <td>member_age_buckets</td>\n",
       "      <td>Age bucket of the member</td>\n",
       "    </tr>\n",
       "    <tr>\n",
       "      <th>18</th>\n",
       "      <td>booking_type_code</td>\n",
       "      <td>Type of Booking</td>\n",
       "    </tr>\n",
       "    <tr>\n",
       "      <th>19</th>\n",
       "      <td>memberid</td>\n",
       "      <td>Unique ID of the member</td>\n",
       "    </tr>\n",
       "    <tr>\n",
       "      <th>20</th>\n",
       "      <td>cluster_code</td>\n",
       "      <td>Cluster Code of Resort</td>\n",
       "    </tr>\n",
       "    <tr>\n",
       "      <th>21</th>\n",
       "      <td>reservationstatusid_code</td>\n",
       "      <td>Reservation Status ID</td>\n",
       "    </tr>\n",
       "    <tr>\n",
       "      <th>22</th>\n",
       "      <td>resort_id</td>\n",
       "      <td>Unique Resort ID</td>\n",
       "    </tr>\n",
       "    <tr>\n",
       "      <th>23</th>\n",
       "      <td>amount_spent_per_room_night_scaled</td>\n",
       "      <td>(Target) Resort Spend Per Room Night</td>\n",
       "    </tr>\n",
       "  </tbody>\n",
       "</table>\n",
       "</div>"
      ],
      "text/plain": [
       "                              Variable  \\\n",
       "0                       reservation_id   \n",
       "1                         booking_date   \n",
       "2                         checkin_date   \n",
       "3                        checkout_date   \n",
       "4                         channel_code   \n",
       "5                    main_product_code   \n",
       "6                       numberofadults   \n",
       "7                     numberofchildren   \n",
       "8                   persontravellingid   \n",
       "9                   resort_region_code   \n",
       "10                    resort_type_code   \n",
       "11               room_type_booked_code   \n",
       "12                          roomnights   \n",
       "13               season_holidayed_code   \n",
       "14                state_code_residence   \n",
       "15                   state_code_resort   \n",
       "16                           total_pax   \n",
       "17                  member_age_buckets   \n",
       "18                   booking_type_code   \n",
       "19                            memberid   \n",
       "20                        cluster_code   \n",
       "21            reservationstatusid_code   \n",
       "22                           resort_id   \n",
       "23  amount_spent_per_room_night_scaled   \n",
       "\n",
       "                                      Description  \n",
       "0                                  Reservation ID  \n",
       "1                                 Date of booking  \n",
       "2    Checkin date recorded at the time of booking  \n",
       "3   Checkout date recorded at the time of booking  \n",
       "4                   Different channels of booking  \n",
       "5          Type of product a member has purchased  \n",
       "6                     Number of adults travelling  \n",
       "7                   Number of children travelling  \n",
       "8                       Type of person travelling  \n",
       "9                                   Resort Region  \n",
       "10                                    Resort Type  \n",
       "11                                      Room Type  \n",
       "12                    Number of roomnights booked  \n",
       "13                               Season Holidayed  \n",
       "14                      Residence State of Member  \n",
       "15               State in which resort is located  \n",
       "16                       Total persons travelling  \n",
       "17                       Age bucket of the member  \n",
       "18                                Type of Booking  \n",
       "19                        Unique ID of the member  \n",
       "20                         Cluster Code of Resort  \n",
       "21                          Reservation Status ID  \n",
       "22                               Unique Resort ID  \n",
       "23           (Target) Resort Spend Per Room Night  "
      ]
     },
     "execution_count": 4,
     "metadata": {},
     "output_type": "execute_result"
    }
   ],
   "source": [
    "data_dict=pd.read_excel('./Data_Dictionary.xlsx')\n",
    "data_dict"
   ]
  },
  {
   "cell_type": "markdown",
   "metadata": {},
   "source": [
    "## Datasets"
   ]
  },
  {
   "cell_type": "code",
   "execution_count": 5,
   "metadata": {},
   "outputs": [],
   "source": [
    "train=pd.read_csv('./train_clubmahindra.csv')\n",
    "test=pd.read_csv('./test_clubmahindra.csv')"
   ]
  },
  {
   "cell_type": "code",
   "execution_count": 6,
   "metadata": {},
   "outputs": [
    {
     "data": {
      "text/html": [
       "<div>\n",
       "<style scoped>\n",
       "    .dataframe tbody tr th:only-of-type {\n",
       "        vertical-align: middle;\n",
       "    }\n",
       "\n",
       "    .dataframe tbody tr th {\n",
       "        vertical-align: top;\n",
       "    }\n",
       "\n",
       "    .dataframe thead th {\n",
       "        text-align: right;\n",
       "    }\n",
       "</style>\n",
       "<table border=\"1\" class=\"dataframe\">\n",
       "  <thead>\n",
       "    <tr style=\"text-align: right;\">\n",
       "      <th></th>\n",
       "      <th>reservation_id</th>\n",
       "      <th>booking_date</th>\n",
       "      <th>checkin_date</th>\n",
       "      <th>checkout_date</th>\n",
       "      <th>channel_code</th>\n",
       "      <th>main_product_code</th>\n",
       "      <th>numberofadults</th>\n",
       "      <th>numberofchildren</th>\n",
       "      <th>persontravellingid</th>\n",
       "      <th>resort_region_code</th>\n",
       "      <th>resort_type_code</th>\n",
       "      <th>room_type_booked_code</th>\n",
       "      <th>roomnights</th>\n",
       "      <th>season_holidayed_code</th>\n",
       "      <th>state_code_residence</th>\n",
       "      <th>state_code_resort</th>\n",
       "      <th>total_pax</th>\n",
       "      <th>member_age_buckets</th>\n",
       "      <th>booking_type_code</th>\n",
       "      <th>memberid</th>\n",
       "      <th>cluster_code</th>\n",
       "      <th>reservationstatusid_code</th>\n",
       "      <th>resort_id</th>\n",
       "      <th>amount_spent_per_room_night_scaled</th>\n",
       "    </tr>\n",
       "  </thead>\n",
       "  <tbody>\n",
       "    <tr>\n",
       "      <th>0</th>\n",
       "      <td>07659f3758d8aee27f5a7e2887adeacb67021cb95ada1b...</td>\n",
       "      <td>05/04/18</td>\n",
       "      <td>05/04/18</td>\n",
       "      <td>06/04/18</td>\n",
       "      <td>3</td>\n",
       "      <td>1</td>\n",
       "      <td>2</td>\n",
       "      <td>0</td>\n",
       "      <td>46</td>\n",
       "      <td>3</td>\n",
       "      <td>3</td>\n",
       "      <td>3</td>\n",
       "      <td>1</td>\n",
       "      <td>2.0</td>\n",
       "      <td>7.0</td>\n",
       "      <td>3</td>\n",
       "      <td>3</td>\n",
       "      <td>F</td>\n",
       "      <td>1</td>\n",
       "      <td>3d1539e56495b6991f0a3ef5a61ca3d03ce4fff7380e9a...</td>\n",
       "      <td>F</td>\n",
       "      <td>C</td>\n",
       "      <td>4e07408562bedb8b60ce05c1decfe3ad16b72230967de0...</td>\n",
       "      <td>7.706428</td>\n",
       "    </tr>\n",
       "    <tr>\n",
       "      <th>1</th>\n",
       "      <td>03930f033646d073462b35d411616323597715ac4fc398...</td>\n",
       "      <td>23/01/15</td>\n",
       "      <td>11/04/15</td>\n",
       "      <td>16/04/15</td>\n",
       "      <td>1</td>\n",
       "      <td>1</td>\n",
       "      <td>2</td>\n",
       "      <td>0</td>\n",
       "      <td>46</td>\n",
       "      <td>3</td>\n",
       "      <td>3</td>\n",
       "      <td>4</td>\n",
       "      <td>5</td>\n",
       "      <td>2.0</td>\n",
       "      <td>7.0</td>\n",
       "      <td>5</td>\n",
       "      <td>2</td>\n",
       "      <td>F</td>\n",
       "      <td>1</td>\n",
       "      <td>3d1539e56495b6991f0a3ef5a61ca3d03ce4fff7380e9a...</td>\n",
       "      <td>F</td>\n",
       "      <td>A</td>\n",
       "      <td>39fa9ec190eee7b6f4dff1100d6343e10918d044c75eac...</td>\n",
       "      <td>6.662563</td>\n",
       "    </tr>\n",
       "    <tr>\n",
       "      <th>2</th>\n",
       "      <td>d145a32920e6587ad95bfe299d80c0affa268220535aaf...</td>\n",
       "      <td>28/01/15</td>\n",
       "      <td>01/02/15</td>\n",
       "      <td>05/02/15</td>\n",
       "      <td>1</td>\n",
       "      <td>1</td>\n",
       "      <td>2</td>\n",
       "      <td>0</td>\n",
       "      <td>47</td>\n",
       "      <td>1</td>\n",
       "      <td>5</td>\n",
       "      <td>4</td>\n",
       "      <td>4</td>\n",
       "      <td>2.0</td>\n",
       "      <td>7.0</td>\n",
       "      <td>1</td>\n",
       "      <td>2</td>\n",
       "      <td>F</td>\n",
       "      <td>1</td>\n",
       "      <td>3d1539e56495b6991f0a3ef5a61ca3d03ce4fff7380e9a...</td>\n",
       "      <td>E</td>\n",
       "      <td>A</td>\n",
       "      <td>535fa30d7e25dd8a49f1536779734ec8286108d115da50...</td>\n",
       "      <td>7.871602</td>\n",
       "    </tr>\n",
       "    <tr>\n",
       "      <th>3</th>\n",
       "      <td>cfd77f44811ed62f25a220b53324cdbafc662a4c9e5f04...</td>\n",
       "      <td>02/05/15</td>\n",
       "      <td>11/06/15</td>\n",
       "      <td>16/06/15</td>\n",
       "      <td>1</td>\n",
       "      <td>1</td>\n",
       "      <td>2</td>\n",
       "      <td>2</td>\n",
       "      <td>46</td>\n",
       "      <td>2</td>\n",
       "      <td>2</td>\n",
       "      <td>3</td>\n",
       "      <td>5</td>\n",
       "      <td>2.0</td>\n",
       "      <td>7.0</td>\n",
       "      <td>2</td>\n",
       "      <td>2</td>\n",
       "      <td>F</td>\n",
       "      <td>1</td>\n",
       "      <td>3d1539e56495b6991f0a3ef5a61ca3d03ce4fff7380e9a...</td>\n",
       "      <td>D</td>\n",
       "      <td>A</td>\n",
       "      <td>d4735e3a265e16eee03f59718b9b5d03019c07d8b6c51f...</td>\n",
       "      <td>5.344943</td>\n",
       "    </tr>\n",
       "    <tr>\n",
       "      <th>4</th>\n",
       "      <td>937cff9e4dcfc2459620153dfc8b9962ac22bea67dfb29...</td>\n",
       "      <td>02/09/15</td>\n",
       "      <td>14/12/15</td>\n",
       "      <td>19/12/15</td>\n",
       "      <td>1</td>\n",
       "      <td>1</td>\n",
       "      <td>2</td>\n",
       "      <td>0</td>\n",
       "      <td>46</td>\n",
       "      <td>2</td>\n",
       "      <td>2</td>\n",
       "      <td>4</td>\n",
       "      <td>5</td>\n",
       "      <td>2.0</td>\n",
       "      <td>7.0</td>\n",
       "      <td>2</td>\n",
       "      <td>2</td>\n",
       "      <td>F</td>\n",
       "      <td>1</td>\n",
       "      <td>3d1539e56495b6991f0a3ef5a61ca3d03ce4fff7380e9a...</td>\n",
       "      <td>D</td>\n",
       "      <td>A</td>\n",
       "      <td>d4735e3a265e16eee03f59718b9b5d03019c07d8b6c51f...</td>\n",
       "      <td>7.059346</td>\n",
       "    </tr>\n",
       "  </tbody>\n",
       "</table>\n",
       "</div>"
      ],
      "text/plain": [
       "                                      reservation_id booking_date  \\\n",
       "0  07659f3758d8aee27f5a7e2887adeacb67021cb95ada1b...     05/04/18   \n",
       "1  03930f033646d073462b35d411616323597715ac4fc398...     23/01/15   \n",
       "2  d145a32920e6587ad95bfe299d80c0affa268220535aaf...     28/01/15   \n",
       "3  cfd77f44811ed62f25a220b53324cdbafc662a4c9e5f04...     02/05/15   \n",
       "4  937cff9e4dcfc2459620153dfc8b9962ac22bea67dfb29...     02/09/15   \n",
       "\n",
       "  checkin_date checkout_date  channel_code  main_product_code  numberofadults  \\\n",
       "0     05/04/18      06/04/18             3                  1               2   \n",
       "1     11/04/15      16/04/15             1                  1               2   \n",
       "2     01/02/15      05/02/15             1                  1               2   \n",
       "3     11/06/15      16/06/15             1                  1               2   \n",
       "4     14/12/15      19/12/15             1                  1               2   \n",
       "\n",
       "   numberofchildren  persontravellingid  resort_region_code  resort_type_code  \\\n",
       "0                 0                  46                   3                 3   \n",
       "1                 0                  46                   3                 3   \n",
       "2                 0                  47                   1                 5   \n",
       "3                 2                  46                   2                 2   \n",
       "4                 0                  46                   2                 2   \n",
       "\n",
       "   room_type_booked_code  roomnights  season_holidayed_code  \\\n",
       "0                      3           1                    2.0   \n",
       "1                      4           5                    2.0   \n",
       "2                      4           4                    2.0   \n",
       "3                      3           5                    2.0   \n",
       "4                      4           5                    2.0   \n",
       "\n",
       "   state_code_residence  state_code_resort  total_pax member_age_buckets  \\\n",
       "0                   7.0                  3          3                  F   \n",
       "1                   7.0                  5          2                  F   \n",
       "2                   7.0                  1          2                  F   \n",
       "3                   7.0                  2          2                  F   \n",
       "4                   7.0                  2          2                  F   \n",
       "\n",
       "   booking_type_code                                           memberid  \\\n",
       "0                  1  3d1539e56495b6991f0a3ef5a61ca3d03ce4fff7380e9a...   \n",
       "1                  1  3d1539e56495b6991f0a3ef5a61ca3d03ce4fff7380e9a...   \n",
       "2                  1  3d1539e56495b6991f0a3ef5a61ca3d03ce4fff7380e9a...   \n",
       "3                  1  3d1539e56495b6991f0a3ef5a61ca3d03ce4fff7380e9a...   \n",
       "4                  1  3d1539e56495b6991f0a3ef5a61ca3d03ce4fff7380e9a...   \n",
       "\n",
       "  cluster_code reservationstatusid_code  \\\n",
       "0            F                        C   \n",
       "1            F                        A   \n",
       "2            E                        A   \n",
       "3            D                        A   \n",
       "4            D                        A   \n",
       "\n",
       "                                           resort_id  \\\n",
       "0  4e07408562bedb8b60ce05c1decfe3ad16b72230967de0...   \n",
       "1  39fa9ec190eee7b6f4dff1100d6343e10918d044c75eac...   \n",
       "2  535fa30d7e25dd8a49f1536779734ec8286108d115da50...   \n",
       "3  d4735e3a265e16eee03f59718b9b5d03019c07d8b6c51f...   \n",
       "4  d4735e3a265e16eee03f59718b9b5d03019c07d8b6c51f...   \n",
       "\n",
       "   amount_spent_per_room_night_scaled  \n",
       "0                            7.706428  \n",
       "1                            6.662563  \n",
       "2                            7.871602  \n",
       "3                            5.344943  \n",
       "4                            7.059346  "
      ]
     },
     "execution_count": 6,
     "metadata": {},
     "output_type": "execute_result"
    }
   ],
   "source": [
    "train.head()"
   ]
  },
  {
   "cell_type": "code",
   "execution_count": 7,
   "metadata": {},
   "outputs": [
    {
     "data": {
      "text/html": [
       "<div>\n",
       "<style scoped>\n",
       "    .dataframe tbody tr th:only-of-type {\n",
       "        vertical-align: middle;\n",
       "    }\n",
       "\n",
       "    .dataframe tbody tr th {\n",
       "        vertical-align: top;\n",
       "    }\n",
       "\n",
       "    .dataframe thead th {\n",
       "        text-align: right;\n",
       "    }\n",
       "</style>\n",
       "<table border=\"1\" class=\"dataframe\">\n",
       "  <thead>\n",
       "    <tr style=\"text-align: right;\">\n",
       "      <th></th>\n",
       "      <th>reservation_id</th>\n",
       "      <th>booking_date</th>\n",
       "      <th>checkin_date</th>\n",
       "      <th>checkout_date</th>\n",
       "      <th>channel_code</th>\n",
       "      <th>main_product_code</th>\n",
       "      <th>numberofadults</th>\n",
       "      <th>numberofchildren</th>\n",
       "      <th>persontravellingid</th>\n",
       "      <th>resort_region_code</th>\n",
       "      <th>resort_type_code</th>\n",
       "      <th>room_type_booked_code</th>\n",
       "      <th>roomnights</th>\n",
       "      <th>season_holidayed_code</th>\n",
       "      <th>state_code_residence</th>\n",
       "      <th>state_code_resort</th>\n",
       "      <th>total_pax</th>\n",
       "      <th>member_age_buckets</th>\n",
       "      <th>booking_type_code</th>\n",
       "      <th>memberid</th>\n",
       "      <th>cluster_code</th>\n",
       "      <th>reservationstatusid_code</th>\n",
       "      <th>resort_id</th>\n",
       "    </tr>\n",
       "  </thead>\n",
       "  <tbody>\n",
       "    <tr>\n",
       "      <th>0</th>\n",
       "      <td>7dae1ce6bc8f69481328f2be5c4943077dad5598b5f66d...</td>\n",
       "      <td>05/04/18</td>\n",
       "      <td>05/04/18</td>\n",
       "      <td>06/04/18</td>\n",
       "      <td>3</td>\n",
       "      <td>2</td>\n",
       "      <td>2</td>\n",
       "      <td>0</td>\n",
       "      <td>45</td>\n",
       "      <td>3</td>\n",
       "      <td>3</td>\n",
       "      <td>4</td>\n",
       "      <td>1</td>\n",
       "      <td>2.0</td>\n",
       "      <td>2.0</td>\n",
       "      <td>3</td>\n",
       "      <td>3</td>\n",
       "      <td>H</td>\n",
       "      <td>1</td>\n",
       "      <td>2114944930dcc42ce5b9b50ae965cf8a9c04e46be63d84...</td>\n",
       "      <td>A</td>\n",
       "      <td>C</td>\n",
       "      <td>9f14025af0065b30e47e23ebb3b491d39ae8ed17d33739...</td>\n",
       "    </tr>\n",
       "    <tr>\n",
       "      <th>1</th>\n",
       "      <td>fe0d4e444e1818436c88f72f1cf800536c2f785e59baeb...</td>\n",
       "      <td>24/05/15</td>\n",
       "      <td>23/06/15</td>\n",
       "      <td>27/06/15</td>\n",
       "      <td>1</td>\n",
       "      <td>2</td>\n",
       "      <td>4</td>\n",
       "      <td>0</td>\n",
       "      <td>45</td>\n",
       "      <td>1</td>\n",
       "      <td>1</td>\n",
       "      <td>4</td>\n",
       "      <td>8</td>\n",
       "      <td>2.0</td>\n",
       "      <td>2.0</td>\n",
       "      <td>4</td>\n",
       "      <td>2</td>\n",
       "      <td>H</td>\n",
       "      <td>1</td>\n",
       "      <td>2114944930dcc42ce5b9b50ae965cf8a9c04e46be63d84...</td>\n",
       "      <td>F</td>\n",
       "      <td>A</td>\n",
       "      <td>e7f6c011776e8db7cd330b54174fd76f7d0216b612387a...</td>\n",
       "    </tr>\n",
       "    <tr>\n",
       "      <th>2</th>\n",
       "      <td>540bd4285ad8168e8388f84ee74a82cd4f97dc0a404d3e...</td>\n",
       "      <td>21/07/15</td>\n",
       "      <td>07/08/15</td>\n",
       "      <td>10/08/15</td>\n",
       "      <td>3</td>\n",
       "      <td>2</td>\n",
       "      <td>3</td>\n",
       "      <td>0</td>\n",
       "      <td>45</td>\n",
       "      <td>2</td>\n",
       "      <td>2</td>\n",
       "      <td>2</td>\n",
       "      <td>3</td>\n",
       "      <td>4.0</td>\n",
       "      <td>2.0</td>\n",
       "      <td>2</td>\n",
       "      <td>3</td>\n",
       "      <td>H</td>\n",
       "      <td>1</td>\n",
       "      <td>2114944930dcc42ce5b9b50ae965cf8a9c04e46be63d84...</td>\n",
       "      <td>D</td>\n",
       "      <td>A</td>\n",
       "      <td>d4735e3a265e16eee03f59718b9b5d03019c07d8b6c51f...</td>\n",
       "    </tr>\n",
       "    <tr>\n",
       "      <th>3</th>\n",
       "      <td>09593c907ae262e46f655b4db9e14f54a19eadcfdd2679...</td>\n",
       "      <td>31/07/15</td>\n",
       "      <td>22/10/15</td>\n",
       "      <td>25/10/15</td>\n",
       "      <td>1</td>\n",
       "      <td>2</td>\n",
       "      <td>3</td>\n",
       "      <td>0</td>\n",
       "      <td>45</td>\n",
       "      <td>1</td>\n",
       "      <td>1</td>\n",
       "      <td>2</td>\n",
       "      <td>3</td>\n",
       "      <td>2.0</td>\n",
       "      <td>2.0</td>\n",
       "      <td>6</td>\n",
       "      <td>3</td>\n",
       "      <td>H</td>\n",
       "      <td>1</td>\n",
       "      <td>2114944930dcc42ce5b9b50ae965cf8a9c04e46be63d84...</td>\n",
       "      <td>F</td>\n",
       "      <td>A</td>\n",
       "      <td>49d180ecf56132819571bf39d9b7b342522a2ac6d23c14...</td>\n",
       "    </tr>\n",
       "    <tr>\n",
       "      <th>4</th>\n",
       "      <td>f4c50caac68051faf37551d70bb17eebef2a20e2244cb1...</td>\n",
       "      <td>01/07/16</td>\n",
       "      <td>01/10/16</td>\n",
       "      <td>05/10/16</td>\n",
       "      <td>1</td>\n",
       "      <td>2</td>\n",
       "      <td>4</td>\n",
       "      <td>0</td>\n",
       "      <td>45</td>\n",
       "      <td>1</td>\n",
       "      <td>2</td>\n",
       "      <td>3</td>\n",
       "      <td>8</td>\n",
       "      <td>2.0</td>\n",
       "      <td>2.0</td>\n",
       "      <td>11</td>\n",
       "      <td>2</td>\n",
       "      <td>H</td>\n",
       "      <td>1</td>\n",
       "      <td>2114944930dcc42ce5b9b50ae965cf8a9c04e46be63d84...</td>\n",
       "      <td>F</td>\n",
       "      <td>A</td>\n",
       "      <td>e29c9c180c6279b0b02abd6a1801c7c04082cf486ec027...</td>\n",
       "    </tr>\n",
       "  </tbody>\n",
       "</table>\n",
       "</div>"
      ],
      "text/plain": [
       "                                      reservation_id booking_date  \\\n",
       "0  7dae1ce6bc8f69481328f2be5c4943077dad5598b5f66d...     05/04/18   \n",
       "1  fe0d4e444e1818436c88f72f1cf800536c2f785e59baeb...     24/05/15   \n",
       "2  540bd4285ad8168e8388f84ee74a82cd4f97dc0a404d3e...     21/07/15   \n",
       "3  09593c907ae262e46f655b4db9e14f54a19eadcfdd2679...     31/07/15   \n",
       "4  f4c50caac68051faf37551d70bb17eebef2a20e2244cb1...     01/07/16   \n",
       "\n",
       "  checkin_date checkout_date  channel_code  main_product_code  numberofadults  \\\n",
       "0     05/04/18      06/04/18             3                  2               2   \n",
       "1     23/06/15      27/06/15             1                  2               4   \n",
       "2     07/08/15      10/08/15             3                  2               3   \n",
       "3     22/10/15      25/10/15             1                  2               3   \n",
       "4     01/10/16      05/10/16             1                  2               4   \n",
       "\n",
       "   numberofchildren  persontravellingid  resort_region_code  resort_type_code  \\\n",
       "0                 0                  45                   3                 3   \n",
       "1                 0                  45                   1                 1   \n",
       "2                 0                  45                   2                 2   \n",
       "3                 0                  45                   1                 1   \n",
       "4                 0                  45                   1                 2   \n",
       "\n",
       "   room_type_booked_code  roomnights  season_holidayed_code  \\\n",
       "0                      4           1                    2.0   \n",
       "1                      4           8                    2.0   \n",
       "2                      2           3                    4.0   \n",
       "3                      2           3                    2.0   \n",
       "4                      3           8                    2.0   \n",
       "\n",
       "   state_code_residence  state_code_resort  total_pax member_age_buckets  \\\n",
       "0                   2.0                  3          3                  H   \n",
       "1                   2.0                  4          2                  H   \n",
       "2                   2.0                  2          3                  H   \n",
       "3                   2.0                  6          3                  H   \n",
       "4                   2.0                 11          2                  H   \n",
       "\n",
       "   booking_type_code                                           memberid  \\\n",
       "0                  1  2114944930dcc42ce5b9b50ae965cf8a9c04e46be63d84...   \n",
       "1                  1  2114944930dcc42ce5b9b50ae965cf8a9c04e46be63d84...   \n",
       "2                  1  2114944930dcc42ce5b9b50ae965cf8a9c04e46be63d84...   \n",
       "3                  1  2114944930dcc42ce5b9b50ae965cf8a9c04e46be63d84...   \n",
       "4                  1  2114944930dcc42ce5b9b50ae965cf8a9c04e46be63d84...   \n",
       "\n",
       "  cluster_code reservationstatusid_code  \\\n",
       "0            A                        C   \n",
       "1            F                        A   \n",
       "2            D                        A   \n",
       "3            F                        A   \n",
       "4            F                        A   \n",
       "\n",
       "                                           resort_id  \n",
       "0  9f14025af0065b30e47e23ebb3b491d39ae8ed17d33739...  \n",
       "1  e7f6c011776e8db7cd330b54174fd76f7d0216b612387a...  \n",
       "2  d4735e3a265e16eee03f59718b9b5d03019c07d8b6c51f...  \n",
       "3  49d180ecf56132819571bf39d9b7b342522a2ac6d23c14...  \n",
       "4  e29c9c180c6279b0b02abd6a1801c7c04082cf486ec027...  "
      ]
     },
     "execution_count": 7,
     "metadata": {},
     "output_type": "execute_result"
    }
   ],
   "source": [
    "test.head()"
   ]
  },
  {
   "cell_type": "code",
   "execution_count": 8,
   "metadata": {
    "scrolled": true
   },
   "outputs": [
    {
     "data": {
      "image/png": "[encoded data removed]",
      "text/plain": [
       "<Figure size 864x720 with 2 Axes>"
      ]
     },
     "metadata": {
      "needs_background": "light"
     },
     "output_type": "display_data"
    }
   ],
   "source": [
    "plt.figure(figsize=(12.0,10))\n",
    "sns.heatmap(train.corr(),annot=True,linewidths=0.3)\n",
    "plt.show()"
   ]
  },
  {
   "cell_type": "code",
   "execution_count": 9,
   "metadata": {},
   "outputs": [
    {
     "name": "stdout",
     "output_type": "stream",
     "text": [
      "<class 'pandas.core.frame.DataFrame'>\n",
      "RangeIndex: 341424 entries, 0 to 341423\n",
      "Data columns (total 24 columns):\n",
      " #   Column                              Non-Null Count   Dtype  \n",
      "---  ------                              --------------   -----  \n",
      " 0   reservation_id                      341424 non-null  object \n",
      " 1   booking_date                        341424 non-null  object \n",
      " 2   checkin_date                        341424 non-null  object \n",
      " 3   checkout_date                       341424 non-null  object \n",
      " 4   channel_code                        341424 non-null  int64  \n",
      " 5   main_product_code                   341424 non-null  int64  \n",
      " 6   numberofadults                      341424 non-null  int64  \n",
      " 7   numberofchildren                    341424 non-null  int64  \n",
      " 8   persontravellingid                  341424 non-null  int64  \n",
      " 9   resort_region_code                  341424 non-null  int64  \n",
      " 10  resort_type_code                    341424 non-null  int64  \n",
      " 11  room_type_booked_code               341424 non-null  int64  \n",
      " 12  roomnights                          341424 non-null  int64  \n",
      " 13  season_holidayed_code               341310 non-null  float64\n",
      " 14  state_code_residence                336660 non-null  float64\n",
      " 15  state_code_resort                   341424 non-null  int64  \n",
      " 16  total_pax                           341424 non-null  int64  \n",
      " 17  member_age_buckets                  341424 non-null  object \n",
      " 18  booking_type_code                   341424 non-null  int64  \n",
      " 19  memberid                            341424 non-null  object \n",
      " 20  cluster_code                        341424 non-null  object \n",
      " 21  reservationstatusid_code            341424 non-null  object \n",
      " 22  resort_id                           341424 non-null  object \n",
      " 23  amount_spent_per_room_night_scaled  341424 non-null  float64\n",
      "dtypes: float64(3), int64(12), object(9)\n",
      "memory usage: 62.5+ MB\n"
     ]
    }
   ],
   "source": [
    "train.info()"
   ]
  },
  {
   "cell_type": "code",
   "execution_count": 10,
   "metadata": {},
   "outputs": [
    {
     "data": {
      "text/plain": [
       "<matplotlib.axes._subplots.AxesSubplot at 0x19db6037e08>"
      ]
     },
     "execution_count": 10,
     "metadata": {},
     "output_type": "execute_result"
    },
    {
     "data": {
      "image/png": "[encoded data removed]",
      "text/plain": [
       "<Figure size 1800x720 with 2 Axes>"
      ]
     },
     "metadata": {
      "needs_background": "light"
     },
     "output_type": "display_data"
    }
   ],
   "source": [
    "import missingno\n",
    "missingno.matrix(train)"
   ]
  },
  {
   "cell_type": "code",
   "execution_count": 11,
   "metadata": {},
   "outputs": [
    {
     "data": {
      "text/plain": [
       "<matplotlib.axes._subplots.AxesSubplot at 0x19dbe910b08>"
      ]
     },
     "execution_count": 11,
     "metadata": {},
     "output_type": "execute_result"
    },
    {
     "data": {
      "image/png": "[encoded data removed]",
      "text/plain": [
       "<Figure size 1800x720 with 2 Axes>"
      ]
     },
     "metadata": {
      "needs_background": "light"
     },
     "output_type": "display_data"
    }
   ],
   "source": [
    "missingno.matrix(test)"
   ]
  },
  {
   "cell_type": "markdown",
   "metadata": {},
   "source": [
    "## Reservation ID"
   ]
  },
  {
   "cell_type": "code",
   "execution_count": 12,
   "metadata": {},
   "outputs": [],
   "source": [
    "#test=test.drop(['reservation_id'],axis=1)\n",
    "train=train.drop(['reservation_id'],axis=1)"
   ]
  },
  {
   "cell_type": "markdown",
   "metadata": {},
   "source": [
    "## Booking Date,Checkin Date,Checkout_date"
   ]
  },
  {
   "cell_type": "code",
   "execution_count": 13,
   "metadata": {
    "scrolled": true
   },
   "outputs": [],
   "source": [
    "train['booking_date']=pd.to_datetime(train['booking_date'],format='%d/%m/%y')\n",
    "test['booking_date']=pd.to_datetime(test['booking_date'],format='%d/%m/%y')"
   ]
  },
  {
   "cell_type": "code",
   "execution_count": 14,
   "metadata": {},
   "outputs": [
    {
     "data": {
      "text/plain": [
       "0        2018-04-05\n",
       "1        2015-01-23\n",
       "2        2015-01-28\n",
       "3        2015-05-02\n",
       "4        2015-09-02\n",
       "            ...    \n",
       "341419   2019-02-11\n",
       "341420   2019-02-27\n",
       "341421   2019-02-27\n",
       "341422   2019-02-27\n",
       "341423   2019-02-28\n",
       "Name: booking_date, Length: 341424, dtype: datetime64[ns]"
      ]
     },
     "execution_count": 14,
     "metadata": {},
     "output_type": "execute_result"
    }
   ],
   "source": [
    "train['booking_date']"
   ]
  },
  {
   "cell_type": "code",
   "execution_count": 15,
   "metadata": {},
   "outputs": [],
   "source": [
    "train['checkin_date']=pd.to_datetime(train['checkin_date'],format='%d/%m/%y')\n",
    "test['checkin_date']=pd.to_datetime(test['checkin_date'],format='%d/%m/%y')"
   ]
  },
  {
   "cell_type": "code",
   "execution_count": 16,
   "metadata": {},
   "outputs": [
    {
     "data": {
      "text/plain": [
       "0        2018-04-05\n",
       "1        2015-04-11\n",
       "2        2015-02-01\n",
       "3        2015-06-11\n",
       "4        2015-12-14\n",
       "            ...    \n",
       "341419   2019-02-27\n",
       "341420   2019-02-28\n",
       "341421   2019-02-27\n",
       "341422   2019-02-28\n",
       "341423   2019-03-01\n",
       "Name: checkin_date, Length: 341424, dtype: datetime64[ns]"
      ]
     },
     "execution_count": 16,
     "metadata": {},
     "output_type": "execute_result"
    }
   ],
   "source": [
    "train['checkin_date']"
   ]
  },
  {
   "cell_type": "code",
   "execution_count": 17,
   "metadata": {},
   "outputs": [],
   "source": [
    "train['checkout_date']=pd.to_datetime(train['checkout_date'],format='%d/%m/%y')\n",
    "test['checkout_date']=pd.to_datetime(test['checkout_date'],format='%d/%m/%y')"
   ]
  },
  {
   "cell_type": "code",
   "execution_count": 18,
   "metadata": {},
   "outputs": [],
   "source": [
    "train['days_stayed']=train['checkout_date']-train['checkin_date']\n",
    "train['days_stayed']=train['days_stayed']/np.timedelta64(1,'D')\n",
    "test['days_stayed']=test['checkout_date']-test['checkin_date']\n",
    "test['days_stayed']=test['days_stayed']/np.timedelta64(1,'D')"
   ]
  },
  {
   "cell_type": "code",
   "execution_count": 19,
   "metadata": {},
   "outputs": [
    {
     "data": {
      "text/plain": [
       "1.0"
      ]
     },
     "execution_count": 19,
     "metadata": {},
     "output_type": "execute_result"
    }
   ],
   "source": [
    "train['days_stayed'].min()"
   ]
  },
  {
   "cell_type": "code",
   "execution_count": 20,
   "metadata": {},
   "outputs": [],
   "source": [
    "train['booking_to_checkin']=(train['checkin_date']-train['booking_date'])/np.timedelta64(1,'D')\n",
    "test['booking_to_checkin']=(test['checkin_date']-test['booking_date'])/np.timedelta64(1,'D')"
   ]
  },
  {
   "cell_type": "code",
   "execution_count": 21,
   "metadata": {
    "scrolled": true
   },
   "outputs": [
    {
     "data": {
      "text/html": [
       "<div>\n",
       "<style scoped>\n",
       "    .dataframe tbody tr th:only-of-type {\n",
       "        vertical-align: middle;\n",
       "    }\n",
       "\n",
       "    .dataframe tbody tr th {\n",
       "        vertical-align: top;\n",
       "    }\n",
       "\n",
       "    .dataframe thead th {\n",
       "        text-align: right;\n",
       "    }\n",
       "</style>\n",
       "<table border=\"1\" class=\"dataframe\">\n",
       "  <thead>\n",
       "    <tr style=\"text-align: right;\">\n",
       "      <th></th>\n",
       "      <th>booking_date</th>\n",
       "      <th>checkin_date</th>\n",
       "      <th>checkout_date</th>\n",
       "      <th>channel_code</th>\n",
       "      <th>main_product_code</th>\n",
       "      <th>numberofadults</th>\n",
       "      <th>numberofchildren</th>\n",
       "      <th>persontravellingid</th>\n",
       "      <th>resort_region_code</th>\n",
       "      <th>resort_type_code</th>\n",
       "      <th>room_type_booked_code</th>\n",
       "      <th>roomnights</th>\n",
       "      <th>season_holidayed_code</th>\n",
       "      <th>state_code_residence</th>\n",
       "      <th>state_code_resort</th>\n",
       "      <th>total_pax</th>\n",
       "      <th>member_age_buckets</th>\n",
       "      <th>booking_type_code</th>\n",
       "      <th>memberid</th>\n",
       "      <th>cluster_code</th>\n",
       "      <th>reservationstatusid_code</th>\n",
       "      <th>resort_id</th>\n",
       "      <th>amount_spent_per_room_night_scaled</th>\n",
       "      <th>days_stayed</th>\n",
       "      <th>booking_to_checkin</th>\n",
       "    </tr>\n",
       "  </thead>\n",
       "  <tbody>\n",
       "    <tr>\n",
       "      <th>15</th>\n",
       "      <td>2018-04-05</td>\n",
       "      <td>2012-03-08</td>\n",
       "      <td>2012-03-11</td>\n",
       "      <td>3</td>\n",
       "      <td>1</td>\n",
       "      <td>2</td>\n",
       "      <td>0</td>\n",
       "      <td>45</td>\n",
       "      <td>1</td>\n",
       "      <td>1</td>\n",
       "      <td>2</td>\n",
       "      <td>1</td>\n",
       "      <td>3.0</td>\n",
       "      <td>8.0</td>\n",
       "      <td>6</td>\n",
       "      <td>3</td>\n",
       "      <td>H</td>\n",
       "      <td>1</td>\n",
       "      <td>7b68caeb153ac83aeab0b9a679709c558d57a6c9d2bdf6...</td>\n",
       "      <td>F</td>\n",
       "      <td>C</td>\n",
       "      <td>49d180ecf56132819571bf39d9b7b342522a2ac6d23c14...</td>\n",
       "      <td>3.218876</td>\n",
       "      <td>3.0</td>\n",
       "      <td>-2219.0</td>\n",
       "    </tr>\n",
       "    <tr>\n",
       "      <th>34</th>\n",
       "      <td>2018-03-31</td>\n",
       "      <td>2012-03-12</td>\n",
       "      <td>2012-03-18</td>\n",
       "      <td>3</td>\n",
       "      <td>2</td>\n",
       "      <td>3</td>\n",
       "      <td>0</td>\n",
       "      <td>45</td>\n",
       "      <td>1</td>\n",
       "      <td>1</td>\n",
       "      <td>3</td>\n",
       "      <td>2</td>\n",
       "      <td>2.0</td>\n",
       "      <td>5.0</td>\n",
       "      <td>1</td>\n",
       "      <td>3</td>\n",
       "      <td>D</td>\n",
       "      <td>2</td>\n",
       "      <td>d4eee99d5c3238cdda52479fb34125e15208d394af34e7...</td>\n",
       "      <td>E</td>\n",
       "      <td>C</td>\n",
       "      <td>48449a14a4ff7d79bb7a1b6f3d488eba397c36ef25634c...</td>\n",
       "      <td>7.029715</td>\n",
       "      <td>6.0</td>\n",
       "      <td>-2210.0</td>\n",
       "    </tr>\n",
       "    <tr>\n",
       "      <th>60</th>\n",
       "      <td>2018-04-05</td>\n",
       "      <td>2012-03-24</td>\n",
       "      <td>2012-03-25</td>\n",
       "      <td>3</td>\n",
       "      <td>2</td>\n",
       "      <td>2</td>\n",
       "      <td>0</td>\n",
       "      <td>45</td>\n",
       "      <td>3</td>\n",
       "      <td>3</td>\n",
       "      <td>3</td>\n",
       "      <td>1</td>\n",
       "      <td>2.0</td>\n",
       "      <td>6.0</td>\n",
       "      <td>3</td>\n",
       "      <td>4</td>\n",
       "      <td>I</td>\n",
       "      <td>1</td>\n",
       "      <td>a24896d1582d8b6c0de997d8b7435962e33580ba80839d...</td>\n",
       "      <td>A</td>\n",
       "      <td>C</td>\n",
       "      <td>f5ca38f748a1d6eaf726b8a42fb575c3c71f1864a81433...</td>\n",
       "      <td>9.142010</td>\n",
       "      <td>1.0</td>\n",
       "      <td>-2203.0</td>\n",
       "    </tr>\n",
       "    <tr>\n",
       "      <th>79</th>\n",
       "      <td>2018-04-05</td>\n",
       "      <td>2012-03-21</td>\n",
       "      <td>2012-03-25</td>\n",
       "      <td>1</td>\n",
       "      <td>3</td>\n",
       "      <td>3</td>\n",
       "      <td>1</td>\n",
       "      <td>45</td>\n",
       "      <td>3</td>\n",
       "      <td>3</td>\n",
       "      <td>2</td>\n",
       "      <td>6</td>\n",
       "      <td>2.0</td>\n",
       "      <td>4.0</td>\n",
       "      <td>5</td>\n",
       "      <td>3</td>\n",
       "      <td>E</td>\n",
       "      <td>1</td>\n",
       "      <td>3bb1aa01c771c2217fe08bae162569a3177da7d09ae6be...</td>\n",
       "      <td>F</td>\n",
       "      <td>A</td>\n",
       "      <td>7902699be42c8a8e46fbbb4501726517e86b22c56a189f...</td>\n",
       "      <td>7.252902</td>\n",
       "      <td>4.0</td>\n",
       "      <td>-2206.0</td>\n",
       "    </tr>\n",
       "    <tr>\n",
       "      <th>81</th>\n",
       "      <td>2018-04-05</td>\n",
       "      <td>2012-03-23</td>\n",
       "      <td>2012-03-26</td>\n",
       "      <td>1</td>\n",
       "      <td>3</td>\n",
       "      <td>4</td>\n",
       "      <td>0</td>\n",
       "      <td>45</td>\n",
       "      <td>1</td>\n",
       "      <td>1</td>\n",
       "      <td>3</td>\n",
       "      <td>4</td>\n",
       "      <td>2.0</td>\n",
       "      <td>2.0</td>\n",
       "      <td>1</td>\n",
       "      <td>3</td>\n",
       "      <td>E</td>\n",
       "      <td>1</td>\n",
       "      <td>fa856d4dde8f88ed2855a74e2468cedd802ee253434a6c...</td>\n",
       "      <td>E</td>\n",
       "      <td>C</td>\n",
       "      <td>6b86b273ff34fce19d6b804eff5a3f5747ada4eaa22f1d...</td>\n",
       "      <td>7.229536</td>\n",
       "      <td>3.0</td>\n",
       "      <td>-2204.0</td>\n",
       "    </tr>\n",
       "    <tr>\n",
       "      <th>113</th>\n",
       "      <td>2018-04-06</td>\n",
       "      <td>2012-04-09</td>\n",
       "      <td>2012-04-11</td>\n",
       "      <td>1</td>\n",
       "      <td>2</td>\n",
       "      <td>3</td>\n",
       "      <td>1</td>\n",
       "      <td>45</td>\n",
       "      <td>1</td>\n",
       "      <td>2</td>\n",
       "      <td>2</td>\n",
       "      <td>4</td>\n",
       "      <td>3.0</td>\n",
       "      <td>1.0</td>\n",
       "      <td>11</td>\n",
       "      <td>6</td>\n",
       "      <td>D</td>\n",
       "      <td>1</td>\n",
       "      <td>c2eaeada5db1e75552e54382c408fe1c600679060b052c...</td>\n",
       "      <td>F</td>\n",
       "      <td>C</td>\n",
       "      <td>e29c9c180c6279b0b02abd6a1801c7c04082cf486ec027...</td>\n",
       "      <td>6.516391</td>\n",
       "      <td>2.0</td>\n",
       "      <td>-2188.0</td>\n",
       "    </tr>\n",
       "    <tr>\n",
       "      <th>116</th>\n",
       "      <td>2018-04-06</td>\n",
       "      <td>2012-04-14</td>\n",
       "      <td>2012-04-15</td>\n",
       "      <td>1</td>\n",
       "      <td>3</td>\n",
       "      <td>4</td>\n",
       "      <td>0</td>\n",
       "      <td>45</td>\n",
       "      <td>1</td>\n",
       "      <td>2</td>\n",
       "      <td>2</td>\n",
       "      <td>2</td>\n",
       "      <td>3.0</td>\n",
       "      <td>1.0</td>\n",
       "      <td>11</td>\n",
       "      <td>4</td>\n",
       "      <td>G</td>\n",
       "      <td>1</td>\n",
       "      <td>48a9cdd22b472fe4aa225acd45acdbe246de12fade4a59...</td>\n",
       "      <td>F</td>\n",
       "      <td>C</td>\n",
       "      <td>e29c9c180c6279b0b02abd6a1801c7c04082cf486ec027...</td>\n",
       "      <td>8.819591</td>\n",
       "      <td>1.0</td>\n",
       "      <td>-2183.0</td>\n",
       "    </tr>\n",
       "    <tr>\n",
       "      <th>129</th>\n",
       "      <td>2018-04-06</td>\n",
       "      <td>2012-04-19</td>\n",
       "      <td>2012-04-21</td>\n",
       "      <td>3</td>\n",
       "      <td>1</td>\n",
       "      <td>2</td>\n",
       "      <td>0</td>\n",
       "      <td>45</td>\n",
       "      <td>3</td>\n",
       "      <td>3</td>\n",
       "      <td>4</td>\n",
       "      <td>1</td>\n",
       "      <td>2.0</td>\n",
       "      <td>5.0</td>\n",
       "      <td>5</td>\n",
       "      <td>3</td>\n",
       "      <td>B</td>\n",
       "      <td>1</td>\n",
       "      <td>914d3756e6da218a071578d46a3a3c4fce3b773a1736cb...</td>\n",
       "      <td>F</td>\n",
       "      <td>C</td>\n",
       "      <td>39fa9ec190eee7b6f4dff1100d6343e10918d044c75eac...</td>\n",
       "      <td>8.246436</td>\n",
       "      <td>2.0</td>\n",
       "      <td>-2178.0</td>\n",
       "    </tr>\n",
       "    <tr>\n",
       "      <th>130</th>\n",
       "      <td>2018-04-06</td>\n",
       "      <td>2012-04-19</td>\n",
       "      <td>2012-04-21</td>\n",
       "      <td>3</td>\n",
       "      <td>1</td>\n",
       "      <td>2</td>\n",
       "      <td>0</td>\n",
       "      <td>45</td>\n",
       "      <td>3</td>\n",
       "      <td>3</td>\n",
       "      <td>4</td>\n",
       "      <td>1</td>\n",
       "      <td>2.0</td>\n",
       "      <td>5.0</td>\n",
       "      <td>5</td>\n",
       "      <td>3</td>\n",
       "      <td>B</td>\n",
       "      <td>1</td>\n",
       "      <td>914d3756e6da218a071578d46a3a3c4fce3b773a1736cb...</td>\n",
       "      <td>F</td>\n",
       "      <td>C</td>\n",
       "      <td>39fa9ec190eee7b6f4dff1100d6343e10918d044c75eac...</td>\n",
       "      <td>3.193578</td>\n",
       "      <td>2.0</td>\n",
       "      <td>-2178.0</td>\n",
       "    </tr>\n",
       "    <tr>\n",
       "      <th>147</th>\n",
       "      <td>2018-04-06</td>\n",
       "      <td>2012-04-22</td>\n",
       "      <td>2012-04-26</td>\n",
       "      <td>3</td>\n",
       "      <td>3</td>\n",
       "      <td>4</td>\n",
       "      <td>0</td>\n",
       "      <td>45</td>\n",
       "      <td>1</td>\n",
       "      <td>1</td>\n",
       "      <td>3</td>\n",
       "      <td>1</td>\n",
       "      <td>3.0</td>\n",
       "      <td>9.0</td>\n",
       "      <td>6</td>\n",
       "      <td>3</td>\n",
       "      <td>B</td>\n",
       "      <td>2</td>\n",
       "      <td>0beacf60d9f72cdfe3f4b8f1f439c605b9bc37ca3a3922...</td>\n",
       "      <td>F</td>\n",
       "      <td>A</td>\n",
       "      <td>b17ef6d19c7a5b1ee83b907c595526dcb1eb06db8227d6...</td>\n",
       "      <td>7.017013</td>\n",
       "      <td>4.0</td>\n",
       "      <td>-2175.0</td>\n",
       "    </tr>\n",
       "    <tr>\n",
       "      <th>149</th>\n",
       "      <td>2018-04-06</td>\n",
       "      <td>2012-04-23</td>\n",
       "      <td>2012-04-27</td>\n",
       "      <td>3</td>\n",
       "      <td>2</td>\n",
       "      <td>2</td>\n",
       "      <td>0</td>\n",
       "      <td>45</td>\n",
       "      <td>1</td>\n",
       "      <td>1</td>\n",
       "      <td>3</td>\n",
       "      <td>1</td>\n",
       "      <td>3.0</td>\n",
       "      <td>2.0</td>\n",
       "      <td>6</td>\n",
       "      <td>4</td>\n",
       "      <td>G</td>\n",
       "      <td>1</td>\n",
       "      <td>915bf9377544fa1d230e8f9c7165a11d399dd2f31b503f...</td>\n",
       "      <td>F</td>\n",
       "      <td>A</td>\n",
       "      <td>b17ef6d19c7a5b1ee83b907c595526dcb1eb06db8227d6...</td>\n",
       "      <td>7.358238</td>\n",
       "      <td>4.0</td>\n",
       "      <td>-2174.0</td>\n",
       "    </tr>\n",
       "    <tr>\n",
       "      <th>155</th>\n",
       "      <td>2018-04-06</td>\n",
       "      <td>2012-04-25</td>\n",
       "      <td>2012-04-27</td>\n",
       "      <td>3</td>\n",
       "      <td>2</td>\n",
       "      <td>2</td>\n",
       "      <td>0</td>\n",
       "      <td>46</td>\n",
       "      <td>2</td>\n",
       "      <td>1</td>\n",
       "      <td>3</td>\n",
       "      <td>2</td>\n",
       "      <td>2.0</td>\n",
       "      <td>8.0</td>\n",
       "      <td>7</td>\n",
       "      <td>2</td>\n",
       "      <td>C</td>\n",
       "      <td>1</td>\n",
       "      <td>e4eccd412e18eb24407adb37689502bb6fb0e8dc619b6a...</td>\n",
       "      <td>C</td>\n",
       "      <td>C</td>\n",
       "      <td>9400f1b21cb527d7fa3d3eabba93557a18ebe7a2ca4e47...</td>\n",
       "      <td>6.480814</td>\n",
       "      <td>2.0</td>\n",
       "      <td>-2172.0</td>\n",
       "    </tr>\n",
       "  </tbody>\n",
       "</table>\n",
       "</div>"
      ],
      "text/plain": [
       "    booking_date checkin_date checkout_date  channel_code  main_product_code  \\\n",
       "15    2018-04-05   2012-03-08    2012-03-11             3                  1   \n",
       "34    2018-03-31   2012-03-12    2012-03-18             3                  2   \n",
       "60    2018-04-05   2012-03-24    2012-03-25             3                  2   \n",
       "79    2018-04-05   2012-03-21    2012-03-25             1                  3   \n",
       "81    2018-04-05   2012-03-23    2012-03-26             1                  3   \n",
       "113   2018-04-06   2012-04-09    2012-04-11             1                  2   \n",
       "116   2018-04-06   2012-04-14    2012-04-15             1                  3   \n",
       "129   2018-04-06   2012-04-19    2012-04-21             3                  1   \n",
       "130   2018-04-06   2012-04-19    2012-04-21             3                  1   \n",
       "147   2018-04-06   2012-04-22    2012-04-26             3                  3   \n",
       "149   2018-04-06   2012-04-23    2012-04-27             3                  2   \n",
       "155   2018-04-06   2012-04-25    2012-04-27             3                  2   \n",
       "\n",
       "     numberofadults  numberofchildren  persontravellingid  resort_region_code  \\\n",
       "15                2                 0                  45                   1   \n",
       "34                3                 0                  45                   1   \n",
       "60                2                 0                  45                   3   \n",
       "79                3                 1                  45                   3   \n",
       "81                4                 0                  45                   1   \n",
       "113               3                 1                  45                   1   \n",
       "116               4                 0                  45                   1   \n",
       "129               2                 0                  45                   3   \n",
       "130               2                 0                  45                   3   \n",
       "147               4                 0                  45                   1   \n",
       "149               2                 0                  45                   1   \n",
       "155               2                 0                  46                   2   \n",
       "\n",
       "     resort_type_code  room_type_booked_code  roomnights  \\\n",
       "15                  1                      2           1   \n",
       "34                  1                      3           2   \n",
       "60                  3                      3           1   \n",
       "79                  3                      2           6   \n",
       "81                  1                      3           4   \n",
       "113                 2                      2           4   \n",
       "116                 2                      2           2   \n",
       "129                 3                      4           1   \n",
       "130                 3                      4           1   \n",
       "147                 1                      3           1   \n",
       "149                 1                      3           1   \n",
       "155                 1                      3           2   \n",
       "\n",
       "     season_holidayed_code  state_code_residence  state_code_resort  \\\n",
       "15                     3.0                   8.0                  6   \n",
       "34                     2.0                   5.0                  1   \n",
       "60                     2.0                   6.0                  3   \n",
       "79                     2.0                   4.0                  5   \n",
       "81                     2.0                   2.0                  1   \n",
       "113                    3.0                   1.0                 11   \n",
       "116                    3.0                   1.0                 11   \n",
       "129                    2.0                   5.0                  5   \n",
       "130                    2.0                   5.0                  5   \n",
       "147                    3.0                   9.0                  6   \n",
       "149                    3.0                   2.0                  6   \n",
       "155                    2.0                   8.0                  7   \n",
       "\n",
       "     total_pax member_age_buckets  booking_type_code  \\\n",
       "15           3                  H                  1   \n",
       "34           3                  D                  2   \n",
       "60           4                  I                  1   \n",
       "79           3                  E                  1   \n",
       "81           3                  E                  1   \n",
       "113          6                  D                  1   \n",
       "116          4                  G                  1   \n",
       "129          3                  B                  1   \n",
       "130          3                  B                  1   \n",
       "147          3                  B                  2   \n",
       "149          4                  G                  1   \n",
       "155          2                  C                  1   \n",
       "\n",
       "                                              memberid cluster_code  \\\n",
       "15   7b68caeb153ac83aeab0b9a679709c558d57a6c9d2bdf6...            F   \n",
       "34   d4eee99d5c3238cdda52479fb34125e15208d394af34e7...            E   \n",
       "60   a24896d1582d8b6c0de997d8b7435962e33580ba80839d...            A   \n",
       "79   3bb1aa01c771c2217fe08bae162569a3177da7d09ae6be...            F   \n",
       "81   fa856d4dde8f88ed2855a74e2468cedd802ee253434a6c...            E   \n",
       "113  c2eaeada5db1e75552e54382c408fe1c600679060b052c...            F   \n",
       "116  48a9cdd22b472fe4aa225acd45acdbe246de12fade4a59...            F   \n",
       "129  914d3756e6da218a071578d46a3a3c4fce3b773a1736cb...            F   \n",
       "130  914d3756e6da218a071578d46a3a3c4fce3b773a1736cb...            F   \n",
       "147  0beacf60d9f72cdfe3f4b8f1f439c605b9bc37ca3a3922...            F   \n",
       "149  915bf9377544fa1d230e8f9c7165a11d399dd2f31b503f...            F   \n",
       "155  e4eccd412e18eb24407adb37689502bb6fb0e8dc619b6a...            C   \n",
       "\n",
       "    reservationstatusid_code  \\\n",
       "15                         C   \n",
       "34                         C   \n",
       "60                         C   \n",
       "79                         A   \n",
       "81                         C   \n",
       "113                        C   \n",
       "116                        C   \n",
       "129                        C   \n",
       "130                        C   \n",
       "147                        A   \n",
       "149                        A   \n",
       "155                        C   \n",
       "\n",
       "                                             resort_id  \\\n",
       "15   49d180ecf56132819571bf39d9b7b342522a2ac6d23c14...   \n",
       "34   48449a14a4ff7d79bb7a1b6f3d488eba397c36ef25634c...   \n",
       "60   f5ca38f748a1d6eaf726b8a42fb575c3c71f1864a81433...   \n",
       "79   7902699be42c8a8e46fbbb4501726517e86b22c56a189f...   \n",
       "81   6b86b273ff34fce19d6b804eff5a3f5747ada4eaa22f1d...   \n",
       "113  e29c9c180c6279b0b02abd6a1801c7c04082cf486ec027...   \n",
       "116  e29c9c180c6279b0b02abd6a1801c7c04082cf486ec027...   \n",
       "129  39fa9ec190eee7b6f4dff1100d6343e10918d044c75eac...   \n",
       "130  39fa9ec190eee7b6f4dff1100d6343e10918d044c75eac...   \n",
       "147  b17ef6d19c7a5b1ee83b907c595526dcb1eb06db8227d6...   \n",
       "149  b17ef6d19c7a5b1ee83b907c595526dcb1eb06db8227d6...   \n",
       "155  9400f1b21cb527d7fa3d3eabba93557a18ebe7a2ca4e47...   \n",
       "\n",
       "     amount_spent_per_room_night_scaled  days_stayed  booking_to_checkin  \n",
       "15                             3.218876          3.0             -2219.0  \n",
       "34                             7.029715          6.0             -2210.0  \n",
       "60                             9.142010          1.0             -2203.0  \n",
       "79                             7.252902          4.0             -2206.0  \n",
       "81                             7.229536          3.0             -2204.0  \n",
       "113                            6.516391          2.0             -2188.0  \n",
       "116                            8.819591          1.0             -2183.0  \n",
       "129                            8.246436          2.0             -2178.0  \n",
       "130                            3.193578          2.0             -2178.0  \n",
       "147                            7.017013          4.0             -2175.0  \n",
       "149                            7.358238          4.0             -2174.0  \n",
       "155                            6.480814          2.0             -2172.0  "
      ]
     },
     "execution_count": 21,
     "metadata": {},
     "output_type": "execute_result"
    }
   ],
   "source": [
    "train[train['booking_to_checkin']<0]"
   ]
  },
  {
   "cell_type": "code",
   "execution_count": 22,
   "metadata": {},
   "outputs": [
    {
     "name": "stdout",
     "output_type": "stream",
     "text": [
      "Int64Index([41, 57], dtype='int64')\n"
     ]
    }
   ],
   "source": [
    "print(test[test['booking_to_checkin']<0].index)"
   ]
  },
  {
   "cell_type": "code",
   "execution_count": 23,
   "metadata": {
    "scrolled": true
   },
   "outputs": [
    {
     "data": {
      "text/plain": [
       "Int64Index([15, 34, 60, 79, 81, 113, 116, 129, 130, 147, 149, 155], dtype='int64')"
      ]
     },
     "execution_count": 23,
     "metadata": {},
     "output_type": "execute_result"
    }
   ],
   "source": [
    "train[train['booking_to_checkin']<0].index"
   ]
  },
  {
   "cell_type": "code",
   "execution_count": 24,
   "metadata": {},
   "outputs": [
    {
     "data": {
      "text/plain": [
       "array([41, 57], dtype=int64)"
      ]
     },
     "execution_count": 24,
     "metadata": {},
     "output_type": "execute_result"
    }
   ],
   "source": [
    "test[test['booking_to_checkin']<0].index.values"
   ]
  },
  {
   "cell_type": "code",
   "execution_count": 25,
   "metadata": {
    "scrolled": false
   },
   "outputs": [
    {
     "data": {
      "text/html": [
       "<div>\n",
       "<style scoped>\n",
       "    .dataframe tbody tr th:only-of-type {\n",
       "        vertical-align: middle;\n",
       "    }\n",
       "\n",
       "    .dataframe tbody tr th {\n",
       "        vertical-align: top;\n",
       "    }\n",
       "\n",
       "    .dataframe thead th {\n",
       "        text-align: right;\n",
       "    }\n",
       "</style>\n",
       "<table border=\"1\" class=\"dataframe\">\n",
       "  <thead>\n",
       "    <tr style=\"text-align: right;\">\n",
       "      <th></th>\n",
       "      <th>booking_date</th>\n",
       "      <th>checkin_date</th>\n",
       "    </tr>\n",
       "  </thead>\n",
       "  <tbody>\n",
       "    <tr>\n",
       "      <th>15</th>\n",
       "      <td>2018-04-05</td>\n",
       "      <td>2012-03-08</td>\n",
       "    </tr>\n",
       "    <tr>\n",
       "      <th>34</th>\n",
       "      <td>2018-03-31</td>\n",
       "      <td>2012-03-12</td>\n",
       "    </tr>\n",
       "    <tr>\n",
       "      <th>60</th>\n",
       "      <td>2018-04-05</td>\n",
       "      <td>2012-03-24</td>\n",
       "    </tr>\n",
       "    <tr>\n",
       "      <th>79</th>\n",
       "      <td>2018-04-05</td>\n",
       "      <td>2012-03-21</td>\n",
       "    </tr>\n",
       "    <tr>\n",
       "      <th>81</th>\n",
       "      <td>2018-04-05</td>\n",
       "      <td>2012-03-23</td>\n",
       "    </tr>\n",
       "    <tr>\n",
       "      <th>113</th>\n",
       "      <td>2018-04-06</td>\n",
       "      <td>2012-04-09</td>\n",
       "    </tr>\n",
       "    <tr>\n",
       "      <th>116</th>\n",
       "      <td>2018-04-06</td>\n",
       "      <td>2012-04-14</td>\n",
       "    </tr>\n",
       "    <tr>\n",
       "      <th>129</th>\n",
       "      <td>2018-04-06</td>\n",
       "      <td>2012-04-19</td>\n",
       "    </tr>\n",
       "    <tr>\n",
       "      <th>130</th>\n",
       "      <td>2018-04-06</td>\n",
       "      <td>2012-04-19</td>\n",
       "    </tr>\n",
       "    <tr>\n",
       "      <th>147</th>\n",
       "      <td>2018-04-06</td>\n",
       "      <td>2012-04-22</td>\n",
       "    </tr>\n",
       "    <tr>\n",
       "      <th>149</th>\n",
       "      <td>2018-04-06</td>\n",
       "      <td>2012-04-23</td>\n",
       "    </tr>\n",
       "    <tr>\n",
       "      <th>155</th>\n",
       "      <td>2018-04-06</td>\n",
       "      <td>2012-04-25</td>\n",
       "    </tr>\n",
       "  </tbody>\n",
       "</table>\n",
       "</div>"
      ],
      "text/plain": [
       "    booking_date checkin_date\n",
       "15    2018-04-05   2012-03-08\n",
       "34    2018-03-31   2012-03-12\n",
       "60    2018-04-05   2012-03-24\n",
       "79    2018-04-05   2012-03-21\n",
       "81    2018-04-05   2012-03-23\n",
       "113   2018-04-06   2012-04-09\n",
       "116   2018-04-06   2012-04-14\n",
       "129   2018-04-06   2012-04-19\n",
       "130   2018-04-06   2012-04-19\n",
       "147   2018-04-06   2012-04-22\n",
       "149   2018-04-06   2012-04-23\n",
       "155   2018-04-06   2012-04-25"
      ]
     },
     "execution_count": 25,
     "metadata": {},
     "output_type": "execute_result"
    }
   ],
   "source": [
    "train.loc[train[train['booking_to_checkin']<0].index.values,['booking_date','checkin_date']]"
   ]
  },
  {
   "cell_type": "code",
   "execution_count": 26,
   "metadata": {},
   "outputs": [
    {
     "data": {
      "text/plain": [
       "0        2018-04-05\n",
       "1        2015-04-11\n",
       "2        2015-02-01\n",
       "3        2015-06-11\n",
       "4        2015-12-14\n",
       "            ...    \n",
       "341419   2019-02-27\n",
       "341420   2019-02-28\n",
       "341421   2019-02-27\n",
       "341422   2019-02-28\n",
       "341423   2019-03-01\n",
       "Name: checkin_date, Length: 341424, dtype: datetime64[ns]"
      ]
     },
     "execution_count": 26,
     "metadata": {},
     "output_type": "execute_result"
    }
   ],
   "source": [
    "train['checkin_date']"
   ]
  },
  {
   "cell_type": "code",
   "execution_count": 35,
   "metadata": {},
   "outputs": [],
   "source": [
    "#train[train['booking_to_checkin']<0]['booking_date']=train['checkin_date']\n",
    "train.loc[train[train['booking_to_checkin']<0].index.values,['booking_date']]=np.nan"
   ]
  },
  {
   "cell_type": "code",
   "execution_count": 41,
   "metadata": {},
   "outputs": [],
   "source": [
    "train['booking_date']=train['booking_date'].fillna(train['checkin_date'])"
   ]
  },
  {
   "cell_type": "code",
   "execution_count": 36,
   "metadata": {},
   "outputs": [],
   "source": [
    "test.loc[test[test['booking_to_checkin']<0].index.values,['booking_date']]=np.nan\n",
    "#test[test['booking_to_checkin']<0]['booking_date']=test[test['booking_to_checkin']<0]['checkin_date']"
   ]
  },
  {
   "cell_type": "code",
   "execution_count": 42,
   "metadata": {},
   "outputs": [],
   "source": [
    "test['booking_date']=test['booking_date'].fillna(test['checkin_date'])"
   ]
  },
  {
   "cell_type": "code",
   "execution_count": 33,
   "metadata": {},
   "outputs": [
    {
     "data": {
      "text/html": [
       "<div>\n",
       "<style scoped>\n",
       "    .dataframe tbody tr th:only-of-type {\n",
       "        vertical-align: middle;\n",
       "    }\n",
       "\n",
       "    .dataframe tbody tr th {\n",
       "        vertical-align: top;\n",
       "    }\n",
       "\n",
       "    .dataframe thead th {\n",
       "        text-align: right;\n",
       "    }\n",
       "</style>\n",
       "<table border=\"1\" class=\"dataframe\">\n",
       "  <thead>\n",
       "    <tr style=\"text-align: right;\">\n",
       "      <th></th>\n",
       "      <th>booking_date</th>\n",
       "      <th>checkin_date</th>\n",
       "      <th>checkout_date</th>\n",
       "      <th>channel_code</th>\n",
       "      <th>main_product_code</th>\n",
       "      <th>numberofadults</th>\n",
       "      <th>numberofchildren</th>\n",
       "      <th>persontravellingid</th>\n",
       "      <th>resort_region_code</th>\n",
       "      <th>resort_type_code</th>\n",
       "      <th>room_type_booked_code</th>\n",
       "      <th>roomnights</th>\n",
       "      <th>season_holidayed_code</th>\n",
       "      <th>state_code_residence</th>\n",
       "      <th>state_code_resort</th>\n",
       "      <th>total_pax</th>\n",
       "      <th>member_age_buckets</th>\n",
       "      <th>booking_type_code</th>\n",
       "      <th>memberid</th>\n",
       "      <th>cluster_code</th>\n",
       "      <th>reservationstatusid_code</th>\n",
       "      <th>resort_id</th>\n",
       "      <th>amount_spent_per_room_night_scaled</th>\n",
       "      <th>days_stayed</th>\n",
       "      <th>booking_to_checkin</th>\n",
       "    </tr>\n",
       "  </thead>\n",
       "  <tbody>\n",
       "    <tr>\n",
       "      <th>0</th>\n",
       "      <td>2018-04-05</td>\n",
       "      <td>2018-04-05</td>\n",
       "      <td>2018-04-06</td>\n",
       "      <td>3</td>\n",
       "      <td>1</td>\n",
       "      <td>2</td>\n",
       "      <td>0</td>\n",
       "      <td>46</td>\n",
       "      <td>3</td>\n",
       "      <td>3</td>\n",
       "      <td>3</td>\n",
       "      <td>1</td>\n",
       "      <td>2.0</td>\n",
       "      <td>7.0</td>\n",
       "      <td>3</td>\n",
       "      <td>3</td>\n",
       "      <td>F</td>\n",
       "      <td>1</td>\n",
       "      <td>3d1539e56495b6991f0a3ef5a61ca3d03ce4fff7380e9a...</td>\n",
       "      <td>F</td>\n",
       "      <td>C</td>\n",
       "      <td>4e07408562bedb8b60ce05c1decfe3ad16b72230967de0...</td>\n",
       "      <td>7.706428</td>\n",
       "      <td>1.0</td>\n",
       "      <td>0.0</td>\n",
       "    </tr>\n",
       "    <tr>\n",
       "      <th>1</th>\n",
       "      <td>2015-01-23</td>\n",
       "      <td>2015-04-11</td>\n",
       "      <td>2015-04-16</td>\n",
       "      <td>1</td>\n",
       "      <td>1</td>\n",
       "      <td>2</td>\n",
       "      <td>0</td>\n",
       "      <td>46</td>\n",
       "      <td>3</td>\n",
       "      <td>3</td>\n",
       "      <td>4</td>\n",
       "      <td>5</td>\n",
       "      <td>2.0</td>\n",
       "      <td>7.0</td>\n",
       "      <td>5</td>\n",
       "      <td>2</td>\n",
       "      <td>F</td>\n",
       "      <td>1</td>\n",
       "      <td>3d1539e56495b6991f0a3ef5a61ca3d03ce4fff7380e9a...</td>\n",
       "      <td>F</td>\n",
       "      <td>A</td>\n",
       "      <td>39fa9ec190eee7b6f4dff1100d6343e10918d044c75eac...</td>\n",
       "      <td>6.662563</td>\n",
       "      <td>5.0</td>\n",
       "      <td>78.0</td>\n",
       "    </tr>\n",
       "    <tr>\n",
       "      <th>2</th>\n",
       "      <td>2015-01-28</td>\n",
       "      <td>2015-02-01</td>\n",
       "      <td>2015-02-05</td>\n",
       "      <td>1</td>\n",
       "      <td>1</td>\n",
       "      <td>2</td>\n",
       "      <td>0</td>\n",
       "      <td>47</td>\n",
       "      <td>1</td>\n",
       "      <td>5</td>\n",
       "      <td>4</td>\n",
       "      <td>4</td>\n",
       "      <td>2.0</td>\n",
       "      <td>7.0</td>\n",
       "      <td>1</td>\n",
       "      <td>2</td>\n",
       "      <td>F</td>\n",
       "      <td>1</td>\n",
       "      <td>3d1539e56495b6991f0a3ef5a61ca3d03ce4fff7380e9a...</td>\n",
       "      <td>E</td>\n",
       "      <td>A</td>\n",
       "      <td>535fa30d7e25dd8a49f1536779734ec8286108d115da50...</td>\n",
       "      <td>7.871602</td>\n",
       "      <td>4.0</td>\n",
       "      <td>4.0</td>\n",
       "    </tr>\n",
       "    <tr>\n",
       "      <th>3</th>\n",
       "      <td>2015-05-02</td>\n",
       "      <td>2015-06-11</td>\n",
       "      <td>2015-06-16</td>\n",
       "      <td>1</td>\n",
       "      <td>1</td>\n",
       "      <td>2</td>\n",
       "      <td>2</td>\n",
       "      <td>46</td>\n",
       "      <td>2</td>\n",
       "      <td>2</td>\n",
       "      <td>3</td>\n",
       "      <td>5</td>\n",
       "      <td>2.0</td>\n",
       "      <td>7.0</td>\n",
       "      <td>2</td>\n",
       "      <td>2</td>\n",
       "      <td>F</td>\n",
       "      <td>1</td>\n",
       "      <td>3d1539e56495b6991f0a3ef5a61ca3d03ce4fff7380e9a...</td>\n",
       "      <td>D</td>\n",
       "      <td>A</td>\n",
       "      <td>d4735e3a265e16eee03f59718b9b5d03019c07d8b6c51f...</td>\n",
       "      <td>5.344943</td>\n",
       "      <td>5.0</td>\n",
       "      <td>40.0</td>\n",
       "    </tr>\n",
       "    <tr>\n",
       "      <th>4</th>\n",
       "      <td>2015-09-02</td>\n",
       "      <td>2015-12-14</td>\n",
       "      <td>2015-12-19</td>\n",
       "      <td>1</td>\n",
       "      <td>1</td>\n",
       "      <td>2</td>\n",
       "      <td>0</td>\n",
       "      <td>46</td>\n",
       "      <td>2</td>\n",
       "      <td>2</td>\n",
       "      <td>4</td>\n",
       "      <td>5</td>\n",
       "      <td>2.0</td>\n",
       "      <td>7.0</td>\n",
       "      <td>2</td>\n",
       "      <td>2</td>\n",
       "      <td>F</td>\n",
       "      <td>1</td>\n",
       "      <td>3d1539e56495b6991f0a3ef5a61ca3d03ce4fff7380e9a...</td>\n",
       "      <td>D</td>\n",
       "      <td>A</td>\n",
       "      <td>d4735e3a265e16eee03f59718b9b5d03019c07d8b6c51f...</td>\n",
       "      <td>7.059346</td>\n",
       "      <td>5.0</td>\n",
       "      <td>103.0</td>\n",
       "    </tr>\n",
       "  </tbody>\n",
       "</table>\n",
       "</div>"
      ],
      "text/plain": [
       "  booking_date checkin_date checkout_date  channel_code  main_product_code  \\\n",
       "0   2018-04-05   2018-04-05    2018-04-06             3                  1   \n",
       "1   2015-01-23   2015-04-11    2015-04-16             1                  1   \n",
       "2   2015-01-28   2015-02-01    2015-02-05             1                  1   \n",
       "3   2015-05-02   2015-06-11    2015-06-16             1                  1   \n",
       "4   2015-09-02   2015-12-14    2015-12-19             1                  1   \n",
       "\n",
       "   numberofadults  numberofchildren  persontravellingid  resort_region_code  \\\n",
       "0               2                 0                  46                   3   \n",
       "1               2                 0                  46                   3   \n",
       "2               2                 0                  47                   1   \n",
       "3               2                 2                  46                   2   \n",
       "4               2                 0                  46                   2   \n",
       "\n",
       "   resort_type_code  room_type_booked_code  roomnights  season_holidayed_code  \\\n",
       "0                 3                      3           1                    2.0   \n",
       "1                 3                      4           5                    2.0   \n",
       "2                 5                      4           4                    2.0   \n",
       "3                 2                      3           5                    2.0   \n",
       "4                 2                      4           5                    2.0   \n",
       "\n",
       "   state_code_residence  state_code_resort  total_pax member_age_buckets  \\\n",
       "0                   7.0                  3          3                  F   \n",
       "1                   7.0                  5          2                  F   \n",
       "2                   7.0                  1          2                  F   \n",
       "3                   7.0                  2          2                  F   \n",
       "4                   7.0                  2          2                  F   \n",
       "\n",
       "   booking_type_code                                           memberid  \\\n",
       "0                  1  3d1539e56495b6991f0a3ef5a61ca3d03ce4fff7380e9a...   \n",
       "1                  1  3d1539e56495b6991f0a3ef5a61ca3d03ce4fff7380e9a...   \n",
       "2                  1  3d1539e56495b6991f0a3ef5a61ca3d03ce4fff7380e9a...   \n",
       "3                  1  3d1539e56495b6991f0a3ef5a61ca3d03ce4fff7380e9a...   \n",
       "4                  1  3d1539e56495b6991f0a3ef5a61ca3d03ce4fff7380e9a...   \n",
       "\n",
       "  cluster_code reservationstatusid_code  \\\n",
       "0            F                        C   \n",
       "1            F                        A   \n",
       "2            E                        A   \n",
       "3            D                        A   \n",
       "4            D                        A   \n",
       "\n",
       "                                           resort_id  \\\n",
       "0  4e07408562bedb8b60ce05c1decfe3ad16b72230967de0...   \n",
       "1  39fa9ec190eee7b6f4dff1100d6343e10918d044c75eac...   \n",
       "2  535fa30d7e25dd8a49f1536779734ec8286108d115da50...   \n",
       "3  d4735e3a265e16eee03f59718b9b5d03019c07d8b6c51f...   \n",
       "4  d4735e3a265e16eee03f59718b9b5d03019c07d8b6c51f...   \n",
       "\n",
       "   amount_spent_per_room_night_scaled  days_stayed  booking_to_checkin  \n",
       "0                            7.706428          1.0                 0.0  \n",
       "1                            6.662563          5.0                78.0  \n",
       "2                            7.871602          4.0                 4.0  \n",
       "3                            5.344943          5.0                40.0  \n",
       "4                            7.059346          5.0               103.0  "
      ]
     },
     "execution_count": 33,
     "metadata": {},
     "output_type": "execute_result"
    }
   ],
   "source": [
    "train.head()"
   ]
  },
  {
   "cell_type": "code",
   "execution_count": 43,
   "metadata": {
    "scrolled": true
   },
   "outputs": [
    {
     "data": {
      "text/html": [
       "<div>\n",
       "<style scoped>\n",
       "    .dataframe tbody tr th:only-of-type {\n",
       "        vertical-align: middle;\n",
       "    }\n",
       "\n",
       "    .dataframe tbody tr th {\n",
       "        vertical-align: top;\n",
       "    }\n",
       "\n",
       "    .dataframe thead th {\n",
       "        text-align: right;\n",
       "    }\n",
       "</style>\n",
       "<table border=\"1\" class=\"dataframe\">\n",
       "  <thead>\n",
       "    <tr style=\"text-align: right;\">\n",
       "      <th></th>\n",
       "      <th>booking_date</th>\n",
       "      <th>checkin_date</th>\n",
       "    </tr>\n",
       "  </thead>\n",
       "  <tbody>\n",
       "    <tr>\n",
       "      <th>1</th>\n",
       "      <td>2015-01-23</td>\n",
       "      <td>2015-04-11</td>\n",
       "    </tr>\n",
       "    <tr>\n",
       "      <th>15</th>\n",
       "      <td>2012-03-08</td>\n",
       "      <td>2012-03-08</td>\n",
       "    </tr>\n",
       "    <tr>\n",
       "      <th>34</th>\n",
       "      <td>2012-03-12</td>\n",
       "      <td>2012-03-12</td>\n",
       "    </tr>\n",
       "    <tr>\n",
       "      <th>60</th>\n",
       "      <td>2012-03-24</td>\n",
       "      <td>2012-03-24</td>\n",
       "    </tr>\n",
       "    <tr>\n",
       "      <th>79</th>\n",
       "      <td>2012-03-21</td>\n",
       "      <td>2012-03-21</td>\n",
       "    </tr>\n",
       "    <tr>\n",
       "      <th>81</th>\n",
       "      <td>2012-03-23</td>\n",
       "      <td>2012-03-23</td>\n",
       "    </tr>\n",
       "    <tr>\n",
       "      <th>113</th>\n",
       "      <td>2012-04-09</td>\n",
       "      <td>2012-04-09</td>\n",
       "    </tr>\n",
       "    <tr>\n",
       "      <th>116</th>\n",
       "      <td>2012-04-14</td>\n",
       "      <td>2012-04-14</td>\n",
       "    </tr>\n",
       "    <tr>\n",
       "      <th>129</th>\n",
       "      <td>2012-04-19</td>\n",
       "      <td>2012-04-19</td>\n",
       "    </tr>\n",
       "    <tr>\n",
       "      <th>130</th>\n",
       "      <td>2012-04-19</td>\n",
       "      <td>2012-04-19</td>\n",
       "    </tr>\n",
       "    <tr>\n",
       "      <th>147</th>\n",
       "      <td>2012-04-22</td>\n",
       "      <td>2012-04-22</td>\n",
       "    </tr>\n",
       "    <tr>\n",
       "      <th>149</th>\n",
       "      <td>2012-04-23</td>\n",
       "      <td>2012-04-23</td>\n",
       "    </tr>\n",
       "    <tr>\n",
       "      <th>155</th>\n",
       "      <td>2012-04-25</td>\n",
       "      <td>2012-04-25</td>\n",
       "    </tr>\n",
       "  </tbody>\n",
       "</table>\n",
       "</div>"
      ],
      "text/plain": [
       "    booking_date checkin_date\n",
       "1     2015-01-23   2015-04-11\n",
       "15    2012-03-08   2012-03-08\n",
       "34    2012-03-12   2012-03-12\n",
       "60    2012-03-24   2012-03-24\n",
       "79    2012-03-21   2012-03-21\n",
       "81    2012-03-23   2012-03-23\n",
       "113   2012-04-09   2012-04-09\n",
       "116   2012-04-14   2012-04-14\n",
       "129   2012-04-19   2012-04-19\n",
       "130   2012-04-19   2012-04-19\n",
       "147   2012-04-22   2012-04-22\n",
       "149   2012-04-23   2012-04-23\n",
       "155   2012-04-25   2012-04-25"
      ]
     },
     "execution_count": 43,
     "metadata": {},
     "output_type": "execute_result"
    }
   ],
   "source": [
    "train.loc[[1,15, 34, 60, 79, 81, 113, 116, 129, 130, 147, 149, 155],['booking_date','checkin_date']]"
   ]
  },
  {
   "cell_type": "code",
   "execution_count": 44,
   "metadata": {
    "scrolled": true
   },
   "outputs": [
    {
     "data": {
      "text/plain": [
       "0        2018-04-05\n",
       "1        2015-01-23\n",
       "2        2015-01-28\n",
       "3        2015-05-02\n",
       "4        2015-09-02\n",
       "            ...    \n",
       "341419   2019-02-11\n",
       "341420   2019-02-27\n",
       "341421   2019-02-27\n",
       "341422   2019-02-27\n",
       "341423   2019-02-28\n",
       "Name: booking_date, Length: 341424, dtype: datetime64[ns]"
      ]
     },
     "execution_count": 44,
     "metadata": {},
     "output_type": "execute_result"
    }
   ],
   "source": [
    "train['booking_date']"
   ]
  },
  {
   "cell_type": "code",
   "execution_count": 45,
   "metadata": {
    "scrolled": false
   },
   "outputs": [],
   "source": [
    "train.loc[[15, 34, 60, 79, 81, 113, 116, 129, 130, 147, 149, 155],['booking_to_checkin']]=(train['checkin_date']-train['booking_date'])/np.timedelta64(1,'D')"
   ]
  },
  {
   "cell_type": "code",
   "execution_count": 46,
   "metadata": {},
   "outputs": [],
   "source": [
    "test.loc[[41, 57],['booking_to_checkin']]=(test['checkin_date']-test['booking_date'])/np.timedelta64(1,'D')"
   ]
  },
  {
   "cell_type": "code",
   "execution_count": 47,
   "metadata": {
    "scrolled": true
   },
   "outputs": [
    {
     "data": {
      "text/plain": [
       "(-0.127, 25.2]    148159\n",
       "(25.2, 50.4]       60531\n",
       "(75.6, 100.8]      54841\n",
       "(100.8, 126.0]     39764\n",
       "(50.4, 75.6]       38129\n",
       "Name: booking_to_checkin, dtype: int64"
      ]
     },
     "execution_count": 47,
     "metadata": {},
     "output_type": "execute_result"
    }
   ],
   "source": [
    "train['booking_to_checkin'].value_counts(bins=5)"
   ]
  },
  {
   "cell_type": "code",
   "execution_count": 48,
   "metadata": {
    "scrolled": true
   },
   "outputs": [
    {
     "data": {
      "text/plain": [
       "0.0"
      ]
     },
     "execution_count": 48,
     "metadata": {},
     "output_type": "execute_result"
    }
   ],
   "source": [
    "train['booking_to_checkin'].min()"
   ]
  },
  {
   "cell_type": "code",
   "execution_count": 49,
   "metadata": {
    "scrolled": true
   },
   "outputs": [
    {
     "name": "stdout",
     "output_type": "stream",
     "text": [
      "0     4\n",
      "1     4\n",
      "2     2\n",
      "3     6\n",
      "4    12\n",
      "Name: month_of_checkin, dtype: int64\n",
      "0     4\n",
      "1     6\n",
      "2     8\n",
      "3    10\n",
      "4    10\n",
      "Name: month_of_checkin, dtype: int64\n"
     ]
    }
   ],
   "source": [
    "#train['month_of_checkin'] = pd.to_datetime(train['checkin_date']).dt.to_period('M')\n",
    "train['month_of_checkin'] = pd.DatetimeIndex(train['checkin_date']).month\n",
    "print(train['month_of_checkin'].head())\n",
    "test['month_of_checkin'] = pd.DatetimeIndex(test['checkin_date']).month\n",
    "print(test['month_of_checkin'].head())"
   ]
  },
  {
   "cell_type": "code",
   "execution_count": 50,
   "metadata": {},
   "outputs": [],
   "source": [
    "train=train.drop(['checkin_date','checkout_date','booking_date'],axis=1)\n",
    "test=test.drop(['checkin_date','checkout_date','booking_date'],axis=1)"
   ]
  },
  {
   "cell_type": "code",
   "execution_count": 51,
   "metadata": {},
   "outputs": [
    {
     "data": {
      "text/html": [
       "<div>\n",
       "<style scoped>\n",
       "    .dataframe tbody tr th:only-of-type {\n",
       "        vertical-align: middle;\n",
       "    }\n",
       "\n",
       "    .dataframe tbody tr th {\n",
       "        vertical-align: top;\n",
       "    }\n",
       "\n",
       "    .dataframe thead th {\n",
       "        text-align: right;\n",
       "    }\n",
       "</style>\n",
       "<table border=\"1\" class=\"dataframe\">\n",
       "  <thead>\n",
       "    <tr style=\"text-align: right;\">\n",
       "      <th></th>\n",
       "      <th>channel_code</th>\n",
       "      <th>main_product_code</th>\n",
       "      <th>numberofadults</th>\n",
       "      <th>numberofchildren</th>\n",
       "      <th>persontravellingid</th>\n",
       "      <th>resort_region_code</th>\n",
       "      <th>resort_type_code</th>\n",
       "      <th>room_type_booked_code</th>\n",
       "      <th>roomnights</th>\n",
       "      <th>season_holidayed_code</th>\n",
       "      <th>state_code_residence</th>\n",
       "      <th>state_code_resort</th>\n",
       "      <th>total_pax</th>\n",
       "      <th>member_age_buckets</th>\n",
       "      <th>booking_type_code</th>\n",
       "      <th>memberid</th>\n",
       "      <th>cluster_code</th>\n",
       "      <th>reservationstatusid_code</th>\n",
       "      <th>resort_id</th>\n",
       "      <th>amount_spent_per_room_night_scaled</th>\n",
       "      <th>days_stayed</th>\n",
       "      <th>booking_to_checkin</th>\n",
       "      <th>month_of_checkin</th>\n",
       "    </tr>\n",
       "  </thead>\n",
       "  <tbody>\n",
       "    <tr>\n",
       "      <th>0</th>\n",
       "      <td>3</td>\n",
       "      <td>1</td>\n",
       "      <td>2</td>\n",
       "      <td>0</td>\n",
       "      <td>46</td>\n",
       "      <td>3</td>\n",
       "      <td>3</td>\n",
       "      <td>3</td>\n",
       "      <td>1</td>\n",
       "      <td>2.0</td>\n",
       "      <td>7.0</td>\n",
       "      <td>3</td>\n",
       "      <td>3</td>\n",
       "      <td>F</td>\n",
       "      <td>1</td>\n",
       "      <td>3d1539e56495b6991f0a3ef5a61ca3d03ce4fff7380e9a...</td>\n",
       "      <td>F</td>\n",
       "      <td>C</td>\n",
       "      <td>4e07408562bedb8b60ce05c1decfe3ad16b72230967de0...</td>\n",
       "      <td>7.706428</td>\n",
       "      <td>1.0</td>\n",
       "      <td>0.0</td>\n",
       "      <td>4</td>\n",
       "    </tr>\n",
       "    <tr>\n",
       "      <th>1</th>\n",
       "      <td>1</td>\n",
       "      <td>1</td>\n",
       "      <td>2</td>\n",
       "      <td>0</td>\n",
       "      <td>46</td>\n",
       "      <td>3</td>\n",
       "      <td>3</td>\n",
       "      <td>4</td>\n",
       "      <td>5</td>\n",
       "      <td>2.0</td>\n",
       "      <td>7.0</td>\n",
       "      <td>5</td>\n",
       "      <td>2</td>\n",
       "      <td>F</td>\n",
       "      <td>1</td>\n",
       "      <td>3d1539e56495b6991f0a3ef5a61ca3d03ce4fff7380e9a...</td>\n",
       "      <td>F</td>\n",
       "      <td>A</td>\n",
       "      <td>39fa9ec190eee7b6f4dff1100d6343e10918d044c75eac...</td>\n",
       "      <td>6.662563</td>\n",
       "      <td>5.0</td>\n",
       "      <td>78.0</td>\n",
       "      <td>4</td>\n",
       "    </tr>\n",
       "    <tr>\n",
       "      <th>2</th>\n",
       "      <td>1</td>\n",
       "      <td>1</td>\n",
       "      <td>2</td>\n",
       "      <td>0</td>\n",
       "      <td>47</td>\n",
       "      <td>1</td>\n",
       "      <td>5</td>\n",
       "      <td>4</td>\n",
       "      <td>4</td>\n",
       "      <td>2.0</td>\n",
       "      <td>7.0</td>\n",
       "      <td>1</td>\n",
       "      <td>2</td>\n",
       "      <td>F</td>\n",
       "      <td>1</td>\n",
       "      <td>3d1539e56495b6991f0a3ef5a61ca3d03ce4fff7380e9a...</td>\n",
       "      <td>E</td>\n",
       "      <td>A</td>\n",
       "      <td>535fa30d7e25dd8a49f1536779734ec8286108d115da50...</td>\n",
       "      <td>7.871602</td>\n",
       "      <td>4.0</td>\n",
       "      <td>4.0</td>\n",
       "      <td>2</td>\n",
       "    </tr>\n",
       "    <tr>\n",
       "      <th>3</th>\n",
       "      <td>1</td>\n",
       "      <td>1</td>\n",
       "      <td>2</td>\n",
       "      <td>2</td>\n",
       "      <td>46</td>\n",
       "      <td>2</td>\n",
       "      <td>2</td>\n",
       "      <td>3</td>\n",
       "      <td>5</td>\n",
       "      <td>2.0</td>\n",
       "      <td>7.0</td>\n",
       "      <td>2</td>\n",
       "      <td>2</td>\n",
       "      <td>F</td>\n",
       "      <td>1</td>\n",
       "      <td>3d1539e56495b6991f0a3ef5a61ca3d03ce4fff7380e9a...</td>\n",
       "      <td>D</td>\n",
       "      <td>A</td>\n",
       "      <td>d4735e3a265e16eee03f59718b9b5d03019c07d8b6c51f...</td>\n",
       "      <td>5.344943</td>\n",
       "      <td>5.0</td>\n",
       "      <td>40.0</td>\n",
       "      <td>6</td>\n",
       "    </tr>\n",
       "    <tr>\n",
       "      <th>4</th>\n",
       "      <td>1</td>\n",
       "      <td>1</td>\n",
       "      <td>2</td>\n",
       "      <td>0</td>\n",
       "      <td>46</td>\n",
       "      <td>2</td>\n",
       "      <td>2</td>\n",
       "      <td>4</td>\n",
       "      <td>5</td>\n",
       "      <td>2.0</td>\n",
       "      <td>7.0</td>\n",
       "      <td>2</td>\n",
       "      <td>2</td>\n",
       "      <td>F</td>\n",
       "      <td>1</td>\n",
       "      <td>3d1539e56495b6991f0a3ef5a61ca3d03ce4fff7380e9a...</td>\n",
       "      <td>D</td>\n",
       "      <td>A</td>\n",
       "      <td>d4735e3a265e16eee03f59718b9b5d03019c07d8b6c51f...</td>\n",
       "      <td>7.059346</td>\n",
       "      <td>5.0</td>\n",
       "      <td>103.0</td>\n",
       "      <td>12</td>\n",
       "    </tr>\n",
       "  </tbody>\n",
       "</table>\n",
       "</div>"
      ],
      "text/plain": [
       "   channel_code  main_product_code  numberofadults  numberofchildren  \\\n",
       "0             3                  1               2                 0   \n",
       "1             1                  1               2                 0   \n",
       "2             1                  1               2                 0   \n",
       "3             1                  1               2                 2   \n",
       "4             1                  1               2                 0   \n",
       "\n",
       "   persontravellingid  resort_region_code  resort_type_code  \\\n",
       "0                  46                   3                 3   \n",
       "1                  46                   3                 3   \n",
       "2                  47                   1                 5   \n",
       "3                  46                   2                 2   \n",
       "4                  46                   2                 2   \n",
       "\n",
       "   room_type_booked_code  roomnights  season_holidayed_code  \\\n",
       "0                      3           1                    2.0   \n",
       "1                      4           5                    2.0   \n",
       "2                      4           4                    2.0   \n",
       "3                      3           5                    2.0   \n",
       "4                      4           5                    2.0   \n",
       "\n",
       "   state_code_residence  state_code_resort  total_pax member_age_buckets  \\\n",
       "0                   7.0                  3          3                  F   \n",
       "1                   7.0                  5          2                  F   \n",
       "2                   7.0                  1          2                  F   \n",
       "3                   7.0                  2          2                  F   \n",
       "4                   7.0                  2          2                  F   \n",
       "\n",
       "   booking_type_code                                           memberid  \\\n",
       "0                  1  3d1539e56495b6991f0a3ef5a61ca3d03ce4fff7380e9a...   \n",
       "1                  1  3d1539e56495b6991f0a3ef5a61ca3d03ce4fff7380e9a...   \n",
       "2                  1  3d1539e56495b6991f0a3ef5a61ca3d03ce4fff7380e9a...   \n",
       "3                  1  3d1539e56495b6991f0a3ef5a61ca3d03ce4fff7380e9a...   \n",
       "4                  1  3d1539e56495b6991f0a3ef5a61ca3d03ce4fff7380e9a...   \n",
       "\n",
       "  cluster_code reservationstatusid_code  \\\n",
       "0            F                        C   \n",
       "1            F                        A   \n",
       "2            E                        A   \n",
       "3            D                        A   \n",
       "4            D                        A   \n",
       "\n",
       "                                           resort_id  \\\n",
       "0  4e07408562bedb8b60ce05c1decfe3ad16b72230967de0...   \n",
       "1  39fa9ec190eee7b6f4dff1100d6343e10918d044c75eac...   \n",
       "2  535fa30d7e25dd8a49f1536779734ec8286108d115da50...   \n",
       "3  d4735e3a265e16eee03f59718b9b5d03019c07d8b6c51f...   \n",
       "4  d4735e3a265e16eee03f59718b9b5d03019c07d8b6c51f...   \n",
       "\n",
       "   amount_spent_per_room_night_scaled  days_stayed  booking_to_checkin  \\\n",
       "0                            7.706428          1.0                 0.0   \n",
       "1                            6.662563          5.0                78.0   \n",
       "2                            7.871602          4.0                 4.0   \n",
       "3                            5.344943          5.0                40.0   \n",
       "4                            7.059346          5.0               103.0   \n",
       "\n",
       "   month_of_checkin  \n",
       "0                 4  \n",
       "1                 4  \n",
       "2                 2  \n",
       "3                 6  \n",
       "4                12  "
      ]
     },
     "execution_count": 51,
     "metadata": {},
     "output_type": "execute_result"
    }
   ],
   "source": [
    "train.head()"
   ]
  },
  {
   "cell_type": "markdown",
   "metadata": {},
   "source": [
    "## Channel_Code, Main Product Code"
   ]
  },
  {
   "cell_type": "code",
   "execution_count": 52,
   "metadata": {},
   "outputs": [
    {
     "data": {
      "text/plain": [
       "1    161225\n",
       "3    128042\n",
       "2     52157\n",
       "Name: channel_code, dtype: int64"
      ]
     },
     "execution_count": 52,
     "metadata": {},
     "output_type": "execute_result"
    }
   ],
   "source": [
    "train['channel_code'].value_counts(dropna=False)"
   ]
  },
  {
   "cell_type": "code",
   "execution_count": 53,
   "metadata": {
    "scrolled": true
   },
   "outputs": [
    {
     "data": {
      "text/plain": [
       "<matplotlib.axes._subplots.AxesSubplot at 0x19dbf687748>"
      ]
     },
     "execution_count": 53,
     "metadata": {},
     "output_type": "execute_result"
    },
    {
     "data": {
      "image/png": "[encoded data removed]",
      "text/plain": [
       "<Figure size 432x288 with 1 Axes>"
      ]
     },
     "metadata": {
      "needs_background": "light"
     },
     "output_type": "display_data"
    }
   ],
   "source": [
    "sns.boxplot(data=train,x='channel_code',y='amount_spent_per_room_night_scaled')"
   ]
  },
  {
   "cell_type": "code",
   "execution_count": 54,
   "metadata": {},
   "outputs": [],
   "source": [
    "train_cc_1=train[train['channel_code']==1]\n",
    "train_cc_2=train[train['channel_code']==2]\n",
    "train_cc_3=train[train['channel_code']==3]"
   ]
  },
  {
   "cell_type": "code",
   "execution_count": 55,
   "metadata": {},
   "outputs": [],
   "source": [
    "from scipy.stats import f_oneway"
   ]
  },
  {
   "cell_type": "code",
   "execution_count": 56,
   "metadata": {},
   "outputs": [
    {
     "data": {
      "text/plain": [
       "F_onewayResult(statistic=1399.5890333500813, pvalue=0.0)"
      ]
     },
     "execution_count": 56,
     "metadata": {},
     "output_type": "execute_result"
    }
   ],
   "source": [
    "f_oneway(train_cc_1['amount_spent_per_room_night_scaled'],train_cc_2['amount_spent_per_room_night_scaled'],\n",
    "        train_cc_3['amount_spent_per_room_night_scaled'])"
   ]
  },
  {
   "cell_type": "code",
   "execution_count": 57,
   "metadata": {},
   "outputs": [
    {
     "data": {
      "text/plain": [
       "2    177615\n",
       "3     86247\n",
       "1     57822\n",
       "4     18619\n",
       "7      1121\n",
       "Name: main_product_code, dtype: int64"
      ]
     },
     "execution_count": 57,
     "metadata": {},
     "output_type": "execute_result"
    }
   ],
   "source": [
    "train['main_product_code'].value_counts(dropna=False)"
   ]
  },
  {
   "cell_type": "code",
   "execution_count": 58,
   "metadata": {},
   "outputs": [],
   "source": [
    "train_mpc = train.groupby('main_product_code')\n",
    "train_mpc_1=train_mpc.get_group(1)\n",
    "train_mpc_2=train_mpc.get_group(2)\n",
    "train_mpc_3=train_mpc.get_group(3)\n",
    "train_mpc_4=train_mpc.get_group(4)\n",
    "train_mpc_7=train_mpc.get_group(7)"
   ]
  },
  {
   "cell_type": "code",
   "execution_count": 59,
   "metadata": {},
   "outputs": [
    {
     "data": {
      "text/plain": [
       "F_onewayResult(statistic=636.9207474985484, pvalue=0.0)"
      ]
     },
     "execution_count": 59,
     "metadata": {},
     "output_type": "execute_result"
    }
   ],
   "source": [
    "f_oneway(train_mpc_1['amount_spent_per_room_night_scaled'],train_mpc_2['amount_spent_per_room_night_scaled'],train_mpc_3['amount_spent_per_room_night_scaled'],\n",
    "        train_mpc_4['amount_spent_per_room_night_scaled'],train_mpc_7['amount_spent_per_room_night_scaled'])"
   ]
  },
  {
   "cell_type": "markdown",
   "metadata": {},
   "source": [
    "## numberofadults, numberofchildren"
   ]
  },
  {
   "cell_type": "code",
   "execution_count": 60,
   "metadata": {},
   "outputs": [
    {
     "data": {
      "text/plain": [
       "2     149414\n",
       "4      84468\n",
       "3      63247\n",
       "6      20052\n",
       "5       9849\n",
       "8       5198\n",
       "7       2673\n",
       "9       1445\n",
       "1       1280\n",
       "10      1256\n",
       "12      1010\n",
       "11       357\n",
       "16       293\n",
       "14       216\n",
       "15       207\n",
       "13       120\n",
       "24        83\n",
       "20        64\n",
       "18        62\n",
       "0         27\n",
       "17        20\n",
       "22        19\n",
       "19        12\n",
       "25        12\n",
       "21        11\n",
       "23        10\n",
       "32        10\n",
       "30         9\n",
       "Name: numberofadults, dtype: int64"
      ]
     },
     "execution_count": 60,
     "metadata": {},
     "output_type": "execute_result"
    }
   ],
   "source": [
    "train['numberofadults'].value_counts()"
   ]
  },
  {
   "cell_type": "code",
   "execution_count": 61,
   "metadata": {},
   "outputs": [
    {
     "data": {
      "text/plain": [
       "0     264250\n",
       "1      37766\n",
       "2      35164\n",
       "3       2137\n",
       "4       1658\n",
       "6        187\n",
       "5        181\n",
       "8         44\n",
       "7         20\n",
       "10        14\n",
       "12         2\n",
       "13         1\n",
       "Name: numberofchildren, dtype: int64"
      ]
     },
     "execution_count": 61,
     "metadata": {},
     "output_type": "execute_result"
    }
   ],
   "source": [
    "train['numberofchildren'].value_counts()"
   ]
  },
  {
   "cell_type": "code",
   "execution_count": 62,
   "metadata": {
    "scrolled": true
   },
   "outputs": [
    {
     "data": {
      "text/html": [
       "<div>\n",
       "<style scoped>\n",
       "    .dataframe tbody tr th:only-of-type {\n",
       "        vertical-align: middle;\n",
       "    }\n",
       "\n",
       "    .dataframe tbody tr th {\n",
       "        vertical-align: top;\n",
       "    }\n",
       "\n",
       "    .dataframe thead th {\n",
       "        text-align: right;\n",
       "    }\n",
       "</style>\n",
       "<table border=\"1\" class=\"dataframe\">\n",
       "  <thead>\n",
       "    <tr style=\"text-align: right;\">\n",
       "      <th></th>\n",
       "      <th>channel_code</th>\n",
       "      <th>main_product_code</th>\n",
       "      <th>numberofadults</th>\n",
       "      <th>numberofchildren</th>\n",
       "      <th>persontravellingid</th>\n",
       "      <th>resort_region_code</th>\n",
       "      <th>resort_type_code</th>\n",
       "      <th>room_type_booked_code</th>\n",
       "      <th>roomnights</th>\n",
       "      <th>season_holidayed_code</th>\n",
       "      <th>state_code_residence</th>\n",
       "      <th>state_code_resort</th>\n",
       "      <th>total_pax</th>\n",
       "      <th>member_age_buckets</th>\n",
       "      <th>booking_type_code</th>\n",
       "      <th>memberid</th>\n",
       "      <th>cluster_code</th>\n",
       "      <th>reservationstatusid_code</th>\n",
       "      <th>resort_id</th>\n",
       "      <th>amount_spent_per_room_night_scaled</th>\n",
       "      <th>days_stayed</th>\n",
       "      <th>booking_to_checkin</th>\n",
       "      <th>month_of_checkin</th>\n",
       "    </tr>\n",
       "  </thead>\n",
       "  <tbody>\n",
       "    <tr>\n",
       "      <th>72146</th>\n",
       "      <td>3</td>\n",
       "      <td>2</td>\n",
       "      <td>12</td>\n",
       "      <td>12</td>\n",
       "      <td>4753</td>\n",
       "      <td>2</td>\n",
       "      <td>2</td>\n",
       "      <td>2</td>\n",
       "      <td>18</td>\n",
       "      <td>3.0</td>\n",
       "      <td>5.0</td>\n",
       "      <td>2</td>\n",
       "      <td>3</td>\n",
       "      <td>G</td>\n",
       "      <td>1</td>\n",
       "      <td>ff3bf6b69aa2dd5d639d372536f8745ffb0bd314b6fd06...</td>\n",
       "      <td>D</td>\n",
       "      <td>A</td>\n",
       "      <td>6208ef0f7750c111548cf90b6ea1d0d0a66f6bff40dbef...</td>\n",
       "      <td>6.622293</td>\n",
       "      <td>3.0</td>\n",
       "      <td>14.0</td>\n",
       "      <td>2</td>\n",
       "    </tr>\n",
       "    <tr>\n",
       "      <th>72147</th>\n",
       "      <td>3</td>\n",
       "      <td>2</td>\n",
       "      <td>12</td>\n",
       "      <td>12</td>\n",
       "      <td>4753</td>\n",
       "      <td>2</td>\n",
       "      <td>2</td>\n",
       "      <td>2</td>\n",
       "      <td>18</td>\n",
       "      <td>3.0</td>\n",
       "      <td>5.0</td>\n",
       "      <td>2</td>\n",
       "      <td>2</td>\n",
       "      <td>G</td>\n",
       "      <td>1</td>\n",
       "      <td>ff3bf6b69aa2dd5d639d372536f8745ffb0bd314b6fd06...</td>\n",
       "      <td>D</td>\n",
       "      <td>A</td>\n",
       "      <td>6208ef0f7750c111548cf90b6ea1d0d0a66f6bff40dbef...</td>\n",
       "      <td>5.417936</td>\n",
       "      <td>3.0</td>\n",
       "      <td>14.0</td>\n",
       "      <td>2</td>\n",
       "    </tr>\n",
       "    <tr>\n",
       "      <th>325437</th>\n",
       "      <td>1</td>\n",
       "      <td>2</td>\n",
       "      <td>4</td>\n",
       "      <td>13</td>\n",
       "      <td>45</td>\n",
       "      <td>1</td>\n",
       "      <td>1</td>\n",
       "      <td>2</td>\n",
       "      <td>8</td>\n",
       "      <td>3.0</td>\n",
       "      <td>2.0</td>\n",
       "      <td>6</td>\n",
       "      <td>5</td>\n",
       "      <td>D</td>\n",
       "      <td>1</td>\n",
       "      <td>a9e274b73095c62b62c227cdb947e5948b42a70efbff30...</td>\n",
       "      <td>F</td>\n",
       "      <td>A</td>\n",
       "      <td>49d180ecf56132819571bf39d9b7b342522a2ac6d23c14...</td>\n",
       "      <td>10.191176</td>\n",
       "      <td>2.0</td>\n",
       "      <td>90.0</td>\n",
       "      <td>4</td>\n",
       "    </tr>\n",
       "  </tbody>\n",
       "</table>\n",
       "</div>"
      ],
      "text/plain": [
       "        channel_code  main_product_code  numberofadults  numberofchildren  \\\n",
       "72146              3                  2              12                12   \n",
       "72147              3                  2              12                12   \n",
       "325437             1                  2               4                13   \n",
       "\n",
       "        persontravellingid  resort_region_code  resort_type_code  \\\n",
       "72146                 4753                   2                 2   \n",
       "72147                 4753                   2                 2   \n",
       "325437                  45                   1                 1   \n",
       "\n",
       "        room_type_booked_code  roomnights  season_holidayed_code  \\\n",
       "72146                       2          18                    3.0   \n",
       "72147                       2          18                    3.0   \n",
       "325437                      2           8                    3.0   \n",
       "\n",
       "        state_code_residence  state_code_resort  total_pax member_age_buckets  \\\n",
       "72146                    5.0                  2          3                  G   \n",
       "72147                    5.0                  2          2                  G   \n",
       "325437                   2.0                  6          5                  D   \n",
       "\n",
       "        booking_type_code                                           memberid  \\\n",
       "72146                   1  ff3bf6b69aa2dd5d639d372536f8745ffb0bd314b6fd06...   \n",
       "72147                   1  ff3bf6b69aa2dd5d639d372536f8745ffb0bd314b6fd06...   \n",
       "325437                  1  a9e274b73095c62b62c227cdb947e5948b42a70efbff30...   \n",
       "\n",
       "       cluster_code reservationstatusid_code  \\\n",
       "72146             D                        A   \n",
       "72147             D                        A   \n",
       "325437            F                        A   \n",
       "\n",
       "                                                resort_id  \\\n",
       "72146   6208ef0f7750c111548cf90b6ea1d0d0a66f6bff40dbef...   \n",
       "72147   6208ef0f7750c111548cf90b6ea1d0d0a66f6bff40dbef...   \n",
       "325437  49d180ecf56132819571bf39d9b7b342522a2ac6d23c14...   \n",
       "\n",
       "        amount_spent_per_room_night_scaled  days_stayed  booking_to_checkin  \\\n",
       "72146                             6.622293          3.0                14.0   \n",
       "72147                             5.417936          3.0                14.0   \n",
       "325437                           10.191176          2.0                90.0   \n",
       "\n",
       "        month_of_checkin  \n",
       "72146                  2  \n",
       "72147                  2  \n",
       "325437                 4  "
      ]
     },
     "execution_count": 62,
     "metadata": {},
     "output_type": "execute_result"
    }
   ],
   "source": [
    "train[train['numberofchildren']>10]"
   ]
  },
  {
   "cell_type": "code",
   "execution_count": 63,
   "metadata": {},
   "outputs": [],
   "source": [
    "#train['total_customers']=train['numberofadults']+train['numberofchildren']#\n",
    "#test['total_customers']=test['numberofadults']+test['numberofchildren']"
   ]
  },
  {
   "cell_type": "code",
   "execution_count": 64,
   "metadata": {},
   "outputs": [],
   "source": [
    "#train['total_customers'].value_counts(bins=5)"
   ]
  },
  {
   "cell_type": "markdown",
   "metadata": {},
   "source": [
    "## persontravellingid"
   ]
  },
  {
   "cell_type": "code",
   "execution_count": 65,
   "metadata": {
    "scrolled": true
   },
   "outputs": [
    {
     "data": {
      "text/plain": [
       "45      267307\n",
       "47       31580\n",
       "46       30569\n",
       "4752     10556\n",
       "4753      1391\n",
       "4995        21\n",
       "Name: persontravellingid, dtype: int64"
      ]
     },
     "execution_count": 65,
     "metadata": {},
     "output_type": "execute_result"
    }
   ],
   "source": [
    "train['persontravellingid'].value_counts(dropna=False)"
   ]
  },
  {
   "cell_type": "markdown",
   "metadata": {},
   "source": [
    "## resort_region_code"
   ]
  },
  {
   "cell_type": "code",
   "execution_count": 66,
   "metadata": {},
   "outputs": [
    {
     "data": {
      "text/plain": [
       "1    143790\n",
       "2    131361\n",
       "3     66273\n",
       "Name: resort_region_code, dtype: int64"
      ]
     },
     "execution_count": 66,
     "metadata": {},
     "output_type": "execute_result"
    }
   ],
   "source": [
    "train['resort_region_code'].value_counts(dropna=False)"
   ]
  },
  {
   "cell_type": "markdown",
   "metadata": {},
   "source": [
    "## resort_type_code"
   ]
  },
  {
   "cell_type": "code",
   "execution_count": 67,
   "metadata": {},
   "outputs": [
    {
     "data": {
      "text/plain": [
       "1    154324\n",
       "2     74154\n",
       "3     48681\n",
       "5     26706\n",
       "4     21619\n",
       "7     11478\n",
       "0      4462\n",
       "Name: resort_type_code, dtype: int64"
      ]
     },
     "execution_count": 67,
     "metadata": {},
     "output_type": "execute_result"
    }
   ],
   "source": [
    "train['resort_type_code'].value_counts(dropna=False)"
   ]
  },
  {
   "cell_type": "markdown",
   "metadata": {},
   "source": [
    "## room_type_booked_code"
   ]
  },
  {
   "cell_type": "code",
   "execution_count": 68,
   "metadata": {},
   "outputs": [
    {
     "data": {
      "text/plain": [
       "3    137439\n",
       "2    113459\n",
       "4     83554\n",
       "1      5374\n",
       "5      1588\n",
       "6        10\n",
       "Name: room_type_booked_code, dtype: int64"
      ]
     },
     "execution_count": 68,
     "metadata": {},
     "output_type": "execute_result"
    }
   ],
   "source": [
    "train['room_type_booked_code'].value_counts(dropna=False)"
   ]
  },
  {
   "cell_type": "markdown",
   "metadata": {},
   "source": [
    "## roomnights"
   ]
  },
  {
   "cell_type": "code",
   "execution_count": 69,
   "metadata": {},
   "outputs": [
    {
     "data": {
      "text/plain": [
       "(-3.0, 18.0]                    340730\n",
       "(18.0, 39.0]                       681\n",
       "(39.0, 60.0]                        12\n",
       "(-45.105999999999995, -24.0]         1\n",
       "(-24.0, -3.0]                        0\n",
       "Name: roomnights, dtype: int64"
      ]
     },
     "execution_count": 69,
     "metadata": {},
     "output_type": "execute_result"
    }
   ],
   "source": [
    "train['roomnights'].value_counts(dropna=False,bins=5)"
   ]
  },
  {
   "cell_type": "markdown",
   "metadata": {},
   "source": [
    "## season_holidayed_code"
   ]
  },
  {
   "cell_type": "code",
   "execution_count": 70,
   "metadata": {
    "scrolled": true
   },
   "outputs": [
    {
     "data": {
      "text/plain": [
       "2.0    126771\n",
       "3.0    118187\n",
       "4.0     69387\n",
       "1.0     26965\n",
       "NaN       114\n",
       "Name: season_holidayed_code, dtype: int64"
      ]
     },
     "execution_count": 70,
     "metadata": {},
     "output_type": "execute_result"
    }
   ],
   "source": [
    "train['season_holidayed_code'].value_counts(dropna=False)"
   ]
  },
  {
   "cell_type": "code",
   "execution_count": 71,
   "metadata": {},
   "outputs": [
    {
     "data": {
      "text/html": [
       "<div>\n",
       "<style scoped>\n",
       "    .dataframe tbody tr th:only-of-type {\n",
       "        vertical-align: middle;\n",
       "    }\n",
       "\n",
       "    .dataframe tbody tr th {\n",
       "        vertical-align: top;\n",
       "    }\n",
       "\n",
       "    .dataframe thead th {\n",
       "        text-align: right;\n",
       "    }\n",
       "</style>\n",
       "<table border=\"1\" class=\"dataframe\">\n",
       "  <thead>\n",
       "    <tr style=\"text-align: right;\">\n",
       "      <th></th>\n",
       "      <th>channel_code</th>\n",
       "      <th>main_product_code</th>\n",
       "      <th>numberofadults</th>\n",
       "      <th>numberofchildren</th>\n",
       "      <th>persontravellingid</th>\n",
       "      <th>resort_region_code</th>\n",
       "      <th>resort_type_code</th>\n",
       "      <th>room_type_booked_code</th>\n",
       "      <th>roomnights</th>\n",
       "      <th>season_holidayed_code</th>\n",
       "      <th>state_code_residence</th>\n",
       "      <th>state_code_resort</th>\n",
       "      <th>total_pax</th>\n",
       "      <th>member_age_buckets</th>\n",
       "      <th>booking_type_code</th>\n",
       "      <th>memberid</th>\n",
       "      <th>cluster_code</th>\n",
       "      <th>reservationstatusid_code</th>\n",
       "      <th>resort_id</th>\n",
       "      <th>amount_spent_per_room_night_scaled</th>\n",
       "      <th>days_stayed</th>\n",
       "      <th>booking_to_checkin</th>\n",
       "      <th>month_of_checkin</th>\n",
       "    </tr>\n",
       "  </thead>\n",
       "  <tbody>\n",
       "    <tr>\n",
       "      <th>296</th>\n",
       "      <td>1</td>\n",
       "      <td>1</td>\n",
       "      <td>2</td>\n",
       "      <td>2</td>\n",
       "      <td>45</td>\n",
       "      <td>1</td>\n",
       "      <td>1</td>\n",
       "      <td>2</td>\n",
       "      <td>4</td>\n",
       "      <td>NaN</td>\n",
       "      <td>15.0</td>\n",
       "      <td>6</td>\n",
       "      <td>4</td>\n",
       "      <td>C</td>\n",
       "      <td>1</td>\n",
       "      <td>34b16d8f8b4deb63b022bb637f731ef7e8c74533094d83...</td>\n",
       "      <td>F</td>\n",
       "      <td>A</td>\n",
       "      <td>49d180ecf56132819571bf39d9b7b342522a2ac6d23c14...</td>\n",
       "      <td>8.197141</td>\n",
       "      <td>4.0</td>\n",
       "      <td>107.0</td>\n",
       "      <td>5</td>\n",
       "    </tr>\n",
       "    <tr>\n",
       "      <th>1081</th>\n",
       "      <td>1</td>\n",
       "      <td>1</td>\n",
       "      <td>4</td>\n",
       "      <td>0</td>\n",
       "      <td>45</td>\n",
       "      <td>1</td>\n",
       "      <td>1</td>\n",
       "      <td>2</td>\n",
       "      <td>3</td>\n",
       "      <td>NaN</td>\n",
       "      <td>8.0</td>\n",
       "      <td>6</td>\n",
       "      <td>2</td>\n",
       "      <td>G</td>\n",
       "      <td>1</td>\n",
       "      <td>79a886999b803dcd3304f8a81bbde54b4705c769e9ad54...</td>\n",
       "      <td>F</td>\n",
       "      <td>B</td>\n",
       "      <td>49d180ecf56132819571bf39d9b7b342522a2ac6d23c14...</td>\n",
       "      <td>7.221797</td>\n",
       "      <td>3.0</td>\n",
       "      <td>111.0</td>\n",
       "      <td>5</td>\n",
       "    </tr>\n",
       "    <tr>\n",
       "      <th>21702</th>\n",
       "      <td>1</td>\n",
       "      <td>1</td>\n",
       "      <td>3</td>\n",
       "      <td>1</td>\n",
       "      <td>45</td>\n",
       "      <td>1</td>\n",
       "      <td>1</td>\n",
       "      <td>2</td>\n",
       "      <td>4</td>\n",
       "      <td>NaN</td>\n",
       "      <td>2.0</td>\n",
       "      <td>6</td>\n",
       "      <td>4</td>\n",
       "      <td>E</td>\n",
       "      <td>1</td>\n",
       "      <td>87bec0cc2445a4d35520a0e021da31a51a6ad8268c7938...</td>\n",
       "      <td>F</td>\n",
       "      <td>A</td>\n",
       "      <td>49d180ecf56132819571bf39d9b7b342522a2ac6d23c14...</td>\n",
       "      <td>6.627826</td>\n",
       "      <td>4.0</td>\n",
       "      <td>9.0</td>\n",
       "      <td>5</td>\n",
       "    </tr>\n",
       "    <tr>\n",
       "      <th>25387</th>\n",
       "      <td>3</td>\n",
       "      <td>3</td>\n",
       "      <td>3</td>\n",
       "      <td>0</td>\n",
       "      <td>45</td>\n",
       "      <td>1</td>\n",
       "      <td>1</td>\n",
       "      <td>3</td>\n",
       "      <td>5</td>\n",
       "      <td>NaN</td>\n",
       "      <td>10.0</td>\n",
       "      <td>6</td>\n",
       "      <td>3</td>\n",
       "      <td>D</td>\n",
       "      <td>1</td>\n",
       "      <td>3a63f6fa0cef50676770a65e15be4a003c8010b4af285e...</td>\n",
       "      <td>F</td>\n",
       "      <td>A</td>\n",
       "      <td>49d180ecf56132819571bf39d9b7b342522a2ac6d23c14...</td>\n",
       "      <td>8.128805</td>\n",
       "      <td>5.0</td>\n",
       "      <td>18.0</td>\n",
       "      <td>5</td>\n",
       "    </tr>\n",
       "    <tr>\n",
       "      <th>26818</th>\n",
       "      <td>3</td>\n",
       "      <td>3</td>\n",
       "      <td>2</td>\n",
       "      <td>0</td>\n",
       "      <td>45</td>\n",
       "      <td>1</td>\n",
       "      <td>1</td>\n",
       "      <td>3</td>\n",
       "      <td>3</td>\n",
       "      <td>NaN</td>\n",
       "      <td>1.0</td>\n",
       "      <td>6</td>\n",
       "      <td>5</td>\n",
       "      <td>H</td>\n",
       "      <td>1</td>\n",
       "      <td>b40edc9b973c0eb0cd0df333b5d93d4ccf08e5d2504725...</td>\n",
       "      <td>F</td>\n",
       "      <td>A</td>\n",
       "      <td>49d180ecf56132819571bf39d9b7b342522a2ac6d23c14...</td>\n",
       "      <td>7.731696</td>\n",
       "      <td>2.0</td>\n",
       "      <td>20.0</td>\n",
       "      <td>5</td>\n",
       "    </tr>\n",
       "    <tr>\n",
       "      <th>...</th>\n",
       "      <td>...</td>\n",
       "      <td>...</td>\n",
       "      <td>...</td>\n",
       "      <td>...</td>\n",
       "      <td>...</td>\n",
       "      <td>...</td>\n",
       "      <td>...</td>\n",
       "      <td>...</td>\n",
       "      <td>...</td>\n",
       "      <td>...</td>\n",
       "      <td>...</td>\n",
       "      <td>...</td>\n",
       "      <td>...</td>\n",
       "      <td>...</td>\n",
       "      <td>...</td>\n",
       "      <td>...</td>\n",
       "      <td>...</td>\n",
       "      <td>...</td>\n",
       "      <td>...</td>\n",
       "      <td>...</td>\n",
       "      <td>...</td>\n",
       "      <td>...</td>\n",
       "      <td>...</td>\n",
       "    </tr>\n",
       "    <tr>\n",
       "      <th>248528</th>\n",
       "      <td>3</td>\n",
       "      <td>3</td>\n",
       "      <td>2</td>\n",
       "      <td>0</td>\n",
       "      <td>46</td>\n",
       "      <td>1</td>\n",
       "      <td>1</td>\n",
       "      <td>3</td>\n",
       "      <td>1</td>\n",
       "      <td>NaN</td>\n",
       "      <td>7.0</td>\n",
       "      <td>6</td>\n",
       "      <td>2</td>\n",
       "      <td>B</td>\n",
       "      <td>1</td>\n",
       "      <td>2ca63f42b48cc88592f82845cdce2c1baf6b519d66be47...</td>\n",
       "      <td>F</td>\n",
       "      <td>A</td>\n",
       "      <td>49d180ecf56132819571bf39d9b7b342522a2ac6d23c14...</td>\n",
       "      <td>10.201021</td>\n",
       "      <td>1.0</td>\n",
       "      <td>8.0</td>\n",
       "      <td>5</td>\n",
       "    </tr>\n",
       "    <tr>\n",
       "      <th>248780</th>\n",
       "      <td>1</td>\n",
       "      <td>1</td>\n",
       "      <td>4</td>\n",
       "      <td>1</td>\n",
       "      <td>45</td>\n",
       "      <td>1</td>\n",
       "      <td>1</td>\n",
       "      <td>3</td>\n",
       "      <td>6</td>\n",
       "      <td>NaN</td>\n",
       "      <td>2.0</td>\n",
       "      <td>6</td>\n",
       "      <td>2</td>\n",
       "      <td>E</td>\n",
       "      <td>1</td>\n",
       "      <td>eaf0571db2f5994dd7c9bbc96690fd71c3800079195949...</td>\n",
       "      <td>F</td>\n",
       "      <td>A</td>\n",
       "      <td>49d180ecf56132819571bf39d9b7b342522a2ac6d23c14...</td>\n",
       "      <td>7.684738</td>\n",
       "      <td>3.0</td>\n",
       "      <td>5.0</td>\n",
       "      <td>5</td>\n",
       "    </tr>\n",
       "    <tr>\n",
       "      <th>249116</th>\n",
       "      <td>1</td>\n",
       "      <td>2</td>\n",
       "      <td>4</td>\n",
       "      <td>1</td>\n",
       "      <td>45</td>\n",
       "      <td>1</td>\n",
       "      <td>1</td>\n",
       "      <td>3</td>\n",
       "      <td>2</td>\n",
       "      <td>NaN</td>\n",
       "      <td>1.0</td>\n",
       "      <td>6</td>\n",
       "      <td>2</td>\n",
       "      <td>F</td>\n",
       "      <td>1</td>\n",
       "      <td>d9245ea9738b431ae12579bc1fd75ed9632b769dc44f57...</td>\n",
       "      <td>F</td>\n",
       "      <td>A</td>\n",
       "      <td>49d180ecf56132819571bf39d9b7b342522a2ac6d23c14...</td>\n",
       "      <td>8.632905</td>\n",
       "      <td>1.0</td>\n",
       "      <td>5.0</td>\n",
       "      <td>5</td>\n",
       "    </tr>\n",
       "    <tr>\n",
       "      <th>249288</th>\n",
       "      <td>1</td>\n",
       "      <td>2</td>\n",
       "      <td>3</td>\n",
       "      <td>1</td>\n",
       "      <td>45</td>\n",
       "      <td>1</td>\n",
       "      <td>1</td>\n",
       "      <td>3</td>\n",
       "      <td>6</td>\n",
       "      <td>NaN</td>\n",
       "      <td>2.0</td>\n",
       "      <td>6</td>\n",
       "      <td>2</td>\n",
       "      <td>E</td>\n",
       "      <td>1</td>\n",
       "      <td>703f72e1c94e1dc3578007cddda09c71c18681b6706225...</td>\n",
       "      <td>F</td>\n",
       "      <td>A</td>\n",
       "      <td>49d180ecf56132819571bf39d9b7b342522a2ac6d23c14...</td>\n",
       "      <td>8.478097</td>\n",
       "      <td>3.0</td>\n",
       "      <td>2.0</td>\n",
       "      <td>5</td>\n",
       "    </tr>\n",
       "    <tr>\n",
       "      <th>250575</th>\n",
       "      <td>3</td>\n",
       "      <td>1</td>\n",
       "      <td>2</td>\n",
       "      <td>0</td>\n",
       "      <td>45</td>\n",
       "      <td>1</td>\n",
       "      <td>1</td>\n",
       "      <td>3</td>\n",
       "      <td>3</td>\n",
       "      <td>NaN</td>\n",
       "      <td>2.0</td>\n",
       "      <td>6</td>\n",
       "      <td>4</td>\n",
       "      <td>E</td>\n",
       "      <td>1</td>\n",
       "      <td>259e2174e8a6242f01787cc004b69f7f7ba068040bc81f...</td>\n",
       "      <td>F</td>\n",
       "      <td>A</td>\n",
       "      <td>49d180ecf56132819571bf39d9b7b342522a2ac6d23c14...</td>\n",
       "      <td>8.872477</td>\n",
       "      <td>3.0</td>\n",
       "      <td>3.0</td>\n",
       "      <td>5</td>\n",
       "    </tr>\n",
       "  </tbody>\n",
       "</table>\n",
       "<p>114 rows × 23 columns</p>\n",
       "</div>"
      ],
      "text/plain": [
       "        channel_code  main_product_code  numberofadults  numberofchildren  \\\n",
       "296                1                  1               2                 2   \n",
       "1081               1                  1               4                 0   \n",
       "21702              1                  1               3                 1   \n",
       "25387              3                  3               3                 0   \n",
       "26818              3                  3               2                 0   \n",
       "...              ...                ...             ...               ...   \n",
       "248528             3                  3               2                 0   \n",
       "248780             1                  1               4                 1   \n",
       "249116             1                  2               4                 1   \n",
       "249288             1                  2               3                 1   \n",
       "250575             3                  1               2                 0   \n",
       "\n",
       "        persontravellingid  resort_region_code  resort_type_code  \\\n",
       "296                     45                   1                 1   \n",
       "1081                    45                   1                 1   \n",
       "21702                   45                   1                 1   \n",
       "25387                   45                   1                 1   \n",
       "26818                   45                   1                 1   \n",
       "...                    ...                 ...               ...   \n",
       "248528                  46                   1                 1   \n",
       "248780                  45                   1                 1   \n",
       "249116                  45                   1                 1   \n",
       "249288                  45                   1                 1   \n",
       "250575                  45                   1                 1   \n",
       "\n",
       "        room_type_booked_code  roomnights  season_holidayed_code  \\\n",
       "296                         2           4                    NaN   \n",
       "1081                        2           3                    NaN   \n",
       "21702                       2           4                    NaN   \n",
       "25387                       3           5                    NaN   \n",
       "26818                       3           3                    NaN   \n",
       "...                       ...         ...                    ...   \n",
       "248528                      3           1                    NaN   \n",
       "248780                      3           6                    NaN   \n",
       "249116                      3           2                    NaN   \n",
       "249288                      3           6                    NaN   \n",
       "250575                      3           3                    NaN   \n",
       "\n",
       "        state_code_residence  state_code_resort  total_pax member_age_buckets  \\\n",
       "296                     15.0                  6          4                  C   \n",
       "1081                     8.0                  6          2                  G   \n",
       "21702                    2.0                  6          4                  E   \n",
       "25387                   10.0                  6          3                  D   \n",
       "26818                    1.0                  6          5                  H   \n",
       "...                      ...                ...        ...                ...   \n",
       "248528                   7.0                  6          2                  B   \n",
       "248780                   2.0                  6          2                  E   \n",
       "249116                   1.0                  6          2                  F   \n",
       "249288                   2.0                  6          2                  E   \n",
       "250575                   2.0                  6          4                  E   \n",
       "\n",
       "        booking_type_code                                           memberid  \\\n",
       "296                     1  34b16d8f8b4deb63b022bb637f731ef7e8c74533094d83...   \n",
       "1081                    1  79a886999b803dcd3304f8a81bbde54b4705c769e9ad54...   \n",
       "21702                   1  87bec0cc2445a4d35520a0e021da31a51a6ad8268c7938...   \n",
       "25387                   1  3a63f6fa0cef50676770a65e15be4a003c8010b4af285e...   \n",
       "26818                   1  b40edc9b973c0eb0cd0df333b5d93d4ccf08e5d2504725...   \n",
       "...                   ...                                                ...   \n",
       "248528                  1  2ca63f42b48cc88592f82845cdce2c1baf6b519d66be47...   \n",
       "248780                  1  eaf0571db2f5994dd7c9bbc96690fd71c3800079195949...   \n",
       "249116                  1  d9245ea9738b431ae12579bc1fd75ed9632b769dc44f57...   \n",
       "249288                  1  703f72e1c94e1dc3578007cddda09c71c18681b6706225...   \n",
       "250575                  1  259e2174e8a6242f01787cc004b69f7f7ba068040bc81f...   \n",
       "\n",
       "       cluster_code reservationstatusid_code  \\\n",
       "296               F                        A   \n",
       "1081              F                        B   \n",
       "21702             F                        A   \n",
       "25387             F                        A   \n",
       "26818             F                        A   \n",
       "...             ...                      ...   \n",
       "248528            F                        A   \n",
       "248780            F                        A   \n",
       "249116            F                        A   \n",
       "249288            F                        A   \n",
       "250575            F                        A   \n",
       "\n",
       "                                                resort_id  \\\n",
       "296     49d180ecf56132819571bf39d9b7b342522a2ac6d23c14...   \n",
       "1081    49d180ecf56132819571bf39d9b7b342522a2ac6d23c14...   \n",
       "21702   49d180ecf56132819571bf39d9b7b342522a2ac6d23c14...   \n",
       "25387   49d180ecf56132819571bf39d9b7b342522a2ac6d23c14...   \n",
       "26818   49d180ecf56132819571bf39d9b7b342522a2ac6d23c14...   \n",
       "...                                                   ...   \n",
       "248528  49d180ecf56132819571bf39d9b7b342522a2ac6d23c14...   \n",
       "248780  49d180ecf56132819571bf39d9b7b342522a2ac6d23c14...   \n",
       "249116  49d180ecf56132819571bf39d9b7b342522a2ac6d23c14...   \n",
       "249288  49d180ecf56132819571bf39d9b7b342522a2ac6d23c14...   \n",
       "250575  49d180ecf56132819571bf39d9b7b342522a2ac6d23c14...   \n",
       "\n",
       "        amount_spent_per_room_night_scaled  days_stayed  booking_to_checkin  \\\n",
       "296                               8.197141          4.0               107.0   \n",
       "1081                              7.221797          3.0               111.0   \n",
       "21702                             6.627826          4.0                 9.0   \n",
       "25387                             8.128805          5.0                18.0   \n",
       "26818                             7.731696          2.0                20.0   \n",
       "...                                    ...          ...                 ...   \n",
       "248528                           10.201021          1.0                 8.0   \n",
       "248780                            7.684738          3.0                 5.0   \n",
       "249116                            8.632905          1.0                 5.0   \n",
       "249288                            8.478097          3.0                 2.0   \n",
       "250575                            8.872477          3.0                 3.0   \n",
       "\n",
       "        month_of_checkin  \n",
       "296                    5  \n",
       "1081                   5  \n",
       "21702                  5  \n",
       "25387                  5  \n",
       "26818                  5  \n",
       "...                  ...  \n",
       "248528                 5  \n",
       "248780                 5  \n",
       "249116                 5  \n",
       "249288                 5  \n",
       "250575                 5  \n",
       "\n",
       "[114 rows x 23 columns]"
      ]
     },
     "execution_count": 71,
     "metadata": {},
     "output_type": "execute_result"
    }
   ],
   "source": [
    "train[train['season_holidayed_code'].isnull()]"
   ]
  },
  {
   "cell_type": "code",
   "execution_count": 72,
   "metadata": {},
   "outputs": [],
   "source": [
    "train['season_holidayed_code']=train['season_holidayed_code'].fillna(method='ffill')\n",
    "test['season_holidayed_code']=test['season_holidayed_code'].fillna(method='ffill')"
   ]
  },
  {
   "cell_type": "markdown",
   "metadata": {},
   "source": [
    "## state_code_residence"
   ]
  },
  {
   "cell_type": "code",
   "execution_count": 73,
   "metadata": {},
   "outputs": [
    {
     "data": {
      "text/plain": [
       "8.0     134919\n",
       "2.0      41143\n",
       "1.0      28040\n",
       "7.0      25873\n",
       "5.0      21051\n",
       "4.0      15938\n",
       "9.0      12291\n",
       "15.0      9490\n",
       "10.0      9356\n",
       "6.0       6384\n",
       "12.0      6092\n",
       "NaN       4764\n",
       "3.0       3943\n",
       "23.0      3835\n",
       "14.0      3132\n",
       "16.0      2371\n",
       "13.0      1771\n",
       "21.0      1694\n",
       "20.0      1470\n",
       "18.0      1429\n",
       "19.0      1085\n",
       "26.0      1068\n",
       "25.0       840\n",
       "27.0       790\n",
       "11.0       713\n",
       "28.0       541\n",
       "22.0       432\n",
       "24.0       382\n",
       "30.0       144\n",
       "29.0       101\n",
       "33.0        88\n",
       "31.0        60\n",
       "37.0        59\n",
       "32.0        53\n",
       "34.0        48\n",
       "35.0        16\n",
       "36.0        12\n",
       "38.0         6\n",
       "Name: state_code_residence, dtype: int64"
      ]
     },
     "execution_count": 73,
     "metadata": {},
     "output_type": "execute_result"
    }
   ],
   "source": [
    "train['state_code_residence'].value_counts(dropna=False)"
   ]
  },
  {
   "cell_type": "code",
   "execution_count": 74,
   "metadata": {},
   "outputs": [],
   "source": [
    "train['state_code_residence']=train['state_code_residence'].fillna(method='bfill')\n",
    "test['state_code_residence']=test['state_code_residence'].fillna(method='bfill')"
   ]
  },
  {
   "cell_type": "markdown",
   "metadata": {},
   "source": [
    "## state_code_resort"
   ]
  },
  {
   "cell_type": "code",
   "execution_count": 75,
   "metadata": {},
   "outputs": [
    {
     "data": {
      "text/plain": [
       "1     59830\n",
       "2     55883\n",
       "6     50869\n",
       "7     37809\n",
       "3     33489\n",
       "5     32784\n",
       "9     28115\n",
       "11    18271\n",
       "4     14820\n",
       "10     5684\n",
       "13     3870\n",
       "Name: state_code_resort, dtype: int64"
      ]
     },
     "execution_count": 75,
     "metadata": {},
     "output_type": "execute_result"
    }
   ],
   "source": [
    "train['state_code_resort'].value_counts()"
   ]
  },
  {
   "cell_type": "markdown",
   "metadata": {},
   "source": [
    "## total_pax"
   ]
  },
  {
   "cell_type": "code",
   "execution_count": 76,
   "metadata": {},
   "outputs": [
    {
     "data": {
      "text/plain": [
       "2     106046\n",
       "3      98504\n",
       "4      97386\n",
       "5      20672\n",
       "6       8350\n",
       "1       5912\n",
       "7       3102\n",
       "8       1093\n",
       "9        229\n",
       "10        74\n",
       "11        18\n",
       "0         16\n",
       "12        13\n",
       "21         3\n",
       "13         2\n",
       "20         2\n",
       "14         1\n",
       "24         1\n",
       "Name: total_pax, dtype: int64"
      ]
     },
     "execution_count": 76,
     "metadata": {},
     "output_type": "execute_result"
    }
   ],
   "source": [
    "train['total_pax'].value_counts()"
   ]
  },
  {
   "cell_type": "markdown",
   "metadata": {},
   "source": [
    "## member_age_buckets"
   ]
  },
  {
   "cell_type": "code",
   "execution_count": 77,
   "metadata": {},
   "outputs": [
    {
     "data": {
      "text/plain": [
       "D    67618\n",
       "E    66701\n",
       "F    50967\n",
       "C    45192\n",
       "H    38548\n",
       "G    36082\n",
       "B    19430\n",
       "I     8454\n",
       "A     7054\n",
       "J     1378\n",
       "Name: member_age_buckets, dtype: int64"
      ]
     },
     "execution_count": 77,
     "metadata": {},
     "output_type": "execute_result"
    }
   ],
   "source": [
    "train['member_age_buckets'].value_counts()"
   ]
  },
  {
   "cell_type": "markdown",
   "metadata": {},
   "source": [
    "## booking_type_code"
   ]
  },
  {
   "cell_type": "code",
   "execution_count": 78,
   "metadata": {},
   "outputs": [
    {
     "data": {
      "text/plain": [
       "1    299016\n",
       "2     42408\n",
       "Name: booking_type_code, dtype: int64"
      ]
     },
     "execution_count": 78,
     "metadata": {},
     "output_type": "execute_result"
    }
   ],
   "source": [
    "train['booking_type_code'].value_counts()"
   ]
  },
  {
   "cell_type": "markdown",
   "metadata": {},
   "source": [
    "## memberid"
   ]
  },
  {
   "cell_type": "code",
   "execution_count": 79,
   "metadata": {},
   "outputs": [
    {
     "data": {
      "text/plain": [
       "81c5295dd0cd56d704882cd28c7c815658ba5796165b7d14dd39a6f4d5ee2842    50\n",
       "b1ba17419ef0fe85c84ead7d792c14259cafc0c779dcd9020dd1cb5970904589    43\n",
       "4b2282462a55d114c539fc2d7035507df514aadd4ad4ac9f721aee4472bcff84    39\n",
       "3850b3f22326a2bbfa4a1f66bb8b97f7b7271e8e3b2e8bbee0450eb94f8d4d2e    38\n",
       "c54eea7870f04d9debcf0610c215bfb289cec84313f348ac922a620ca00a38b1    36\n",
       "                                                                    ..\n",
       "75ba47e97a5559236dc403e796f7440c16a1b88834ba08b3c9abbddde50f1374     1\n",
       "7f02871cfe67f50b1ae9de3ad5d2c68abb60641793bdfc90b6f09cbfb45d81a8     1\n",
       "2fd321a809276abffc2d094a7e4beb2f615775f2d2722df0b8484649d8a6984e     1\n",
       "36869e11925cb460992a67f6d7a0c3b72a80ad753f76469c129182a5e6a485cd     1\n",
       "f74c3ca8ad0179807060db547edc9ab06c209a7bd6368bba1508c74dcee37081     1\n",
       "Name: memberid, Length: 101327, dtype: int64"
      ]
     },
     "execution_count": 79,
     "metadata": {},
     "output_type": "execute_result"
    }
   ],
   "source": [
    "train['memberid'].value_counts()"
   ]
  },
  {
   "cell_type": "code",
   "execution_count": 80,
   "metadata": {},
   "outputs": [],
   "source": [
    "train=train.drop(['memberid'],axis=1)\n",
    "test=test.drop(['memberid'],axis=1)"
   ]
  },
  {
   "cell_type": "markdown",
   "metadata": {},
   "source": [
    "## cluster_code"
   ]
  },
  {
   "cell_type": "code",
   "execution_count": 81,
   "metadata": {},
   "outputs": [
    {
     "data": {
      "text/plain": [
       "F    120623\n",
       "E     59830\n",
       "D     55883\n",
       "C     37809\n",
       "B     37669\n",
       "A     29610\n",
       "Name: cluster_code, dtype: int64"
      ]
     },
     "execution_count": 81,
     "metadata": {},
     "output_type": "execute_result"
    }
   ],
   "source": [
    "train['cluster_code'].value_counts()"
   ]
  },
  {
   "cell_type": "markdown",
   "metadata": {},
   "source": [
    "## reservationstatuscode"
   ]
  },
  {
   "cell_type": "code",
   "execution_count": 82,
   "metadata": {},
   "outputs": [
    {
     "data": {
      "text/plain": [
       "A    312481\n",
       "B     14811\n",
       "C     14131\n",
       "D         1\n",
       "Name: reservationstatusid_code, dtype: int64"
      ]
     },
     "execution_count": 82,
     "metadata": {},
     "output_type": "execute_result"
    }
   ],
   "source": [
    "train['reservationstatusid_code'].value_counts()"
   ]
  },
  {
   "cell_type": "markdown",
   "metadata": {},
   "source": [
    "## resortid"
   ]
  },
  {
   "cell_type": "code",
   "execution_count": 83,
   "metadata": {},
   "outputs": [
    {
     "data": {
      "text/plain": [
       "d4735e3a265e16eee03f59718b9b5d03019c07d8b6c51f90da3a666eec13ab35    35331\n",
       "b17ef6d19c7a5b1ee83b907c595526dcb1eb06db8227d650d5dda0a9f4ce8cd9    28864\n",
       "9400f1b21cb527d7fa3d3eabba93557a18ebe7a2ca4e471cfe5e4c5b4ca7f767    22344\n",
       "49d180ecf56132819571bf39d9b7b342522a2ac6d23c1418d3338251bfe469c8    22005\n",
       "6208ef0f7750c111548cf90b6ea1d0d0a66f6bff40dbef07cb45ec436263c7d6    19001\n",
       "6b86b273ff34fce19d6b804eff5a3f5747ada4eaa22f1d49c01e52ddb7875b4b    18780\n",
       "e29c9c180c6279b0b02abd6a1801c7c04082cf486ec027aa13515e4f3884bb6b    18271\n",
       "da4ea2a5506f2693eae190d9360a1f31793c98a1adade51d93533a6f520ace1c    15465\n",
       "624b60c58c9d8bfb6ff1886c2fd605d2adeb6ea4da576068201b6c6958ce93f4    12175\n",
       "e7f6c011776e8db7cd330b54174fd76f7d0216b612387a5ffcfb81e6f0919683    12074\n",
       "4ec9599fc203d176a301536c2e091a19bc852759b255bd6818810a42c5fed14a    12065\n",
       "ff5a1ae012afa5d4c889c50ad427aaf545d31a4fac04ffc1c4d03d403ba4250a    11478\n",
       "c75cb66ae28d8ebc6eded002c28a8ba0d06d3a78c6b5cbf9b2ade051f0775ac4    10621\n",
       "535fa30d7e25dd8a49f1536779734ec8286108d115da5045d77f3b4185d8f790    10168\n",
       "7902699be42c8a8e46fbbb4501726517e86b22c56a189f7625a6da49081b2451     9794\n",
       "9f14025af0065b30e47e23ebb3b491d39ae8ed17d33739e5ff3827ffb3634953     8683\n",
       "c6f3ac57944a531490cd39902d0f777715fd005efac9a30622d5f5205e7f6894     8633\n",
       "3e1e967e9b793e908f8eae83c74dba9bcccce6a5535b4b462bd9994537bfe15c     7490\n",
       "81b8a03f97e8787c53fe1a86bda042b6f0de9b0ec9c09357e107c99ba4d6948a     5917\n",
       "48449a14a4ff7d79bb7a1b6f3d488eba397c36ef25634c111b49baf362511afc     5711\n",
       "0b918943df0962bc7a1824c0555a389347b4febdc7cf9d1254406d80ce44e3f9     5684\n",
       "670671cd97404156226e507973f2ab8330d3022ca96e0c93bdbdb320c41adcaf     5527\n",
       "39fa9ec190eee7b6f4dff1100d6343e10918d044c75eac8f9e9a2596173f80c9     5398\n",
       "ef2d127de37b942baad06145e54b0c619a1f22327b2ebbcfbec78f5564afe39d     5309\n",
       "a68b412c4282555f15546cf6e1fc42893b7e07f271557ceb021821098dd66c1b     4462\n",
       "f5ca38f748a1d6eaf726b8a42fb575c3c71f1864a8143301782de13da2d9202b     4210\n",
       "7f2253d7e228b22a08bda1f09c516f6fead81df6536eb02fa991a34bb38d9be8     3918\n",
       "4e07408562bedb8b60ce05c1decfe3ad16b72230967de01f640b7e4729b49fce     3879\n",
       "8722616204217eddb39e7df969e0698aed8e599ba62ed2de1ce49b03ade0fede     3870\n",
       "98a3ab7c340e8a033e7b37b6ef9428751581760af67bbab2b9e05d4964a8874a     1551\n",
       "4b227777d4dd1fc61c6f884f48641d02b4d121d3fd328cb08b5531fcacdabf8a     1421\n",
       "3fdba35f04dc8c462986c992bcf875546257113072a909c162f7e470e581e278     1325\n",
       "Name: resort_id, dtype: int64"
      ]
     },
     "execution_count": 83,
     "metadata": {},
     "output_type": "execute_result"
    }
   ],
   "source": [
    "train['resort_id'].value_counts()"
   ]
  },
  {
   "cell_type": "markdown",
   "metadata": {},
   "source": [
    "## amount_spent_per_room_night_scaled"
   ]
  },
  {
   "cell_type": "code",
   "execution_count": 84,
   "metadata": {},
   "outputs": [
    {
     "data": {
      "text/plain": [
       "0         7.706428\n",
       "1         6.662563\n",
       "2         7.871602\n",
       "3         5.344943\n",
       "4         7.059346\n",
       "            ...   \n",
       "341419    5.918087\n",
       "341420    8.186771\n",
       "341421    8.381939\n",
       "341422    8.856035\n",
       "341423    7.864627\n",
       "Name: amount_spent_per_room_night_scaled, Length: 341424, dtype: float64"
      ]
     },
     "execution_count": 84,
     "metadata": {},
     "output_type": "execute_result"
    }
   ],
   "source": [
    "train['amount_spent_per_room_night_scaled']"
   ]
  },
  {
   "cell_type": "code",
   "execution_count": 85,
   "metadata": {},
   "outputs": [
    {
     "data": {
      "text/plain": [
       "<matplotlib.axes._subplots.AxesSubplot at 0x19db6025688>"
      ]
     },
     "execution_count": 85,
     "metadata": {},
     "output_type": "execute_result"
    },
    {
     "data": {
      "image/png": "[encoded data removed]",
      "text/plain": [
       "<Figure size 432x288 with 1 Axes>"
      ]
     },
     "metadata": {
      "needs_background": "light"
     },
     "output_type": "display_data"
    }
   ],
   "source": [
    "sns.distplot(train['amount_spent_per_room_night_scaled'])"
   ]
  },
  {
   "cell_type": "markdown",
   "metadata": {},
   "source": [
    "## Creating Dummies"
   ]
  },
  {
   "cell_type": "code",
   "execution_count": 86,
   "metadata": {},
   "outputs": [],
   "source": [
    "df=pd.concat([train,test],axis=0,sort=False)"
   ]
  },
  {
   "cell_type": "code",
   "execution_count": 87,
   "metadata": {},
   "outputs": [
    {
     "name": "stdout",
     "output_type": "stream",
     "text": [
      "Number of rows in the dataset 488189\n",
      "Number of columns in the dataset 23\n"
     ]
    }
   ],
   "source": [
    "print('Number of rows in the dataset',df.shape[0])\n",
    "print('Number of columns in the dataset',df.shape[1])"
   ]
  },
  {
   "cell_type": "code",
   "execution_count": 88,
   "metadata": {
    "scrolled": true
   },
   "outputs": [
    {
     "data": {
      "text/plain": [
       "channel_code                               0\n",
       "main_product_code                          0\n",
       "numberofadults                             0\n",
       "numberofchildren                           0\n",
       "persontravellingid                         0\n",
       "resort_region_code                         0\n",
       "resort_type_code                           0\n",
       "room_type_booked_code                      0\n",
       "roomnights                                 0\n",
       "season_holidayed_code                      0\n",
       "state_code_residence                       0\n",
       "state_code_resort                          0\n",
       "total_pax                                  0\n",
       "member_age_buckets                         0\n",
       "booking_type_code                          0\n",
       "cluster_code                               0\n",
       "reservationstatusid_code                   0\n",
       "resort_id                                  0\n",
       "amount_spent_per_room_night_scaled    146765\n",
       "days_stayed                                0\n",
       "booking_to_checkin                         0\n",
       "month_of_checkin                           0\n",
       "reservation_id                        341424\n",
       "dtype: int64"
      ]
     },
     "execution_count": 88,
     "metadata": {},
     "output_type": "execute_result"
    }
   ],
   "source": [
    "df.isnull().sum()"
   ]
  },
  {
   "cell_type": "code",
   "execution_count": 89,
   "metadata": {},
   "outputs": [
    {
     "name": "stdout",
     "output_type": "stream",
     "text": [
      "<class 'pandas.core.frame.DataFrame'>\n",
      "Int64Index: 488189 entries, 0 to 146764\n",
      "Data columns (total 23 columns):\n",
      " #   Column                              Non-Null Count   Dtype  \n",
      "---  ------                              --------------   -----  \n",
      " 0   channel_code                        488189 non-null  int64  \n",
      " 1   main_product_code                   488189 non-null  int64  \n",
      " 2   numberofadults                      488189 non-null  int64  \n",
      " 3   numberofchildren                    488189 non-null  int64  \n",
      " 4   persontravellingid                  488189 non-null  int64  \n",
      " 5   resort_region_code                  488189 non-null  int64  \n",
      " 6   resort_type_code                    488189 non-null  int64  \n",
      " 7   room_type_booked_code               488189 non-null  int64  \n",
      " 8   roomnights                          488189 non-null  int64  \n",
      " 9   season_holidayed_code               488189 non-null  float64\n",
      " 10  state_code_residence                488189 non-null  float64\n",
      " 11  state_code_resort                   488189 non-null  int64  \n",
      " 12  total_pax                           488189 non-null  int64  \n",
      " 13  member_age_buckets                  488189 non-null  object \n",
      " 14  booking_type_code                   488189 non-null  int64  \n",
      " 15  cluster_code                        488189 non-null  object \n",
      " 16  reservationstatusid_code            488189 non-null  object \n",
      " 17  resort_id                           488189 non-null  object \n",
      " 18  amount_spent_per_room_night_scaled  341424 non-null  float64\n",
      " 19  days_stayed                         488189 non-null  float64\n",
      " 20  booking_to_checkin                  488189 non-null  float64\n",
      " 21  month_of_checkin                    488189 non-null  int64  \n",
      " 22  reservation_id                      146765 non-null  object \n",
      "dtypes: float64(5), int64(13), object(5)\n",
      "memory usage: 89.4+ MB\n"
     ]
    }
   ],
   "source": [
    "df.info()"
   ]
  },
  {
   "cell_type": "code",
   "execution_count": 90,
   "metadata": {
    "scrolled": false
   },
   "outputs": [
    {
     "data": {
      "text/html": [
       "<div>\n",
       "<style scoped>\n",
       "    .dataframe tbody tr th:only-of-type {\n",
       "        vertical-align: middle;\n",
       "    }\n",
       "\n",
       "    .dataframe tbody tr th {\n",
       "        vertical-align: top;\n",
       "    }\n",
       "\n",
       "    .dataframe thead th {\n",
       "        text-align: right;\n",
       "    }\n",
       "</style>\n",
       "<table border=\"1\" class=\"dataframe\">\n",
       "  <thead>\n",
       "    <tr style=\"text-align: right;\">\n",
       "      <th></th>\n",
       "      <th>channel_code</th>\n",
       "      <th>main_product_code</th>\n",
       "      <th>numberofadults</th>\n",
       "      <th>numberofchildren</th>\n",
       "      <th>persontravellingid</th>\n",
       "      <th>resort_region_code</th>\n",
       "      <th>resort_type_code</th>\n",
       "      <th>room_type_booked_code</th>\n",
       "      <th>roomnights</th>\n",
       "      <th>season_holidayed_code</th>\n",
       "      <th>state_code_residence</th>\n",
       "      <th>state_code_resort</th>\n",
       "      <th>total_pax</th>\n",
       "      <th>member_age_buckets</th>\n",
       "      <th>booking_type_code</th>\n",
       "      <th>cluster_code</th>\n",
       "      <th>reservationstatusid_code</th>\n",
       "      <th>resort_id</th>\n",
       "      <th>amount_spent_per_room_night_scaled</th>\n",
       "      <th>days_stayed</th>\n",
       "      <th>booking_to_checkin</th>\n",
       "      <th>month_of_checkin</th>\n",
       "      <th>reservation_id</th>\n",
       "    </tr>\n",
       "  </thead>\n",
       "  <tbody>\n",
       "    <tr>\n",
       "      <th>0</th>\n",
       "      <td>3</td>\n",
       "      <td>1</td>\n",
       "      <td>2</td>\n",
       "      <td>0</td>\n",
       "      <td>46</td>\n",
       "      <td>3</td>\n",
       "      <td>3</td>\n",
       "      <td>3</td>\n",
       "      <td>1</td>\n",
       "      <td>2.0</td>\n",
       "      <td>7.0</td>\n",
       "      <td>3</td>\n",
       "      <td>3</td>\n",
       "      <td>F</td>\n",
       "      <td>1</td>\n",
       "      <td>F</td>\n",
       "      <td>C</td>\n",
       "      <td>4e07408562bedb8b60ce05c1decfe3ad16b72230967de0...</td>\n",
       "      <td>7.706428</td>\n",
       "      <td>1.0</td>\n",
       "      <td>0.0</td>\n",
       "      <td>4</td>\n",
       "      <td>NaN</td>\n",
       "    </tr>\n",
       "    <tr>\n",
       "      <th>1</th>\n",
       "      <td>1</td>\n",
       "      <td>1</td>\n",
       "      <td>2</td>\n",
       "      <td>0</td>\n",
       "      <td>46</td>\n",
       "      <td>3</td>\n",
       "      <td>3</td>\n",
       "      <td>4</td>\n",
       "      <td>5</td>\n",
       "      <td>2.0</td>\n",
       "      <td>7.0</td>\n",
       "      <td>5</td>\n",
       "      <td>2</td>\n",
       "      <td>F</td>\n",
       "      <td>1</td>\n",
       "      <td>F</td>\n",
       "      <td>A</td>\n",
       "      <td>39fa9ec190eee7b6f4dff1100d6343e10918d044c75eac...</td>\n",
       "      <td>6.662563</td>\n",
       "      <td>5.0</td>\n",
       "      <td>78.0</td>\n",
       "      <td>4</td>\n",
       "      <td>NaN</td>\n",
       "    </tr>\n",
       "    <tr>\n",
       "      <th>2</th>\n",
       "      <td>1</td>\n",
       "      <td>1</td>\n",
       "      <td>2</td>\n",
       "      <td>0</td>\n",
       "      <td>47</td>\n",
       "      <td>1</td>\n",
       "      <td>5</td>\n",
       "      <td>4</td>\n",
       "      <td>4</td>\n",
       "      <td>2.0</td>\n",
       "      <td>7.0</td>\n",
       "      <td>1</td>\n",
       "      <td>2</td>\n",
       "      <td>F</td>\n",
       "      <td>1</td>\n",
       "      <td>E</td>\n",
       "      <td>A</td>\n",
       "      <td>535fa30d7e25dd8a49f1536779734ec8286108d115da50...</td>\n",
       "      <td>7.871602</td>\n",
       "      <td>4.0</td>\n",
       "      <td>4.0</td>\n",
       "      <td>2</td>\n",
       "      <td>NaN</td>\n",
       "    </tr>\n",
       "    <tr>\n",
       "      <th>3</th>\n",
       "      <td>1</td>\n",
       "      <td>1</td>\n",
       "      <td>2</td>\n",
       "      <td>2</td>\n",
       "      <td>46</td>\n",
       "      <td>2</td>\n",
       "      <td>2</td>\n",
       "      <td>3</td>\n",
       "      <td>5</td>\n",
       "      <td>2.0</td>\n",
       "      <td>7.0</td>\n",
       "      <td>2</td>\n",
       "      <td>2</td>\n",
       "      <td>F</td>\n",
       "      <td>1</td>\n",
       "      <td>D</td>\n",
       "      <td>A</td>\n",
       "      <td>d4735e3a265e16eee03f59718b9b5d03019c07d8b6c51f...</td>\n",
       "      <td>5.344943</td>\n",
       "      <td>5.0</td>\n",
       "      <td>40.0</td>\n",
       "      <td>6</td>\n",
       "      <td>NaN</td>\n",
       "    </tr>\n",
       "    <tr>\n",
       "      <th>4</th>\n",
       "      <td>1</td>\n",
       "      <td>1</td>\n",
       "      <td>2</td>\n",
       "      <td>0</td>\n",
       "      <td>46</td>\n",
       "      <td>2</td>\n",
       "      <td>2</td>\n",
       "      <td>4</td>\n",
       "      <td>5</td>\n",
       "      <td>2.0</td>\n",
       "      <td>7.0</td>\n",
       "      <td>2</td>\n",
       "      <td>2</td>\n",
       "      <td>F</td>\n",
       "      <td>1</td>\n",
       "      <td>D</td>\n",
       "      <td>A</td>\n",
       "      <td>d4735e3a265e16eee03f59718b9b5d03019c07d8b6c51f...</td>\n",
       "      <td>7.059346</td>\n",
       "      <td>5.0</td>\n",
       "      <td>103.0</td>\n",
       "      <td>12</td>\n",
       "      <td>NaN</td>\n",
       "    </tr>\n",
       "  </tbody>\n",
       "</table>\n",
       "</div>"
      ],
      "text/plain": [
       "   channel_code  main_product_code  numberofadults  numberofchildren  \\\n",
       "0             3                  1               2                 0   \n",
       "1             1                  1               2                 0   \n",
       "2             1                  1               2                 0   \n",
       "3             1                  1               2                 2   \n",
       "4             1                  1               2                 0   \n",
       "\n",
       "   persontravellingid  resort_region_code  resort_type_code  \\\n",
       "0                  46                   3                 3   \n",
       "1                  46                   3                 3   \n",
       "2                  47                   1                 5   \n",
       "3                  46                   2                 2   \n",
       "4                  46                   2                 2   \n",
       "\n",
       "   room_type_booked_code  roomnights  season_holidayed_code  \\\n",
       "0                      3           1                    2.0   \n",
       "1                      4           5                    2.0   \n",
       "2                      4           4                    2.0   \n",
       "3                      3           5                    2.0   \n",
       "4                      4           5                    2.0   \n",
       "\n",
       "   state_code_residence  state_code_resort  total_pax member_age_buckets  \\\n",
       "0                   7.0                  3          3                  F   \n",
       "1                   7.0                  5          2                  F   \n",
       "2                   7.0                  1          2                  F   \n",
       "3                   7.0                  2          2                  F   \n",
       "4                   7.0                  2          2                  F   \n",
       "\n",
       "   booking_type_code cluster_code reservationstatusid_code  \\\n",
       "0                  1            F                        C   \n",
       "1                  1            F                        A   \n",
       "2                  1            E                        A   \n",
       "3                  1            D                        A   \n",
       "4                  1            D                        A   \n",
       "\n",
       "                                           resort_id  \\\n",
       "0  4e07408562bedb8b60ce05c1decfe3ad16b72230967de0...   \n",
       "1  39fa9ec190eee7b6f4dff1100d6343e10918d044c75eac...   \n",
       "2  535fa30d7e25dd8a49f1536779734ec8286108d115da50...   \n",
       "3  d4735e3a265e16eee03f59718b9b5d03019c07d8b6c51f...   \n",
       "4  d4735e3a265e16eee03f59718b9b5d03019c07d8b6c51f...   \n",
       "\n",
       "   amount_spent_per_room_night_scaled  days_stayed  booking_to_checkin  \\\n",
       "0                            7.706428          1.0                 0.0   \n",
       "1                            6.662563          5.0                78.0   \n",
       "2                            7.871602          4.0                 4.0   \n",
       "3                            5.344943          5.0                40.0   \n",
       "4                            7.059346          5.0               103.0   \n",
       "\n",
       "   month_of_checkin reservation_id  \n",
       "0                 4            NaN  \n",
       "1                 4            NaN  \n",
       "2                 2            NaN  \n",
       "3                 6            NaN  \n",
       "4                12            NaN  "
      ]
     },
     "execution_count": 90,
     "metadata": {},
     "output_type": "execute_result"
    }
   ],
   "source": [
    "df.head(5)"
   ]
  },
  {
   "cell_type": "code",
   "execution_count": 91,
   "metadata": {},
   "outputs": [
    {
     "data": {
      "text/plain": [
       "Int64Index([     0,      1,      2,      3,      4,      5,      6,      7,\n",
       "                 8,      9,\n",
       "            ...\n",
       "            146755, 146756, 146757, 146758, 146759, 146760, 146761, 146762,\n",
       "            146763, 146764],\n",
       "           dtype='int64', length=488189)"
      ]
     },
     "execution_count": 91,
     "metadata": {},
     "output_type": "execute_result"
    }
   ],
   "source": [
    "df.index"
   ]
  },
  {
   "cell_type": "code",
   "execution_count": 92,
   "metadata": {},
   "outputs": [],
   "source": [
    "from sklearn.preprocessing import LabelEncoder,OneHotEncoder\n",
    "le=LabelEncoder()\n",
    "ohe=OneHotEncoder(sparse=False,categories='auto')"
   ]
  },
  {
   "cell_type": "code",
   "execution_count": 93,
   "metadata": {},
   "outputs": [],
   "source": [
    "df['persontravellingid']=le.fit_transform(df['persontravellingid'])\n",
    "df['resort_id']=le.fit_transform(df['resort_id'])"
   ]
  },
  {
   "cell_type": "code",
   "execution_count": 94,
   "metadata": {},
   "outputs": [
    {
     "data": {
      "text/html": [
       "<div>\n",
       "<style scoped>\n",
       "    .dataframe tbody tr th:only-of-type {\n",
       "        vertical-align: middle;\n",
       "    }\n",
       "\n",
       "    .dataframe tbody tr th {\n",
       "        vertical-align: top;\n",
       "    }\n",
       "\n",
       "    .dataframe thead th {\n",
       "        text-align: right;\n",
       "    }\n",
       "</style>\n",
       "<table border=\"1\" class=\"dataframe\">\n",
       "  <thead>\n",
       "    <tr style=\"text-align: right;\">\n",
       "      <th></th>\n",
       "      <th>member_age_buckets</th>\n",
       "      <th>cluster_code</th>\n",
       "      <th>reservationstatusid_code</th>\n",
       "    </tr>\n",
       "  </thead>\n",
       "  <tbody>\n",
       "    <tr>\n",
       "      <th>0</th>\n",
       "      <td>F</td>\n",
       "      <td>F</td>\n",
       "      <td>C</td>\n",
       "    </tr>\n",
       "    <tr>\n",
       "      <th>1</th>\n",
       "      <td>F</td>\n",
       "      <td>F</td>\n",
       "      <td>A</td>\n",
       "    </tr>\n",
       "    <tr>\n",
       "      <th>2</th>\n",
       "      <td>F</td>\n",
       "      <td>E</td>\n",
       "      <td>A</td>\n",
       "    </tr>\n",
       "    <tr>\n",
       "      <th>3</th>\n",
       "      <td>F</td>\n",
       "      <td>D</td>\n",
       "      <td>A</td>\n",
       "    </tr>\n",
       "    <tr>\n",
       "      <th>4</th>\n",
       "      <td>F</td>\n",
       "      <td>D</td>\n",
       "      <td>A</td>\n",
       "    </tr>\n",
       "    <tr>\n",
       "      <th>...</th>\n",
       "      <td>...</td>\n",
       "      <td>...</td>\n",
       "      <td>...</td>\n",
       "    </tr>\n",
       "    <tr>\n",
       "      <th>146760</th>\n",
       "      <td>E</td>\n",
       "      <td>E</td>\n",
       "      <td>A</td>\n",
       "    </tr>\n",
       "    <tr>\n",
       "      <th>146761</th>\n",
       "      <td>B</td>\n",
       "      <td>D</td>\n",
       "      <td>A</td>\n",
       "    </tr>\n",
       "    <tr>\n",
       "      <th>146762</th>\n",
       "      <td>F</td>\n",
       "      <td>F</td>\n",
       "      <td>A</td>\n",
       "    </tr>\n",
       "    <tr>\n",
       "      <th>146763</th>\n",
       "      <td>I</td>\n",
       "      <td>A</td>\n",
       "      <td>A</td>\n",
       "    </tr>\n",
       "    <tr>\n",
       "      <th>146764</th>\n",
       "      <td>B</td>\n",
       "      <td>C</td>\n",
       "      <td>A</td>\n",
       "    </tr>\n",
       "  </tbody>\n",
       "</table>\n",
       "<p>488189 rows × 3 columns</p>\n",
       "</div>"
      ],
      "text/plain": [
       "       member_age_buckets cluster_code reservationstatusid_code\n",
       "0                       F            F                        C\n",
       "1                       F            F                        A\n",
       "2                       F            E                        A\n",
       "3                       F            D                        A\n",
       "4                       F            D                        A\n",
       "...                   ...          ...                      ...\n",
       "146760                  E            E                        A\n",
       "146761                  B            D                        A\n",
       "146762                  F            F                        A\n",
       "146763                  I            A                        A\n",
       "146764                  B            C                        A\n",
       "\n",
       "[488189 rows x 3 columns]"
      ]
     },
     "execution_count": 94,
     "metadata": {},
     "output_type": "execute_result"
    }
   ],
   "source": [
    "df.select_dtypes(include='object').drop(['reservation_id'],axis=1)"
   ]
  },
  {
   "cell_type": "code",
   "execution_count": 95,
   "metadata": {},
   "outputs": [
    {
     "data": {
      "text/plain": [
       "array([[0., 0., 0., ..., 0., 1., 0.],\n",
       "       [0., 0., 0., ..., 0., 0., 0.],\n",
       "       [0., 0., 0., ..., 0., 0., 0.],\n",
       "       ...,\n",
       "       [0., 0., 0., ..., 0., 0., 0.],\n",
       "       [0., 0., 0., ..., 0., 0., 0.],\n",
       "       [0., 1., 0., ..., 0., 0., 0.]])"
      ]
     },
     "execution_count": 95,
     "metadata": {},
     "output_type": "execute_result"
    }
   ],
   "source": [
    "ohe.fit_transform(df.select_dtypes(include='object').drop(['reservation_id'],axis=1))"
   ]
  },
  {
   "cell_type": "code",
   "execution_count": 96,
   "metadata": {
    "scrolled": true
   },
   "outputs": [
    {
     "data": {
      "text/plain": [
       "array(['member_age_buckets_A', 'member_age_buckets_B',\n",
       "       'member_age_buckets_C', 'member_age_buckets_D',\n",
       "       'member_age_buckets_E', 'member_age_buckets_F',\n",
       "       'member_age_buckets_G', 'member_age_buckets_H',\n",
       "       'member_age_buckets_I', 'member_age_buckets_J', 'cluster_code_A',\n",
       "       'cluster_code_B', 'cluster_code_C', 'cluster_code_D',\n",
       "       'cluster_code_E', 'cluster_code_F', 'reservationstatusid_code_A',\n",
       "       'reservationstatusid_code_B', 'reservationstatusid_code_C',\n",
       "       'reservationstatusid_code_D'], dtype=object)"
      ]
     },
     "execution_count": 96,
     "metadata": {},
     "output_type": "execute_result"
    }
   ],
   "source": [
    "ohe.get_feature_names(df.select_dtypes(include='object').drop(['reservation_id'],axis=1).columns)"
   ]
  },
  {
   "cell_type": "code",
   "execution_count": 97,
   "metadata": {},
   "outputs": [
    {
     "data": {
      "text/html": [
       "<div>\n",
       "<style scoped>\n",
       "    .dataframe tbody tr th:only-of-type {\n",
       "        vertical-align: middle;\n",
       "    }\n",
       "\n",
       "    .dataframe tbody tr th {\n",
       "        vertical-align: top;\n",
       "    }\n",
       "\n",
       "    .dataframe thead th {\n",
       "        text-align: right;\n",
       "    }\n",
       "</style>\n",
       "<table border=\"1\" class=\"dataframe\">\n",
       "  <thead>\n",
       "    <tr style=\"text-align: right;\">\n",
       "      <th></th>\n",
       "      <th>member_age_buckets</th>\n",
       "      <th>cluster_code</th>\n",
       "      <th>reservationstatusid_code</th>\n",
       "    </tr>\n",
       "  </thead>\n",
       "  <tbody>\n",
       "    <tr>\n",
       "      <th>0</th>\n",
       "      <td>F</td>\n",
       "      <td>F</td>\n",
       "      <td>C</td>\n",
       "    </tr>\n",
       "    <tr>\n",
       "      <th>1</th>\n",
       "      <td>F</td>\n",
       "      <td>F</td>\n",
       "      <td>A</td>\n",
       "    </tr>\n",
       "    <tr>\n",
       "      <th>2</th>\n",
       "      <td>F</td>\n",
       "      <td>E</td>\n",
       "      <td>A</td>\n",
       "    </tr>\n",
       "    <tr>\n",
       "      <th>3</th>\n",
       "      <td>F</td>\n",
       "      <td>D</td>\n",
       "      <td>A</td>\n",
       "    </tr>\n",
       "    <tr>\n",
       "      <th>4</th>\n",
       "      <td>F</td>\n",
       "      <td>D</td>\n",
       "      <td>A</td>\n",
       "    </tr>\n",
       "    <tr>\n",
       "      <th>...</th>\n",
       "      <td>...</td>\n",
       "      <td>...</td>\n",
       "      <td>...</td>\n",
       "    </tr>\n",
       "    <tr>\n",
       "      <th>146760</th>\n",
       "      <td>E</td>\n",
       "      <td>E</td>\n",
       "      <td>A</td>\n",
       "    </tr>\n",
       "    <tr>\n",
       "      <th>146761</th>\n",
       "      <td>B</td>\n",
       "      <td>D</td>\n",
       "      <td>A</td>\n",
       "    </tr>\n",
       "    <tr>\n",
       "      <th>146762</th>\n",
       "      <td>F</td>\n",
       "      <td>F</td>\n",
       "      <td>A</td>\n",
       "    </tr>\n",
       "    <tr>\n",
       "      <th>146763</th>\n",
       "      <td>I</td>\n",
       "      <td>A</td>\n",
       "      <td>A</td>\n",
       "    </tr>\n",
       "    <tr>\n",
       "      <th>146764</th>\n",
       "      <td>B</td>\n",
       "      <td>C</td>\n",
       "      <td>A</td>\n",
       "    </tr>\n",
       "  </tbody>\n",
       "</table>\n",
       "<p>488189 rows × 3 columns</p>\n",
       "</div>"
      ],
      "text/plain": [
       "       member_age_buckets cluster_code reservationstatusid_code\n",
       "0                       F            F                        C\n",
       "1                       F            F                        A\n",
       "2                       F            E                        A\n",
       "3                       F            D                        A\n",
       "4                       F            D                        A\n",
       "...                   ...          ...                      ...\n",
       "146760                  E            E                        A\n",
       "146761                  B            D                        A\n",
       "146762                  F            F                        A\n",
       "146763                  I            A                        A\n",
       "146764                  B            C                        A\n",
       "\n",
       "[488189 rows x 3 columns]"
      ]
     },
     "execution_count": 97,
     "metadata": {},
     "output_type": "execute_result"
    }
   ],
   "source": [
    "df.select_dtypes(include='object').drop(['reservation_id'],axis=1)"
   ]
  },
  {
   "cell_type": "code",
   "execution_count": 98,
   "metadata": {},
   "outputs": [],
   "source": [
    "temp=pd.DataFrame(ohe.fit_transform(df.select_dtypes(include='object').drop(['reservation_id'],axis=1)),\n",
    "                  columns=ohe.get_feature_names(df.select_dtypes(include='object').drop(['reservation_id'],axis=1).columns)\n",
    "                 ,index=df.index)"
   ]
  },
  {
   "cell_type": "code",
   "execution_count": 99,
   "metadata": {},
   "outputs": [],
   "source": [
    "temp=temp.astype('int')"
   ]
  },
  {
   "cell_type": "code",
   "execution_count": 100,
   "metadata": {},
   "outputs": [],
   "source": [
    "df=df.drop(df.select_dtypes(include='object'),axis=1)"
   ]
  },
  {
   "cell_type": "code",
   "execution_count": 101,
   "metadata": {},
   "outputs": [
    {
     "data": {
      "text/plain": [
       "(488189, 19)"
      ]
     },
     "execution_count": 101,
     "metadata": {},
     "output_type": "execute_result"
    }
   ],
   "source": [
    "df.shape"
   ]
  },
  {
   "cell_type": "code",
   "execution_count": 102,
   "metadata": {},
   "outputs": [
    {
     "data": {
      "text/plain": [
       "(488189, 20)"
      ]
     },
     "execution_count": 102,
     "metadata": {},
     "output_type": "execute_result"
    }
   ],
   "source": [
    "temp.shape"
   ]
  },
  {
   "cell_type": "code",
   "execution_count": 103,
   "metadata": {},
   "outputs": [],
   "source": [
    "df_final=pd.concat([df,temp],axis=1)"
   ]
  },
  {
   "cell_type": "code",
   "execution_count": 104,
   "metadata": {
    "scrolled": true
   },
   "outputs": [
    {
     "data": {
      "text/html": [
       "<div>\n",
       "<style scoped>\n",
       "    .dataframe tbody tr th:only-of-type {\n",
       "        vertical-align: middle;\n",
       "    }\n",
       "\n",
       "    .dataframe tbody tr th {\n",
       "        vertical-align: top;\n",
       "    }\n",
       "\n",
       "    .dataframe thead th {\n",
       "        text-align: right;\n",
       "    }\n",
       "</style>\n",
       "<table border=\"1\" class=\"dataframe\">\n",
       "  <thead>\n",
       "    <tr style=\"text-align: right;\">\n",
       "      <th></th>\n",
       "      <th>channel_code</th>\n",
       "      <th>main_product_code</th>\n",
       "      <th>numberofadults</th>\n",
       "      <th>numberofchildren</th>\n",
       "      <th>persontravellingid</th>\n",
       "      <th>resort_region_code</th>\n",
       "      <th>resort_type_code</th>\n",
       "      <th>room_type_booked_code</th>\n",
       "      <th>roomnights</th>\n",
       "      <th>season_holidayed_code</th>\n",
       "      <th>state_code_residence</th>\n",
       "      <th>state_code_resort</th>\n",
       "      <th>total_pax</th>\n",
       "      <th>booking_type_code</th>\n",
       "      <th>resort_id</th>\n",
       "      <th>amount_spent_per_room_night_scaled</th>\n",
       "      <th>days_stayed</th>\n",
       "      <th>booking_to_checkin</th>\n",
       "      <th>month_of_checkin</th>\n",
       "      <th>member_age_buckets_A</th>\n",
       "      <th>member_age_buckets_B</th>\n",
       "      <th>member_age_buckets_C</th>\n",
       "      <th>member_age_buckets_D</th>\n",
       "      <th>member_age_buckets_E</th>\n",
       "      <th>member_age_buckets_F</th>\n",
       "      <th>member_age_buckets_G</th>\n",
       "      <th>member_age_buckets_H</th>\n",
       "      <th>member_age_buckets_I</th>\n",
       "      <th>member_age_buckets_J</th>\n",
       "      <th>cluster_code_A</th>\n",
       "      <th>cluster_code_B</th>\n",
       "      <th>cluster_code_C</th>\n",
       "      <th>cluster_code_D</th>\n",
       "      <th>cluster_code_E</th>\n",
       "      <th>cluster_code_F</th>\n",
       "      <th>reservationstatusid_code_A</th>\n",
       "      <th>reservationstatusid_code_B</th>\n",
       "      <th>reservationstatusid_code_C</th>\n",
       "      <th>reservationstatusid_code_D</th>\n",
       "    </tr>\n",
       "  </thead>\n",
       "  <tbody>\n",
       "    <tr>\n",
       "      <th>0</th>\n",
       "      <td>3</td>\n",
       "      <td>1</td>\n",
       "      <td>2</td>\n",
       "      <td>0</td>\n",
       "      <td>1</td>\n",
       "      <td>3</td>\n",
       "      <td>3</td>\n",
       "      <td>3</td>\n",
       "      <td>1</td>\n",
       "      <td>2.0</td>\n",
       "      <td>7.0</td>\n",
       "      <td>3</td>\n",
       "      <td>3</td>\n",
       "      <td>1</td>\n",
       "      <td>7</td>\n",
       "      <td>7.706428</td>\n",
       "      <td>1.0</td>\n",
       "      <td>0.0</td>\n",
       "      <td>4</td>\n",
       "      <td>0</td>\n",
       "      <td>0</td>\n",
       "      <td>0</td>\n",
       "      <td>0</td>\n",
       "      <td>0</td>\n",
       "      <td>1</td>\n",
       "      <td>0</td>\n",
       "      <td>0</td>\n",
       "      <td>0</td>\n",
       "      <td>0</td>\n",
       "      <td>0</td>\n",
       "      <td>0</td>\n",
       "      <td>0</td>\n",
       "      <td>0</td>\n",
       "      <td>0</td>\n",
       "      <td>1</td>\n",
       "      <td>0</td>\n",
       "      <td>0</td>\n",
       "      <td>1</td>\n",
       "      <td>0</td>\n",
       "    </tr>\n",
       "    <tr>\n",
       "      <th>1</th>\n",
       "      <td>1</td>\n",
       "      <td>1</td>\n",
       "      <td>2</td>\n",
       "      <td>0</td>\n",
       "      <td>1</td>\n",
       "      <td>3</td>\n",
       "      <td>3</td>\n",
       "      <td>4</td>\n",
       "      <td>5</td>\n",
       "      <td>2.0</td>\n",
       "      <td>7.0</td>\n",
       "      <td>5</td>\n",
       "      <td>2</td>\n",
       "      <td>1</td>\n",
       "      <td>1</td>\n",
       "      <td>6.662563</td>\n",
       "      <td>5.0</td>\n",
       "      <td>78.0</td>\n",
       "      <td>4</td>\n",
       "      <td>0</td>\n",
       "      <td>0</td>\n",
       "      <td>0</td>\n",
       "      <td>0</td>\n",
       "      <td>0</td>\n",
       "      <td>1</td>\n",
       "      <td>0</td>\n",
       "      <td>0</td>\n",
       "      <td>0</td>\n",
       "      <td>0</td>\n",
       "      <td>0</td>\n",
       "      <td>0</td>\n",
       "      <td>0</td>\n",
       "      <td>0</td>\n",
       "      <td>0</td>\n",
       "      <td>1</td>\n",
       "      <td>1</td>\n",
       "      <td>0</td>\n",
       "      <td>0</td>\n",
       "      <td>0</td>\n",
       "    </tr>\n",
       "    <tr>\n",
       "      <th>2</th>\n",
       "      <td>1</td>\n",
       "      <td>1</td>\n",
       "      <td>2</td>\n",
       "      <td>0</td>\n",
       "      <td>2</td>\n",
       "      <td>1</td>\n",
       "      <td>5</td>\n",
       "      <td>4</td>\n",
       "      <td>4</td>\n",
       "      <td>2.0</td>\n",
       "      <td>7.0</td>\n",
       "      <td>1</td>\n",
       "      <td>2</td>\n",
       "      <td>1</td>\n",
       "      <td>9</td>\n",
       "      <td>7.871602</td>\n",
       "      <td>4.0</td>\n",
       "      <td>4.0</td>\n",
       "      <td>2</td>\n",
       "      <td>0</td>\n",
       "      <td>0</td>\n",
       "      <td>0</td>\n",
       "      <td>0</td>\n",
       "      <td>0</td>\n",
       "      <td>1</td>\n",
       "      <td>0</td>\n",
       "      <td>0</td>\n",
       "      <td>0</td>\n",
       "      <td>0</td>\n",
       "      <td>0</td>\n",
       "      <td>0</td>\n",
       "      <td>0</td>\n",
       "      <td>0</td>\n",
       "      <td>1</td>\n",
       "      <td>0</td>\n",
       "      <td>1</td>\n",
       "      <td>0</td>\n",
       "      <td>0</td>\n",
       "      <td>0</td>\n",
       "    </tr>\n",
       "    <tr>\n",
       "      <th>3</th>\n",
       "      <td>1</td>\n",
       "      <td>1</td>\n",
       "      <td>2</td>\n",
       "      <td>2</td>\n",
       "      <td>1</td>\n",
       "      <td>2</td>\n",
       "      <td>2</td>\n",
       "      <td>3</td>\n",
       "      <td>5</td>\n",
       "      <td>2.0</td>\n",
       "      <td>7.0</td>\n",
       "      <td>2</td>\n",
       "      <td>2</td>\n",
       "      <td>1</td>\n",
       "      <td>25</td>\n",
       "      <td>5.344943</td>\n",
       "      <td>5.0</td>\n",
       "      <td>40.0</td>\n",
       "      <td>6</td>\n",
       "      <td>0</td>\n",
       "      <td>0</td>\n",
       "      <td>0</td>\n",
       "      <td>0</td>\n",
       "      <td>0</td>\n",
       "      <td>1</td>\n",
       "      <td>0</td>\n",
       "      <td>0</td>\n",
       "      <td>0</td>\n",
       "      <td>0</td>\n",
       "      <td>0</td>\n",
       "      <td>0</td>\n",
       "      <td>0</td>\n",
       "      <td>1</td>\n",
       "      <td>0</td>\n",
       "      <td>0</td>\n",
       "      <td>1</td>\n",
       "      <td>0</td>\n",
       "      <td>0</td>\n",
       "      <td>0</td>\n",
       "    </tr>\n",
       "    <tr>\n",
       "      <th>4</th>\n",
       "      <td>1</td>\n",
       "      <td>1</td>\n",
       "      <td>2</td>\n",
       "      <td>0</td>\n",
       "      <td>1</td>\n",
       "      <td>2</td>\n",
       "      <td>2</td>\n",
       "      <td>4</td>\n",
       "      <td>5</td>\n",
       "      <td>2.0</td>\n",
       "      <td>7.0</td>\n",
       "      <td>2</td>\n",
       "      <td>2</td>\n",
       "      <td>1</td>\n",
       "      <td>25</td>\n",
       "      <td>7.059346</td>\n",
       "      <td>5.0</td>\n",
       "      <td>103.0</td>\n",
       "      <td>12</td>\n",
       "      <td>0</td>\n",
       "      <td>0</td>\n",
       "      <td>0</td>\n",
       "      <td>0</td>\n",
       "      <td>0</td>\n",
       "      <td>1</td>\n",
       "      <td>0</td>\n",
       "      <td>0</td>\n",
       "      <td>0</td>\n",
       "      <td>0</td>\n",
       "      <td>0</td>\n",
       "      <td>0</td>\n",
       "      <td>0</td>\n",
       "      <td>1</td>\n",
       "      <td>0</td>\n",
       "      <td>0</td>\n",
       "      <td>1</td>\n",
       "      <td>0</td>\n",
       "      <td>0</td>\n",
       "      <td>0</td>\n",
       "    </tr>\n",
       "  </tbody>\n",
       "</table>\n",
       "</div>"
      ],
      "text/plain": [
       "   channel_code  main_product_code  numberofadults  numberofchildren  \\\n",
       "0             3                  1               2                 0   \n",
       "1             1                  1               2                 0   \n",
       "2             1                  1               2                 0   \n",
       "3             1                  1               2                 2   \n",
       "4             1                  1               2                 0   \n",
       "\n",
       "   persontravellingid  resort_region_code  resort_type_code  \\\n",
       "0                   1                   3                 3   \n",
       "1                   1                   3                 3   \n",
       "2                   2                   1                 5   \n",
       "3                   1                   2                 2   \n",
       "4                   1                   2                 2   \n",
       "\n",
       "   room_type_booked_code  roomnights  season_holidayed_code  \\\n",
       "0                      3           1                    2.0   \n",
       "1                      4           5                    2.0   \n",
       "2                      4           4                    2.0   \n",
       "3                      3           5                    2.0   \n",
       "4                      4           5                    2.0   \n",
       "\n",
       "   state_code_residence  state_code_resort  total_pax  booking_type_code  \\\n",
       "0                   7.0                  3          3                  1   \n",
       "1                   7.0                  5          2                  1   \n",
       "2                   7.0                  1          2                  1   \n",
       "3                   7.0                  2          2                  1   \n",
       "4                   7.0                  2          2                  1   \n",
       "\n",
       "   resort_id  amount_spent_per_room_night_scaled  days_stayed  \\\n",
       "0          7                            7.706428          1.0   \n",
       "1          1                            6.662563          5.0   \n",
       "2          9                            7.871602          4.0   \n",
       "3         25                            5.344943          5.0   \n",
       "4         25                            7.059346          5.0   \n",
       "\n",
       "   booking_to_checkin  month_of_checkin  member_age_buckets_A  \\\n",
       "0                 0.0                 4                     0   \n",
       "1                78.0                 4                     0   \n",
       "2                 4.0                 2                     0   \n",
       "3                40.0                 6                     0   \n",
       "4               103.0                12                     0   \n",
       "\n",
       "   member_age_buckets_B  member_age_buckets_C  member_age_buckets_D  \\\n",
       "0                     0                     0                     0   \n",
       "1                     0                     0                     0   \n",
       "2                     0                     0                     0   \n",
       "3                     0                     0                     0   \n",
       "4                     0                     0                     0   \n",
       "\n",
       "   member_age_buckets_E  member_age_buckets_F  member_age_buckets_G  \\\n",
       "0                     0                     1                     0   \n",
       "1                     0                     1                     0   \n",
       "2                     0                     1                     0   \n",
       "3                     0                     1                     0   \n",
       "4                     0                     1                     0   \n",
       "\n",
       "   member_age_buckets_H  member_age_buckets_I  member_age_buckets_J  \\\n",
       "0                     0                     0                     0   \n",
       "1                     0                     0                     0   \n",
       "2                     0                     0                     0   \n",
       "3                     0                     0                     0   \n",
       "4                     0                     0                     0   \n",
       "\n",
       "   cluster_code_A  cluster_code_B  cluster_code_C  cluster_code_D  \\\n",
       "0               0               0               0               0   \n",
       "1               0               0               0               0   \n",
       "2               0               0               0               0   \n",
       "3               0               0               0               1   \n",
       "4               0               0               0               1   \n",
       "\n",
       "   cluster_code_E  cluster_code_F  reservationstatusid_code_A  \\\n",
       "0               0               1                           0   \n",
       "1               0               1                           1   \n",
       "2               1               0                           1   \n",
       "3               0               0                           1   \n",
       "4               0               0                           1   \n",
       "\n",
       "   reservationstatusid_code_B  reservationstatusid_code_C  \\\n",
       "0                           0                           1   \n",
       "1                           0                           0   \n",
       "2                           0                           0   \n",
       "3                           0                           0   \n",
       "4                           0                           0   \n",
       "\n",
       "   reservationstatusid_code_D  \n",
       "0                           0  \n",
       "1                           0  \n",
       "2                           0  \n",
       "3                           0  \n",
       "4                           0  "
      ]
     },
     "execution_count": 104,
     "metadata": {},
     "output_type": "execute_result"
    }
   ],
   "source": [
    "df_final.head()"
   ]
  },
  {
   "cell_type": "code",
   "execution_count": 105,
   "metadata": {},
   "outputs": [],
   "source": [
    "df_final=df_final.loc[:,~df_final.columns.duplicated()]"
   ]
  },
  {
   "cell_type": "code",
   "execution_count": 106,
   "metadata": {},
   "outputs": [
    {
     "data": {
      "text/plain": [
       "341424"
      ]
     },
     "execution_count": 106,
     "metadata": {},
     "output_type": "execute_result"
    }
   ],
   "source": [
    "train.shape[0]"
   ]
  },
  {
   "cell_type": "code",
   "execution_count": 107,
   "metadata": {},
   "outputs": [],
   "source": [
    "df_train=df_final.iloc[:train.shape[0],:]\n",
    "df_test=df_final.iloc[train.shape[0]:,:]"
   ]
  },
  {
   "cell_type": "code",
   "execution_count": 110,
   "metadata": {},
   "outputs": [
    {
     "data": {
      "text/html": [
       "<div>\n",
       "<style scoped>\n",
       "    .dataframe tbody tr th:only-of-type {\n",
       "        vertical-align: middle;\n",
       "    }\n",
       "\n",
       "    .dataframe tbody tr th {\n",
       "        vertical-align: top;\n",
       "    }\n",
       "\n",
       "    .dataframe thead th {\n",
       "        text-align: right;\n",
       "    }\n",
       "</style>\n",
       "<table border=\"1\" class=\"dataframe\">\n",
       "  <thead>\n",
       "    <tr style=\"text-align: right;\">\n",
       "      <th></th>\n",
       "      <th>channel_code</th>\n",
       "      <th>main_product_code</th>\n",
       "      <th>numberofadults</th>\n",
       "      <th>numberofchildren</th>\n",
       "      <th>persontravellingid</th>\n",
       "      <th>resort_region_code</th>\n",
       "      <th>resort_type_code</th>\n",
       "      <th>room_type_booked_code</th>\n",
       "      <th>roomnights</th>\n",
       "      <th>season_holidayed_code</th>\n",
       "      <th>state_code_residence</th>\n",
       "      <th>state_code_resort</th>\n",
       "      <th>total_pax</th>\n",
       "      <th>booking_type_code</th>\n",
       "      <th>resort_id</th>\n",
       "      <th>amount_spent_per_room_night_scaled</th>\n",
       "      <th>days_stayed</th>\n",
       "      <th>booking_to_checkin</th>\n",
       "      <th>month_of_checkin</th>\n",
       "      <th>member_age_buckets_A</th>\n",
       "      <th>member_age_buckets_B</th>\n",
       "      <th>member_age_buckets_C</th>\n",
       "      <th>member_age_buckets_D</th>\n",
       "      <th>member_age_buckets_E</th>\n",
       "      <th>member_age_buckets_F</th>\n",
       "      <th>member_age_buckets_G</th>\n",
       "      <th>member_age_buckets_H</th>\n",
       "      <th>member_age_buckets_I</th>\n",
       "      <th>member_age_buckets_J</th>\n",
       "      <th>cluster_code_A</th>\n",
       "      <th>cluster_code_B</th>\n",
       "      <th>cluster_code_C</th>\n",
       "      <th>cluster_code_D</th>\n",
       "      <th>cluster_code_E</th>\n",
       "      <th>cluster_code_F</th>\n",
       "      <th>reservationstatusid_code_A</th>\n",
       "      <th>reservationstatusid_code_B</th>\n",
       "      <th>reservationstatusid_code_C</th>\n",
       "      <th>reservationstatusid_code_D</th>\n",
       "    </tr>\n",
       "  </thead>\n",
       "  <tbody>\n",
       "    <tr>\n",
       "      <th>0</th>\n",
       "      <td>3</td>\n",
       "      <td>1</td>\n",
       "      <td>2</td>\n",
       "      <td>0</td>\n",
       "      <td>1</td>\n",
       "      <td>3</td>\n",
       "      <td>3</td>\n",
       "      <td>3</td>\n",
       "      <td>1</td>\n",
       "      <td>2.0</td>\n",
       "      <td>7.0</td>\n",
       "      <td>3</td>\n",
       "      <td>3</td>\n",
       "      <td>1</td>\n",
       "      <td>7</td>\n",
       "      <td>7.706428</td>\n",
       "      <td>1.0</td>\n",
       "      <td>0.0</td>\n",
       "      <td>4</td>\n",
       "      <td>0</td>\n",
       "      <td>0</td>\n",
       "      <td>0</td>\n",
       "      <td>0</td>\n",
       "      <td>0</td>\n",
       "      <td>1</td>\n",
       "      <td>0</td>\n",
       "      <td>0</td>\n",
       "      <td>0</td>\n",
       "      <td>0</td>\n",
       "      <td>0</td>\n",
       "      <td>0</td>\n",
       "      <td>0</td>\n",
       "      <td>0</td>\n",
       "      <td>0</td>\n",
       "      <td>1</td>\n",
       "      <td>0</td>\n",
       "      <td>0</td>\n",
       "      <td>1</td>\n",
       "      <td>0</td>\n",
       "    </tr>\n",
       "    <tr>\n",
       "      <th>1</th>\n",
       "      <td>1</td>\n",
       "      <td>1</td>\n",
       "      <td>2</td>\n",
       "      <td>0</td>\n",
       "      <td>1</td>\n",
       "      <td>3</td>\n",
       "      <td>3</td>\n",
       "      <td>4</td>\n",
       "      <td>5</td>\n",
       "      <td>2.0</td>\n",
       "      <td>7.0</td>\n",
       "      <td>5</td>\n",
       "      <td>2</td>\n",
       "      <td>1</td>\n",
       "      <td>1</td>\n",
       "      <td>6.662563</td>\n",
       "      <td>5.0</td>\n",
       "      <td>78.0</td>\n",
       "      <td>4</td>\n",
       "      <td>0</td>\n",
       "      <td>0</td>\n",
       "      <td>0</td>\n",
       "      <td>0</td>\n",
       "      <td>0</td>\n",
       "      <td>1</td>\n",
       "      <td>0</td>\n",
       "      <td>0</td>\n",
       "      <td>0</td>\n",
       "      <td>0</td>\n",
       "      <td>0</td>\n",
       "      <td>0</td>\n",
       "      <td>0</td>\n",
       "      <td>0</td>\n",
       "      <td>0</td>\n",
       "      <td>1</td>\n",
       "      <td>1</td>\n",
       "      <td>0</td>\n",
       "      <td>0</td>\n",
       "      <td>0</td>\n",
       "    </tr>\n",
       "    <tr>\n",
       "      <th>2</th>\n",
       "      <td>1</td>\n",
       "      <td>1</td>\n",
       "      <td>2</td>\n",
       "      <td>0</td>\n",
       "      <td>2</td>\n",
       "      <td>1</td>\n",
       "      <td>5</td>\n",
       "      <td>4</td>\n",
       "      <td>4</td>\n",
       "      <td>2.0</td>\n",
       "      <td>7.0</td>\n",
       "      <td>1</td>\n",
       "      <td>2</td>\n",
       "      <td>1</td>\n",
       "      <td>9</td>\n",
       "      <td>7.871602</td>\n",
       "      <td>4.0</td>\n",
       "      <td>4.0</td>\n",
       "      <td>2</td>\n",
       "      <td>0</td>\n",
       "      <td>0</td>\n",
       "      <td>0</td>\n",
       "      <td>0</td>\n",
       "      <td>0</td>\n",
       "      <td>1</td>\n",
       "      <td>0</td>\n",
       "      <td>0</td>\n",
       "      <td>0</td>\n",
       "      <td>0</td>\n",
       "      <td>0</td>\n",
       "      <td>0</td>\n",
       "      <td>0</td>\n",
       "      <td>0</td>\n",
       "      <td>1</td>\n",
       "      <td>0</td>\n",
       "      <td>1</td>\n",
       "      <td>0</td>\n",
       "      <td>0</td>\n",
       "      <td>0</td>\n",
       "    </tr>\n",
       "    <tr>\n",
       "      <th>3</th>\n",
       "      <td>1</td>\n",
       "      <td>1</td>\n",
       "      <td>2</td>\n",
       "      <td>2</td>\n",
       "      <td>1</td>\n",
       "      <td>2</td>\n",
       "      <td>2</td>\n",
       "      <td>3</td>\n",
       "      <td>5</td>\n",
       "      <td>2.0</td>\n",
       "      <td>7.0</td>\n",
       "      <td>2</td>\n",
       "      <td>2</td>\n",
       "      <td>1</td>\n",
       "      <td>25</td>\n",
       "      <td>5.344943</td>\n",
       "      <td>5.0</td>\n",
       "      <td>40.0</td>\n",
       "      <td>6</td>\n",
       "      <td>0</td>\n",
       "      <td>0</td>\n",
       "      <td>0</td>\n",
       "      <td>0</td>\n",
       "      <td>0</td>\n",
       "      <td>1</td>\n",
       "      <td>0</td>\n",
       "      <td>0</td>\n",
       "      <td>0</td>\n",
       "      <td>0</td>\n",
       "      <td>0</td>\n",
       "      <td>0</td>\n",
       "      <td>0</td>\n",
       "      <td>1</td>\n",
       "      <td>0</td>\n",
       "      <td>0</td>\n",
       "      <td>1</td>\n",
       "      <td>0</td>\n",
       "      <td>0</td>\n",
       "      <td>0</td>\n",
       "    </tr>\n",
       "    <tr>\n",
       "      <th>4</th>\n",
       "      <td>1</td>\n",
       "      <td>1</td>\n",
       "      <td>2</td>\n",
       "      <td>0</td>\n",
       "      <td>1</td>\n",
       "      <td>2</td>\n",
       "      <td>2</td>\n",
       "      <td>4</td>\n",
       "      <td>5</td>\n",
       "      <td>2.0</td>\n",
       "      <td>7.0</td>\n",
       "      <td>2</td>\n",
       "      <td>2</td>\n",
       "      <td>1</td>\n",
       "      <td>25</td>\n",
       "      <td>7.059346</td>\n",
       "      <td>5.0</td>\n",
       "      <td>103.0</td>\n",
       "      <td>12</td>\n",
       "      <td>0</td>\n",
       "      <td>0</td>\n",
       "      <td>0</td>\n",
       "      <td>0</td>\n",
       "      <td>0</td>\n",
       "      <td>1</td>\n",
       "      <td>0</td>\n",
       "      <td>0</td>\n",
       "      <td>0</td>\n",
       "      <td>0</td>\n",
       "      <td>0</td>\n",
       "      <td>0</td>\n",
       "      <td>0</td>\n",
       "      <td>1</td>\n",
       "      <td>0</td>\n",
       "      <td>0</td>\n",
       "      <td>1</td>\n",
       "      <td>0</td>\n",
       "      <td>0</td>\n",
       "      <td>0</td>\n",
       "    </tr>\n",
       "  </tbody>\n",
       "</table>\n",
       "</div>"
      ],
      "text/plain": [
       "   channel_code  main_product_code  numberofadults  numberofchildren  \\\n",
       "0             3                  1               2                 0   \n",
       "1             1                  1               2                 0   \n",
       "2             1                  1               2                 0   \n",
       "3             1                  1               2                 2   \n",
       "4             1                  1               2                 0   \n",
       "\n",
       "   persontravellingid  resort_region_code  resort_type_code  \\\n",
       "0                   1                   3                 3   \n",
       "1                   1                   3                 3   \n",
       "2                   2                   1                 5   \n",
       "3                   1                   2                 2   \n",
       "4                   1                   2                 2   \n",
       "\n",
       "   room_type_booked_code  roomnights  season_holidayed_code  \\\n",
       "0                      3           1                    2.0   \n",
       "1                      4           5                    2.0   \n",
       "2                      4           4                    2.0   \n",
       "3                      3           5                    2.0   \n",
       "4                      4           5                    2.0   \n",
       "\n",
       "   state_code_residence  state_code_resort  total_pax  booking_type_code  \\\n",
       "0                   7.0                  3          3                  1   \n",
       "1                   7.0                  5          2                  1   \n",
       "2                   7.0                  1          2                  1   \n",
       "3                   7.0                  2          2                  1   \n",
       "4                   7.0                  2          2                  1   \n",
       "\n",
       "   resort_id  amount_spent_per_room_night_scaled  days_stayed  \\\n",
       "0          7                            7.706428          1.0   \n",
       "1          1                            6.662563          5.0   \n",
       "2          9                            7.871602          4.0   \n",
       "3         25                            5.344943          5.0   \n",
       "4         25                            7.059346          5.0   \n",
       "\n",
       "   booking_to_checkin  month_of_checkin  member_age_buckets_A  \\\n",
       "0                 0.0                 4                     0   \n",
       "1                78.0                 4                     0   \n",
       "2                 4.0                 2                     0   \n",
       "3                40.0                 6                     0   \n",
       "4               103.0                12                     0   \n",
       "\n",
       "   member_age_buckets_B  member_age_buckets_C  member_age_buckets_D  \\\n",
       "0                     0                     0                     0   \n",
       "1                     0                     0                     0   \n",
       "2                     0                     0                     0   \n",
       "3                     0                     0                     0   \n",
       "4                     0                     0                     0   \n",
       "\n",
       "   member_age_buckets_E  member_age_buckets_F  member_age_buckets_G  \\\n",
       "0                     0                     1                     0   \n",
       "1                     0                     1                     0   \n",
       "2                     0                     1                     0   \n",
       "3                     0                     1                     0   \n",
       "4                     0                     1                     0   \n",
       "\n",
       "   member_age_buckets_H  member_age_buckets_I  member_age_buckets_J  \\\n",
       "0                     0                     0                     0   \n",
       "1                     0                     0                     0   \n",
       "2                     0                     0                     0   \n",
       "3                     0                     0                     0   \n",
       "4                     0                     0                     0   \n",
       "\n",
       "   cluster_code_A  cluster_code_B  cluster_code_C  cluster_code_D  \\\n",
       "0               0               0               0               0   \n",
       "1               0               0               0               0   \n",
       "2               0               0               0               0   \n",
       "3               0               0               0               1   \n",
       "4               0               0               0               1   \n",
       "\n",
       "   cluster_code_E  cluster_code_F  reservationstatusid_code_A  \\\n",
       "0               0               1                           0   \n",
       "1               0               1                           1   \n",
       "2               1               0                           1   \n",
       "3               0               0                           1   \n",
       "4               0               0                           1   \n",
       "\n",
       "   reservationstatusid_code_B  reservationstatusid_code_C  \\\n",
       "0                           0                           1   \n",
       "1                           0                           0   \n",
       "2                           0                           0   \n",
       "3                           0                           0   \n",
       "4                           0                           0   \n",
       "\n",
       "   reservationstatusid_code_D  \n",
       "0                           0  \n",
       "1                           0  \n",
       "2                           0  \n",
       "3                           0  \n",
       "4                           0  "
      ]
     },
     "execution_count": 110,
     "metadata": {},
     "output_type": "execute_result"
    }
   ],
   "source": [
    "df_train.head()"
   ]
  },
  {
   "cell_type": "markdown",
   "metadata": {},
   "source": [
    "## Generating X and Y"
   ]
  },
  {
   "cell_type": "code",
   "execution_count": 111,
   "metadata": {},
   "outputs": [],
   "source": [
    "y=df_train['amount_spent_per_room_night_scaled']\n",
    "X=df_train.drop('amount_spent_per_room_night_scaled',axis=1)"
   ]
  },
  {
   "cell_type": "markdown",
   "metadata": {},
   "source": [
    "## 1. Base Model"
   ]
  },
  {
   "cell_type": "code",
   "execution_count": 112,
   "metadata": {},
   "outputs": [
    {
     "data": {
      "text/html": [
       "<table class=\"simpletable\">\n",
       "<caption>OLS Regression Results</caption>\n",
       "<tr>\n",
       "  <th>Dep. Variable:</th>    <td>amount_spent_per_room_night_scaled</td> <th>  R-squared:         </th>  <td>   0.135</td>  \n",
       "</tr>\n",
       "<tr>\n",
       "  <th>Model:</th>                            <td>OLS</td>                <th>  Adj. R-squared:    </th>  <td>   0.135</td>  \n",
       "</tr>\n",
       "<tr>\n",
       "  <th>Method:</th>                      <td>Least Squares</td>           <th>  F-statistic:       </th>  <td>   1520.</td>  \n",
       "</tr>\n",
       "<tr>\n",
       "  <th>Date:</th>                      <td>Wed, 04 Mar 2020</td>          <th>  Prob (F-statistic):</th>   <td>  0.00</td>   \n",
       "</tr>\n",
       "<tr>\n",
       "  <th>Time:</th>                          <td>14:59:29</td>              <th>  Log-Likelihood:    </th> <td>-4.8920e+05</td>\n",
       "</tr>\n",
       "<tr>\n",
       "  <th>No. Observations:</th>               <td>341424</td>               <th>  AIC:               </th>  <td>9.785e+05</td> \n",
       "</tr>\n",
       "<tr>\n",
       "  <th>Df Residuals:</th>                   <td>341388</td>               <th>  BIC:               </th>  <td>9.789e+05</td> \n",
       "</tr>\n",
       "<tr>\n",
       "  <th>Df Model:</th>                       <td>    35</td>               <th>                     </th>      <td> </td>     \n",
       "</tr>\n",
       "<tr>\n",
       "  <th>Covariance Type:</th>               <td>nonrobust</td>             <th>                     </th>      <td> </td>     \n",
       "</tr>\n",
       "</table>\n",
       "<table class=\"simpletable\">\n",
       "<tr>\n",
       "               <td></td>                 <th>coef</th>     <th>std err</th>      <th>t</th>      <th>P>|t|</th>  <th>[0.025</th>    <th>0.975]</th>  \n",
       "</tr>\n",
       "<tr>\n",
       "  <th>const</th>                      <td>    5.4285</td> <td>    0.168</td> <td>   32.363</td> <td> 0.000</td> <td>    5.100</td> <td>    5.757</td>\n",
       "</tr>\n",
       "<tr>\n",
       "  <th>channel_code</th>               <td>    0.0450</td> <td>    0.002</td> <td>   21.355</td> <td> 0.000</td> <td>    0.041</td> <td>    0.049</td>\n",
       "</tr>\n",
       "<tr>\n",
       "  <th>main_product_code</th>          <td>   -0.1077</td> <td>    0.002</td> <td>  -46.024</td> <td> 0.000</td> <td>   -0.112</td> <td>   -0.103</td>\n",
       "</tr>\n",
       "<tr>\n",
       "  <th>numberofadults</th>             <td>    0.0085</td> <td>    0.001</td> <td>    5.945</td> <td> 0.000</td> <td>    0.006</td> <td>    0.011</td>\n",
       "</tr>\n",
       "<tr>\n",
       "  <th>numberofchildren</th>           <td>    0.0173</td> <td>    0.003</td> <td>    6.871</td> <td> 0.000</td> <td>    0.012</td> <td>    0.022</td>\n",
       "</tr>\n",
       "<tr>\n",
       "  <th>persontravellingid</th>         <td>   -0.1377</td> <td>    0.002</td> <td>  -62.445</td> <td> 0.000</td> <td>   -0.142</td> <td>   -0.133</td>\n",
       "</tr>\n",
       "<tr>\n",
       "  <th>resort_region_code</th>         <td>   -0.1657</td> <td>    0.004</td> <td>  -41.660</td> <td> 0.000</td> <td>   -0.174</td> <td>   -0.158</td>\n",
       "</tr>\n",
       "<tr>\n",
       "  <th>resort_type_code</th>           <td>    0.0230</td> <td>    0.001</td> <td>   16.095</td> <td> 0.000</td> <td>    0.020</td> <td>    0.026</td>\n",
       "</tr>\n",
       "<tr>\n",
       "  <th>room_type_booked_code</th>      <td>   -0.0259</td> <td>    0.003</td> <td>   -9.582</td> <td> 0.000</td> <td>   -0.031</td> <td>   -0.021</td>\n",
       "</tr>\n",
       "<tr>\n",
       "  <th>roomnights</th>                 <td>    0.0861</td> <td>    0.001</td> <td>   73.706</td> <td> 0.000</td> <td>    0.084</td> <td>    0.088</td>\n",
       "</tr>\n",
       "<tr>\n",
       "  <th>season_holidayed_code</th>      <td>   -0.0640</td> <td>    0.002</td> <td>  -29.318</td> <td> 0.000</td> <td>   -0.068</td> <td>   -0.060</td>\n",
       "</tr>\n",
       "<tr>\n",
       "  <th>state_code_residence</th>       <td>   -0.0025</td> <td>    0.000</td> <td>   -6.520</td> <td> 0.000</td> <td>   -0.003</td> <td>   -0.002</td>\n",
       "</tr>\n",
       "<tr>\n",
       "  <th>state_code_resort</th>          <td>    0.0387</td> <td>    0.001</td> <td>   27.369</td> <td> 0.000</td> <td>    0.036</td> <td>    0.041</td>\n",
       "</tr>\n",
       "<tr>\n",
       "  <th>total_pax</th>                  <td>    0.1258</td> <td>    0.002</td> <td>   71.434</td> <td> 0.000</td> <td>    0.122</td> <td>    0.129</td>\n",
       "</tr>\n",
       "<tr>\n",
       "  <th>booking_type_code</th>          <td>    0.0126</td> <td>    0.006</td> <td>    2.226</td> <td> 0.026</td> <td>    0.002</td> <td>    0.024</td>\n",
       "</tr>\n",
       "<tr>\n",
       "  <th>resort_id</th>                  <td>   -0.0095</td> <td>    0.000</td> <td>  -40.716</td> <td> 0.000</td> <td>   -0.010</td> <td>   -0.009</td>\n",
       "</tr>\n",
       "<tr>\n",
       "  <th>days_stayed</th>                <td>   -0.2966</td> <td>    0.002</td> <td> -141.680</td> <td> 0.000</td> <td>   -0.301</td> <td>   -0.292</td>\n",
       "</tr>\n",
       "<tr>\n",
       "  <th>booking_to_checkin</th>         <td>   -0.0003</td> <td> 5.21e-05</td> <td>   -5.017</td> <td> 0.000</td> <td>   -0.000</td> <td>   -0.000</td>\n",
       "</tr>\n",
       "<tr>\n",
       "  <th>month_of_checkin</th>           <td>    0.0068</td> <td>    0.000</td> <td>   13.778</td> <td> 0.000</td> <td>    0.006</td> <td>    0.008</td>\n",
       "</tr>\n",
       "<tr>\n",
       "  <th>member_age_buckets_A</th>       <td>    0.5149</td> <td>    0.020</td> <td>   25.357</td> <td> 0.000</td> <td>    0.475</td> <td>    0.555</td>\n",
       "</tr>\n",
       "<tr>\n",
       "  <th>member_age_buckets_B</th>       <td>    0.4982</td> <td>    0.018</td> <td>   27.140</td> <td> 0.000</td> <td>    0.462</td> <td>    0.534</td>\n",
       "</tr>\n",
       "<tr>\n",
       "  <th>member_age_buckets_C</th>       <td>    0.5411</td> <td>    0.018</td> <td>   30.669</td> <td> 0.000</td> <td>    0.507</td> <td>    0.576</td>\n",
       "</tr>\n",
       "<tr>\n",
       "  <th>member_age_buckets_D</th>       <td>    0.5548</td> <td>    0.017</td> <td>   31.732</td> <td> 0.000</td> <td>    0.520</td> <td>    0.589</td>\n",
       "</tr>\n",
       "<tr>\n",
       "  <th>member_age_buckets_E</th>       <td>    0.5702</td> <td>    0.017</td> <td>   32.687</td> <td> 0.000</td> <td>    0.536</td> <td>    0.604</td>\n",
       "</tr>\n",
       "<tr>\n",
       "  <th>member_age_buckets_F</th>       <td>    0.5466</td> <td>    0.018</td> <td>   31.161</td> <td> 0.000</td> <td>    0.512</td> <td>    0.581</td>\n",
       "</tr>\n",
       "<tr>\n",
       "  <th>member_age_buckets_G</th>       <td>    0.5206</td> <td>    0.018</td> <td>   29.344</td> <td> 0.000</td> <td>    0.486</td> <td>    0.555</td>\n",
       "</tr>\n",
       "<tr>\n",
       "  <th>member_age_buckets_H</th>       <td>    0.5077</td> <td>    0.018</td> <td>   28.667</td> <td> 0.000</td> <td>    0.473</td> <td>    0.542</td>\n",
       "</tr>\n",
       "<tr>\n",
       "  <th>member_age_buckets_I</th>       <td>    0.5759</td> <td>    0.020</td> <td>   29.106</td> <td> 0.000</td> <td>    0.537</td> <td>    0.615</td>\n",
       "</tr>\n",
       "<tr>\n",
       "  <th>member_age_buckets_J</th>       <td>    0.5985</td> <td>    0.030</td> <td>   19.957</td> <td> 0.000</td> <td>    0.540</td> <td>    0.657</td>\n",
       "</tr>\n",
       "<tr>\n",
       "  <th>cluster_code_A</th>             <td>    0.9757</td> <td>    0.029</td> <td>   33.916</td> <td> 0.000</td> <td>    0.919</td> <td>    1.032</td>\n",
       "</tr>\n",
       "<tr>\n",
       "  <th>cluster_code_B</th>             <td>    0.6939</td> <td>    0.029</td> <td>   23.575</td> <td> 0.000</td> <td>    0.636</td> <td>    0.752</td>\n",
       "</tr>\n",
       "<tr>\n",
       "  <th>cluster_code_C</th>             <td>    0.9058</td> <td>    0.029</td> <td>   31.436</td> <td> 0.000</td> <td>    0.849</td> <td>    0.962</td>\n",
       "</tr>\n",
       "<tr>\n",
       "  <th>cluster_code_D</th>             <td>    1.0829</td> <td>    0.028</td> <td>   38.142</td> <td> 0.000</td> <td>    1.027</td> <td>    1.139</td>\n",
       "</tr>\n",
       "<tr>\n",
       "  <th>cluster_code_E</th>             <td>    0.9575</td> <td>    0.029</td> <td>   33.063</td> <td> 0.000</td> <td>    0.901</td> <td>    1.014</td>\n",
       "</tr>\n",
       "<tr>\n",
       "  <th>cluster_code_F</th>             <td>    0.8126</td> <td>    0.028</td> <td>   28.804</td> <td> 0.000</td> <td>    0.757</td> <td>    0.868</td>\n",
       "</tr>\n",
       "<tr>\n",
       "  <th>reservationstatusid_code_A</th> <td>    1.4767</td> <td>    0.212</td> <td>    6.973</td> <td> 0.000</td> <td>    1.062</td> <td>    1.892</td>\n",
       "</tr>\n",
       "<tr>\n",
       "  <th>reservationstatusid_code_B</th> <td>    1.4942</td> <td>    0.212</td> <td>    7.053</td> <td> 0.000</td> <td>    1.079</td> <td>    1.909</td>\n",
       "</tr>\n",
       "<tr>\n",
       "  <th>reservationstatusid_code_C</th> <td>    1.4608</td> <td>    0.212</td> <td>    6.895</td> <td> 0.000</td> <td>    1.046</td> <td>    1.876</td>\n",
       "</tr>\n",
       "<tr>\n",
       "  <th>reservationstatusid_code_D</th> <td>    0.9967</td> <td>    0.802</td> <td>    1.242</td> <td> 0.214</td> <td>   -0.576</td> <td>    2.569</td>\n",
       "</tr>\n",
       "</table>\n",
       "<table class=\"simpletable\">\n",
       "<tr>\n",
       "  <th>Omnibus:</th>       <td>78653.636</td> <th>  Durbin-Watson:     </th>  <td>   1.644</td> \n",
       "</tr>\n",
       "<tr>\n",
       "  <th>Prob(Omnibus):</th>  <td> 0.000</td>   <th>  Jarque-Bera (JB):  </th> <td>197186.404</td>\n",
       "</tr>\n",
       "<tr>\n",
       "  <th>Skew:</th>           <td>-1.267</td>   <th>  Prob(JB):          </th>  <td>    0.00</td> \n",
       "</tr>\n",
       "<tr>\n",
       "  <th>Kurtosis:</th>       <td> 5.728</td>   <th>  Cond. No.          </th>  <td>1.21e+16</td> \n",
       "</tr>\n",
       "</table><br/><br/>Warnings:<br/>[1] Standard Errors assume that the covariance matrix of the errors is correctly specified.<br/>[2] The smallest eigenvalue is 8.94e-24. This might indicate that there are<br/>strong multicollinearity problems or that the design matrix is singular."
      ],
      "text/plain": [
       "<class 'statsmodels.iolib.summary.Summary'>\n",
       "\"\"\"\n",
       "                                    OLS Regression Results                                    \n",
       "==============================================================================================\n",
       "Dep. Variable:     amount_spent_per_room_night_scaled   R-squared:                       0.135\n",
       "Model:                                            OLS   Adj. R-squared:                  0.135\n",
       "Method:                                 Least Squares   F-statistic:                     1520.\n",
       "Date:                                Wed, 04 Mar 2020   Prob (F-statistic):               0.00\n",
       "Time:                                        14:59:29   Log-Likelihood:            -4.8920e+05\n",
       "No. Observations:                              341424   AIC:                         9.785e+05\n",
       "Df Residuals:                                  341388   BIC:                         9.789e+05\n",
       "Df Model:                                          35                                         \n",
       "Covariance Type:                            nonrobust                                         \n",
       "==============================================================================================\n",
       "                                 coef    std err          t      P>|t|      [0.025      0.975]\n",
       "----------------------------------------------------------------------------------------------\n",
       "const                          5.4285      0.168     32.363      0.000       5.100       5.757\n",
       "channel_code                   0.0450      0.002     21.355      0.000       0.041       0.049\n",
       "main_product_code             -0.1077      0.002    -46.024      0.000      -0.112      -0.103\n",
       "numberofadults                 0.0085      0.001      5.945      0.000       0.006       0.011\n",
       "numberofchildren               0.0173      0.003      6.871      0.000       0.012       0.022\n",
       "persontravellingid            -0.1377      0.002    -62.445      0.000      -0.142      -0.133\n",
       "resort_region_code            -0.1657      0.004    -41.660      0.000      -0.174      -0.158\n",
       "resort_type_code               0.0230      0.001     16.095      0.000       0.020       0.026\n",
       "room_type_booked_code         -0.0259      0.003     -9.582      0.000      -0.031      -0.021\n",
       "roomnights                     0.0861      0.001     73.706      0.000       0.084       0.088\n",
       "season_holidayed_code         -0.0640      0.002    -29.318      0.000      -0.068      -0.060\n",
       "state_code_residence          -0.0025      0.000     -6.520      0.000      -0.003      -0.002\n",
       "state_code_resort              0.0387      0.001     27.369      0.000       0.036       0.041\n",
       "total_pax                      0.1258      0.002     71.434      0.000       0.122       0.129\n",
       "booking_type_code              0.0126      0.006      2.226      0.026       0.002       0.024\n",
       "resort_id                     -0.0095      0.000    -40.716      0.000      -0.010      -0.009\n",
       "days_stayed                   -0.2966      0.002   -141.680      0.000      -0.301      -0.292\n",
       "booking_to_checkin            -0.0003   5.21e-05     -5.017      0.000      -0.000      -0.000\n",
       "month_of_checkin               0.0068      0.000     13.778      0.000       0.006       0.008\n",
       "member_age_buckets_A           0.5149      0.020     25.357      0.000       0.475       0.555\n",
       "member_age_buckets_B           0.4982      0.018     27.140      0.000       0.462       0.534\n",
       "member_age_buckets_C           0.5411      0.018     30.669      0.000       0.507       0.576\n",
       "member_age_buckets_D           0.5548      0.017     31.732      0.000       0.520       0.589\n",
       "member_age_buckets_E           0.5702      0.017     32.687      0.000       0.536       0.604\n",
       "member_age_buckets_F           0.5466      0.018     31.161      0.000       0.512       0.581\n",
       "member_age_buckets_G           0.5206      0.018     29.344      0.000       0.486       0.555\n",
       "member_age_buckets_H           0.5077      0.018     28.667      0.000       0.473       0.542\n",
       "member_age_buckets_I           0.5759      0.020     29.106      0.000       0.537       0.615\n",
       "member_age_buckets_J           0.5985      0.030     19.957      0.000       0.540       0.657\n",
       "cluster_code_A                 0.9757      0.029     33.916      0.000       0.919       1.032\n",
       "cluster_code_B                 0.6939      0.029     23.575      0.000       0.636       0.752\n",
       "cluster_code_C                 0.9058      0.029     31.436      0.000       0.849       0.962\n",
       "cluster_code_D                 1.0829      0.028     38.142      0.000       1.027       1.139\n",
       "cluster_code_E                 0.9575      0.029     33.063      0.000       0.901       1.014\n",
       "cluster_code_F                 0.8126      0.028     28.804      0.000       0.757       0.868\n",
       "reservationstatusid_code_A     1.4767      0.212      6.973      0.000       1.062       1.892\n",
       "reservationstatusid_code_B     1.4942      0.212      7.053      0.000       1.079       1.909\n",
       "reservationstatusid_code_C     1.4608      0.212      6.895      0.000       1.046       1.876\n",
       "reservationstatusid_code_D     0.9967      0.802      1.242      0.214      -0.576       2.569\n",
       "==============================================================================\n",
       "Omnibus:                    78653.636   Durbin-Watson:                   1.644\n",
       "Prob(Omnibus):                  0.000   Jarque-Bera (JB):           197186.404\n",
       "Skew:                          -1.267   Prob(JB):                         0.00\n",
       "Kurtosis:                       5.728   Cond. No.                     1.21e+16\n",
       "==============================================================================\n",
       "\n",
       "Warnings:\n",
       "[1] Standard Errors assume that the covariance matrix of the errors is correctly specified.\n",
       "[2] The smallest eigenvalue is 8.94e-24. This might indicate that there are\n",
       "strong multicollinearity problems or that the design matrix is singular.\n",
       "\"\"\""
      ]
     },
     "execution_count": 112,
     "metadata": {},
     "output_type": "execute_result"
    }
   ],
   "source": [
    "import statsmodels.api as sm\n",
    "xc=sm.add_constant(X)\n",
    "model=sm.OLS(y,xc).fit()\n",
    "model.summary()"
   ]
  },
  {
   "cell_type": "code",
   "execution_count": 113,
   "metadata": {},
   "outputs": [
    {
     "data": {
      "text/plain": [
       "<matplotlib.axes._subplots.AxesSubplot at 0x19d802d9d88>"
      ]
     },
     "execution_count": 113,
     "metadata": {},
     "output_type": "execute_result"
    },
    {
     "data": {
      "image/png": "[encoded data removed]",
      "text/plain": [
       "<Figure size 432x288 with 1 Axes>"
      ]
     },
     "metadata": {
      "needs_background": "light"
     },
     "output_type": "display_data"
    }
   ],
   "source": [
    "residuals=model.resid\n",
    "sns.distplot(residuals)"
   ]
  },
  {
   "cell_type": "code",
   "execution_count": 114,
   "metadata": {},
   "outputs": [
    {
     "data": {
      "image/png": "[encoded data removed]",
      "text/plain": [
       "<Figure size 432x288 with 1 Axes>"
      ]
     },
     "metadata": {
      "needs_background": "light"
     },
     "output_type": "display_data"
    }
   ],
   "source": [
    "import scipy.stats as stats\n",
    "stats.probplot(residuals,plot=plt)\n",
    "plt.show()"
   ]
  },
  {
   "cell_type": "markdown",
   "metadata": {},
   "source": [
    "## 2. Model using Backward Elimation method"
   ]
  },
  {
   "cell_type": "code",
   "execution_count": 115,
   "metadata": {},
   "outputs": [
    {
     "name": "stdout",
     "output_type": "stream",
     "text": [
      "['channel_code', 'main_product_code', 'numberofadults', 'numberofchildren', 'persontravellingid', 'resort_region_code', 'resort_type_code', 'room_type_booked_code', 'roomnights', 'season_holidayed_code', 'state_code_residence', 'state_code_resort', 'total_pax', 'booking_type_code', 'resort_id', 'days_stayed', 'booking_to_checkin', 'month_of_checkin', 'member_age_buckets_A', 'member_age_buckets_B', 'member_age_buckets_C', 'member_age_buckets_D', 'member_age_buckets_E', 'member_age_buckets_F', 'member_age_buckets_G', 'member_age_buckets_H', 'member_age_buckets_I', 'member_age_buckets_J', 'cluster_code_A', 'cluster_code_B', 'cluster_code_C', 'cluster_code_D', 'cluster_code_E', 'cluster_code_F', 'reservationstatusid_code_B']\n"
     ]
    }
   ],
   "source": [
    "# Backward Elimination\n",
    "cols=list(X.columns)\n",
    "pmax=1\n",
    "while len(cols)>0:\n",
    "    p=[]\n",
    "    C=X[cols]\n",
    "    xc=sm.add_constant(C)\n",
    "    model=sm.OLS(y,xc).fit()\n",
    "    p=pd.Series(model.pvalues.values[1:],index=cols)\n",
    "    pmax=max(p)\n",
    "    feature_with_p_max=p.idxmax()\n",
    "    if pmax>0.05:\n",
    "        cols.remove(feature_with_p_max)\n",
    "    else:\n",
    "        break\n",
    "        \n",
    "selected_cols=cols\n",
    "print(selected_cols)"
   ]
  },
  {
   "cell_type": "code",
   "execution_count": 117,
   "metadata": {},
   "outputs": [],
   "source": [
    "X_final=df_train[cols]\n",
    "y=df_train['amount_spent_per_room_night_scaled']"
   ]
  },
  {
   "cell_type": "code",
   "execution_count": 118,
   "metadata": {},
   "outputs": [],
   "source": [
    "from sklearn.model_selection import train_test_split\n",
    "from sklearn.linear_model import LinearRegression\n",
    "from sklearn.metrics import r2_score,mean_squared_error as mse\n",
    "X_train,X_test,y_train,y_test=train_test_split(X_final,y,test_size=0.3,random_state=0)"
   ]
  },
  {
   "cell_type": "code",
   "execution_count": 119,
   "metadata": {},
   "outputs": [
    {
     "name": "stdout",
     "output_type": "stream",
     "text": [
      "R2 score of Train: 0.13576193820133542\n",
      "RMSE of Train: 1.0142472257044206\n"
     ]
    }
   ],
   "source": [
    "LR=LinearRegression()\n",
    "LR.fit(X_train,y_train)\n",
    "y_pred_train=LR.predict(X_train)\n",
    "print('R2 score of Train:',r2_score(y_train,y_pred_train))\n",
    "print('RMSE of Train:',np.sqrt(mse(y_train,y_pred_train)))"
   ]
  },
  {
   "cell_type": "code",
   "execution_count": 120,
   "metadata": {},
   "outputs": [
    {
     "name": "stdout",
     "output_type": "stream",
     "text": [
      "R2 score of Test: 0.13236728039932644\n",
      "RMSE of Test: 1.0134441600946065\n"
     ]
    }
   ],
   "source": [
    "y_pred_test=LR.predict(X_test)\n",
    "print('R2 score of Test:',r2_score(y_test,y_pred_test))\n",
    "print('RMSE of Test:',np.sqrt(mse(y_test,y_pred_test)))"
   ]
  },
  {
   "cell_type": "markdown",
   "metadata": {},
   "source": [
    "## 3. K-Fold"
   ]
  },
  {
   "cell_type": "code",
   "execution_count": 121,
   "metadata": {},
   "outputs": [
    {
     "name": "stdout",
     "output_type": "stream",
     "text": [
      "[1.0172280563705296, 1.012136821909611, 1.0135053913664809, 1.0122657656946268, 1.0154784597440005]\n"
     ]
    }
   ],
   "source": [
    "from sklearn.model_selection import KFold\n",
    "kf = KFold(n_splits=5,shuffle=True,random_state=0)\n",
    "for model,name in zip([LR],['MVLR']):\n",
    "    rmse=[]\n",
    "\n",
    "    for train, test in kf.split(X_final,y):\n",
    "        X_train,X_test=X_final.iloc[train,:],X_final.iloc[test,:]\n",
    "        y_train,y_test=y.iloc[train],y.iloc[test]\n",
    "        model.fit(X_train,y_train)\n",
    "        y_pred=model.predict(X_test)\n",
    "        rmse.append(np.sqrt(mse(y_test,y_pred)))\n",
    "print(rmse)"
   ]
  },
  {
   "cell_type": "code",
   "execution_count": 122,
   "metadata": {},
   "outputs": [
    {
     "data": {
      "text/plain": [
       "(1.0141228990170497, 4.813577306694643e-06)"
      ]
     },
     "execution_count": 122,
     "metadata": {},
     "output_type": "execute_result"
    }
   ],
   "source": [
    "np.mean(rmse),np.var(rmse,ddof=1)\n"
   ]
  },
  {
   "cell_type": "markdown",
   "metadata": {},
   "source": [
    "### 4.Lasso/Ridge/ElasticNet"
   ]
  },
  {
   "cell_type": "markdown",
   "metadata": {},
   "source": [
    "## 4.1 Lasso"
   ]
  },
  {
   "cell_type": "code",
   "execution_count": 123,
   "metadata": {},
   "outputs": [],
   "source": [
    "from sklearn.linear_model import Lasso,LassoCV\n",
    "lasso=Lasso(alpha=0.002,normalize=True)"
   ]
  },
  {
   "cell_type": "code",
   "execution_count": 124,
   "metadata": {},
   "outputs": [],
   "source": [
    "X_final=df_train[cols]\n",
    "y=df_train['amount_spent_per_room_night_scaled']\n",
    "X_train,X_test,y_train,y_test=train_test_split(X_final,y,test_size=0.3,random_state=0)"
   ]
  },
  {
   "cell_type": "code",
   "execution_count": 125,
   "metadata": {},
   "outputs": [
    {
     "name": "stdout",
     "output_type": "stream",
     "text": [
      "R2 score of Train: 0.0\n",
      "RMSE of Train: 1.091005987155178\n"
     ]
    }
   ],
   "source": [
    "lasso.fit(X_train,y_train)\n",
    "y_pred_train=lasso.predict(X_train)\n",
    "print('R2 score of Train:',r2_score(y_train,y_pred_train))\n",
    "print('RMSE of Train:',np.sqrt(mse(y_train,y_pred_train)))"
   ]
  },
  {
   "cell_type": "code",
   "execution_count": 126,
   "metadata": {
    "scrolled": true
   },
   "outputs": [
    {
     "name": "stdout",
     "output_type": "stream",
     "text": [
      "R2 score of Test: -2.249986845059837e-06\n",
      "RMSE of Test: 1.0880086603262271\n"
     ]
    }
   ],
   "source": [
    "y_pred_test=lasso.predict(X_test)\n",
    "print('R2 score of Test:',r2_score(y_test,y_pred_test))\n",
    "print('RMSE of Test:',np.sqrt(mse(y_test,y_pred_test)))"
   ]
  },
  {
   "cell_type": "code",
   "execution_count": 127,
   "metadata": {
    "scrolled": true
   },
   "outputs": [
    {
     "data": {
      "image/png": "[encoded data removed]",
      "text/plain": [
       "<Figure size 432x288 with 1 Axes>"
      ]
     },
     "metadata": {
      "needs_background": "light"
     },
     "output_type": "display_data"
    }
   ],
   "source": [
    "n_alphas = 50\n",
    "alphas = np.linspace(0.1,4.5, n_alphas)\n",
    "coefs=[]\n",
    "lasso = Lasso()\n",
    "for a in alphas:\n",
    "    lasso.set_params(alpha=a)\n",
    "    lasso.fit(X, y)\n",
    "    coefs.append(lasso.coef_)\n",
    "    \n",
    "plt.plot(alphas, coefs)\n",
    "plt.xlabel('alphas')\n",
    "plt.ylabel('coefs')\n",
    "plt.show()"
   ]
  },
  {
   "cell_type": "code",
   "execution_count": 128,
   "metadata": {
    "scrolled": true
   },
   "outputs": [
    {
     "data": {
      "text/plain": [
       "LassoCV(alphas=array([0.1       , 0.11836735, 0.13673469, 0.15510204, 0.17346939,\n",
       "       0.19183673, 0.21020408, 0.22857143, 0.24693878, 0.26530612,\n",
       "       0.28367347, 0.30204082, 0.32040816, 0.33877551, 0.35714286,\n",
       "       0.3755102 , 0.39387755, 0.4122449 , 0.43061224, 0.44897959,\n",
       "       0.46734694, 0.48571429, 0.50408163, 0.52244898, 0.54081633,\n",
       "       0.55918367, 0.57755102, 0.59591837, 0.61428571, 0.63265306,\n",
       "       0.65102...\n",
       "       0.74285714, 0.76122449, 0.77959184, 0.79795918, 0.81632653,\n",
       "       0.83469388, 0.85306122, 0.87142857, 0.88979592, 0.90816327,\n",
       "       0.92653061, 0.94489796, 0.96326531, 0.98163265, 1.        ]),\n",
       "        copy_X=True, cv=3, eps=0.001, fit_intercept=True, max_iter=1000,\n",
       "        n_alphas=100, n_jobs=None, normalize=False, positive=False,\n",
       "        precompute='auto', random_state=22, selection='cyclic', tol=0.0001,\n",
       "        verbose=False)"
      ]
     },
     "execution_count": 128,
     "metadata": {},
     "output_type": "execute_result"
    }
   ],
   "source": [
    "n_alphas=50\n",
    "alphas=np.linspace(0.1,1, n_alphas)\n",
    "\n",
    "lasso_cv = LassoCV(alphas=alphas, cv=3, random_state=22)\n",
    "lasso_cv.fit(X,y)"
   ]
  },
  {
   "cell_type": "code",
   "execution_count": 129,
   "metadata": {},
   "outputs": [
    {
     "data": {
      "text/plain": [
       "0.1"
      ]
     },
     "execution_count": 129,
     "metadata": {},
     "output_type": "execute_result"
    }
   ],
   "source": [
    "lasso_cv.alpha_"
   ]
  },
  {
   "cell_type": "code",
   "execution_count": 130,
   "metadata": {},
   "outputs": [
    {
     "data": {
      "text/html": [
       "<div>\n",
       "<style scoped>\n",
       "    .dataframe tbody tr th:only-of-type {\n",
       "        vertical-align: middle;\n",
       "    }\n",
       "\n",
       "    .dataframe tbody tr th {\n",
       "        vertical-align: top;\n",
       "    }\n",
       "\n",
       "    .dataframe thead th {\n",
       "        text-align: right;\n",
       "    }\n",
       "</style>\n",
       "<table border=\"1\" class=\"dataframe\">\n",
       "  <thead>\n",
       "    <tr style=\"text-align: right;\">\n",
       "      <th></th>\n",
       "      <th>coefs</th>\n",
       "    </tr>\n",
       "  </thead>\n",
       "  <tbody>\n",
       "    <tr>\n",
       "      <th>channel_code</th>\n",
       "      <td>0.000000</td>\n",
       "    </tr>\n",
       "    <tr>\n",
       "      <th>main_product_code</th>\n",
       "      <td>-0.000000</td>\n",
       "    </tr>\n",
       "    <tr>\n",
       "      <th>numberofadults</th>\n",
       "      <td>0.037143</td>\n",
       "    </tr>\n",
       "    <tr>\n",
       "      <th>numberofchildren</th>\n",
       "      <td>0.000000</td>\n",
       "    </tr>\n",
       "    <tr>\n",
       "      <th>persontravellingid</th>\n",
       "      <td>-0.000000</td>\n",
       "    </tr>\n",
       "    <tr>\n",
       "      <th>resort_region_code</th>\n",
       "      <td>-0.000000</td>\n",
       "    </tr>\n",
       "    <tr>\n",
       "      <th>resort_type_code</th>\n",
       "      <td>-0.000000</td>\n",
       "    </tr>\n",
       "    <tr>\n",
       "      <th>room_type_booked_code</th>\n",
       "      <td>-0.000000</td>\n",
       "    </tr>\n",
       "    <tr>\n",
       "      <th>roomnights</th>\n",
       "      <td>0.024670</td>\n",
       "    </tr>\n",
       "    <tr>\n",
       "      <th>season_holidayed_code</th>\n",
       "      <td>-0.000000</td>\n",
       "    </tr>\n",
       "    <tr>\n",
       "      <th>state_code_residence</th>\n",
       "      <td>-0.000963</td>\n",
       "    </tr>\n",
       "    <tr>\n",
       "      <th>state_code_resort</th>\n",
       "      <td>0.000382</td>\n",
       "    </tr>\n",
       "    <tr>\n",
       "      <th>total_pax</th>\n",
       "      <td>0.062907</td>\n",
       "    </tr>\n",
       "    <tr>\n",
       "      <th>booking_type_code</th>\n",
       "      <td>0.000000</td>\n",
       "    </tr>\n",
       "    <tr>\n",
       "      <th>resort_id</th>\n",
       "      <td>-0.003257</td>\n",
       "    </tr>\n",
       "    <tr>\n",
       "      <th>days_stayed</th>\n",
       "      <td>-0.136913</td>\n",
       "    </tr>\n",
       "    <tr>\n",
       "      <th>booking_to_checkin</th>\n",
       "      <td>-0.000407</td>\n",
       "    </tr>\n",
       "    <tr>\n",
       "      <th>month_of_checkin</th>\n",
       "      <td>0.000955</td>\n",
       "    </tr>\n",
       "    <tr>\n",
       "      <th>member_age_buckets_A</th>\n",
       "      <td>-0.000000</td>\n",
       "    </tr>\n",
       "    <tr>\n",
       "      <th>member_age_buckets_B</th>\n",
       "      <td>-0.000000</td>\n",
       "    </tr>\n",
       "    <tr>\n",
       "      <th>member_age_buckets_C</th>\n",
       "      <td>-0.000000</td>\n",
       "    </tr>\n",
       "    <tr>\n",
       "      <th>member_age_buckets_D</th>\n",
       "      <td>0.000000</td>\n",
       "    </tr>\n",
       "    <tr>\n",
       "      <th>member_age_buckets_E</th>\n",
       "      <td>0.000000</td>\n",
       "    </tr>\n",
       "    <tr>\n",
       "      <th>member_age_buckets_F</th>\n",
       "      <td>0.000000</td>\n",
       "    </tr>\n",
       "    <tr>\n",
       "      <th>member_age_buckets_G</th>\n",
       "      <td>-0.000000</td>\n",
       "    </tr>\n",
       "    <tr>\n",
       "      <th>member_age_buckets_H</th>\n",
       "      <td>-0.000000</td>\n",
       "    </tr>\n",
       "    <tr>\n",
       "      <th>member_age_buckets_I</th>\n",
       "      <td>0.000000</td>\n",
       "    </tr>\n",
       "    <tr>\n",
       "      <th>member_age_buckets_J</th>\n",
       "      <td>-0.000000</td>\n",
       "    </tr>\n",
       "    <tr>\n",
       "      <th>cluster_code_A</th>\n",
       "      <td>-0.000000</td>\n",
       "    </tr>\n",
       "    <tr>\n",
       "      <th>cluster_code_B</th>\n",
       "      <td>-0.000000</td>\n",
       "    </tr>\n",
       "    <tr>\n",
       "      <th>cluster_code_C</th>\n",
       "      <td>0.000000</td>\n",
       "    </tr>\n",
       "    <tr>\n",
       "      <th>cluster_code_D</th>\n",
       "      <td>-0.000000</td>\n",
       "    </tr>\n",
       "    <tr>\n",
       "      <th>cluster_code_E</th>\n",
       "      <td>0.000000</td>\n",
       "    </tr>\n",
       "    <tr>\n",
       "      <th>cluster_code_F</th>\n",
       "      <td>-0.000000</td>\n",
       "    </tr>\n",
       "    <tr>\n",
       "      <th>reservationstatusid_code_B</th>\n",
       "      <td>0.000000</td>\n",
       "    </tr>\n",
       "  </tbody>\n",
       "</table>\n",
       "</div>"
      ],
      "text/plain": [
       "                               coefs\n",
       "channel_code                0.000000\n",
       "main_product_code          -0.000000\n",
       "numberofadults              0.037143\n",
       "numberofchildren            0.000000\n",
       "persontravellingid         -0.000000\n",
       "resort_region_code         -0.000000\n",
       "resort_type_code           -0.000000\n",
       "room_type_booked_code      -0.000000\n",
       "roomnights                  0.024670\n",
       "season_holidayed_code      -0.000000\n",
       "state_code_residence       -0.000963\n",
       "state_code_resort           0.000382\n",
       "total_pax                   0.062907\n",
       "booking_type_code           0.000000\n",
       "resort_id                  -0.003257\n",
       "days_stayed                -0.136913\n",
       "booking_to_checkin         -0.000407\n",
       "month_of_checkin            0.000955\n",
       "member_age_buckets_A       -0.000000\n",
       "member_age_buckets_B       -0.000000\n",
       "member_age_buckets_C       -0.000000\n",
       "member_age_buckets_D        0.000000\n",
       "member_age_buckets_E        0.000000\n",
       "member_age_buckets_F        0.000000\n",
       "member_age_buckets_G       -0.000000\n",
       "member_age_buckets_H       -0.000000\n",
       "member_age_buckets_I        0.000000\n",
       "member_age_buckets_J       -0.000000\n",
       "cluster_code_A             -0.000000\n",
       "cluster_code_B             -0.000000\n",
       "cluster_code_C              0.000000\n",
       "cluster_code_D             -0.000000\n",
       "cluster_code_E              0.000000\n",
       "cluster_code_F             -0.000000\n",
       "reservationstatusid_code_B  0.000000"
      ]
     },
     "execution_count": 130,
     "metadata": {},
     "output_type": "execute_result"
    }
   ],
   "source": [
    "lasso = Lasso(alpha=lasso_cv.alpha_)\n",
    "lasso.fit(X_train, y_train)\n",
    "lasso.coef_\n",
    "pd.DataFrame(lasso.coef_, X_final.columns, columns=['coefs'])"
   ]
  },
  {
   "cell_type": "code",
   "execution_count": 131,
   "metadata": {},
   "outputs": [
    {
     "name": "stdout",
     "output_type": "stream",
     "text": [
      "R2 score of Train: 0.07344546279568842\n",
      "RMSE of Train: 1.0501773019897087\n"
     ]
    }
   ],
   "source": [
    "y_pred_train=lasso.predict(X_train)\n",
    "print('R2 score of Train:',r2_score(y_train,y_pred_train))\n",
    "print('RMSE of Train:',np.sqrt(mse(y_train,y_pred_train)))"
   ]
  },
  {
   "cell_type": "code",
   "execution_count": 132,
   "metadata": {},
   "outputs": [
    {
     "name": "stdout",
     "output_type": "stream",
     "text": [
      "R2 score of Test: 0.07153859520891659\n",
      "RMSE of Test: 1.0483680847160841\n"
     ]
    }
   ],
   "source": [
    "y_pred_test=lasso.predict(X_test)\n",
    "print('R2 score of Test:',r2_score(y_test,y_pred_test))\n",
    "print('RMSE of Test:',np.sqrt(mse(y_test,y_pred_test)))"
   ]
  },
  {
   "cell_type": "markdown",
   "metadata": {},
   "source": [
    "### 4.2 Ridge"
   ]
  },
  {
   "cell_type": "code",
   "execution_count": 133,
   "metadata": {},
   "outputs": [],
   "source": [
    "from sklearn.linear_model import Ridge,RidgeCV\n",
    "ridge=Ridge(alpha=0.05)"
   ]
  },
  {
   "cell_type": "code",
   "execution_count": 134,
   "metadata": {},
   "outputs": [
    {
     "name": "stdout",
     "output_type": "stream",
     "text": [
      "R2 score of Train: 0.1356890628674834\n",
      "RMSE of Train: 1.0142899870975808\n"
     ]
    }
   ],
   "source": [
    "ridge.fit(X_train,y_train)\n",
    "y_pred_train=model.predict(X_train)\n",
    "print('R2 score of Train:',r2_score(y_train,y_pred_train))\n",
    "print('RMSE of Train:',np.sqrt(mse(y_train,y_pred_train)))"
   ]
  },
  {
   "cell_type": "code",
   "execution_count": 135,
   "metadata": {
    "scrolled": true
   },
   "outputs": [
    {
     "name": "stdout",
     "output_type": "stream",
     "text": [
      "R2 score of Test: 0.13236728260667785\n",
      "RMSE of Test: 1.0134441588054508\n"
     ]
    }
   ],
   "source": [
    "y_pred_test=ridge.predict(X_test)\n",
    "print('R2 score of Test:',r2_score(y_test,y_pred_test))\n",
    "print('RMSE of Test:',np.sqrt(mse(y_test,y_pred_test)))"
   ]
  },
  {
   "cell_type": "code",
   "execution_count": 136,
   "metadata": {},
   "outputs": [
    {
     "data": {
      "text/html": [
       "<div>\n",
       "<style scoped>\n",
       "    .dataframe tbody tr th:only-of-type {\n",
       "        vertical-align: middle;\n",
       "    }\n",
       "\n",
       "    .dataframe tbody tr th {\n",
       "        vertical-align: top;\n",
       "    }\n",
       "\n",
       "    .dataframe thead th {\n",
       "        text-align: right;\n",
       "    }\n",
       "</style>\n",
       "<table border=\"1\" class=\"dataframe\">\n",
       "  <thead>\n",
       "    <tr style=\"text-align: right;\">\n",
       "      <th></th>\n",
       "      <th>coefs</th>\n",
       "    </tr>\n",
       "  </thead>\n",
       "  <tbody>\n",
       "    <tr>\n",
       "      <th>channel_code</th>\n",
       "      <td>0.045002</td>\n",
       "    </tr>\n",
       "    <tr>\n",
       "      <th>main_product_code</th>\n",
       "      <td>-0.107716</td>\n",
       "    </tr>\n",
       "    <tr>\n",
       "      <th>numberofadults</th>\n",
       "      <td>0.008494</td>\n",
       "    </tr>\n",
       "    <tr>\n",
       "      <th>numberofchildren</th>\n",
       "      <td>0.017312</td>\n",
       "    </tr>\n",
       "    <tr>\n",
       "      <th>persontravellingid</th>\n",
       "      <td>-0.137713</td>\n",
       "    </tr>\n",
       "    <tr>\n",
       "      <th>resort_region_code</th>\n",
       "      <td>-0.165719</td>\n",
       "    </tr>\n",
       "    <tr>\n",
       "      <th>resort_type_code</th>\n",
       "      <td>0.023009</td>\n",
       "    </tr>\n",
       "    <tr>\n",
       "      <th>room_type_booked_code</th>\n",
       "      <td>-0.025888</td>\n",
       "    </tr>\n",
       "    <tr>\n",
       "      <th>roomnights</th>\n",
       "      <td>0.086074</td>\n",
       "    </tr>\n",
       "    <tr>\n",
       "      <th>season_holidayed_code</th>\n",
       "      <td>-0.064006</td>\n",
       "    </tr>\n",
       "    <tr>\n",
       "      <th>state_code_residence</th>\n",
       "      <td>-0.002457</td>\n",
       "    </tr>\n",
       "    <tr>\n",
       "      <th>state_code_resort</th>\n",
       "      <td>0.038659</td>\n",
       "    </tr>\n",
       "    <tr>\n",
       "      <th>total_pax</th>\n",
       "      <td>0.125808</td>\n",
       "    </tr>\n",
       "    <tr>\n",
       "      <th>booking_type_code</th>\n",
       "      <td>0.012640</td>\n",
       "    </tr>\n",
       "    <tr>\n",
       "      <th>resort_id</th>\n",
       "      <td>-0.009451</td>\n",
       "    </tr>\n",
       "    <tr>\n",
       "      <th>days_stayed</th>\n",
       "      <td>-0.296590</td>\n",
       "    </tr>\n",
       "    <tr>\n",
       "      <th>booking_to_checkin</th>\n",
       "      <td>-0.000261</td>\n",
       "    </tr>\n",
       "    <tr>\n",
       "      <th>month_of_checkin</th>\n",
       "      <td>0.006817</td>\n",
       "    </tr>\n",
       "    <tr>\n",
       "      <th>member_age_buckets_A</th>\n",
       "      <td>-0.027971</td>\n",
       "    </tr>\n",
       "    <tr>\n",
       "      <th>member_age_buckets_B</th>\n",
       "      <td>-0.044678</td>\n",
       "    </tr>\n",
       "    <tr>\n",
       "      <th>member_age_buckets_C</th>\n",
       "      <td>-0.001723</td>\n",
       "    </tr>\n",
       "    <tr>\n",
       "      <th>member_age_buckets_D</th>\n",
       "      <td>0.011911</td>\n",
       "    </tr>\n",
       "    <tr>\n",
       "      <th>member_age_buckets_E</th>\n",
       "      <td>0.027368</td>\n",
       "    </tr>\n",
       "    <tr>\n",
       "      <th>member_age_buckets_F</th>\n",
       "      <td>0.003774</td>\n",
       "    </tr>\n",
       "    <tr>\n",
       "      <th>member_age_buckets_G</th>\n",
       "      <td>-0.022266</td>\n",
       "    </tr>\n",
       "    <tr>\n",
       "      <th>member_age_buckets_H</th>\n",
       "      <td>-0.035190</td>\n",
       "    </tr>\n",
       "    <tr>\n",
       "      <th>member_age_buckets_I</th>\n",
       "      <td>0.033102</td>\n",
       "    </tr>\n",
       "    <tr>\n",
       "      <th>member_age_buckets_J</th>\n",
       "      <td>0.055675</td>\n",
       "    </tr>\n",
       "    <tr>\n",
       "      <th>cluster_code_A</th>\n",
       "      <td>0.070953</td>\n",
       "    </tr>\n",
       "    <tr>\n",
       "      <th>cluster_code_B</th>\n",
       "      <td>-0.210820</td>\n",
       "    </tr>\n",
       "    <tr>\n",
       "      <th>cluster_code_C</th>\n",
       "      <td>0.001091</td>\n",
       "    </tr>\n",
       "    <tr>\n",
       "      <th>cluster_code_D</th>\n",
       "      <td>0.178189</td>\n",
       "    </tr>\n",
       "    <tr>\n",
       "      <th>cluster_code_E</th>\n",
       "      <td>0.052717</td>\n",
       "    </tr>\n",
       "    <tr>\n",
       "      <th>cluster_code_F</th>\n",
       "      <td>-0.092129</td>\n",
       "    </tr>\n",
       "    <tr>\n",
       "      <th>reservationstatusid_code_A</th>\n",
       "      <td>0.115274</td>\n",
       "    </tr>\n",
       "    <tr>\n",
       "      <th>reservationstatusid_code_B</th>\n",
       "      <td>0.132739</td>\n",
       "    </tr>\n",
       "    <tr>\n",
       "      <th>reservationstatusid_code_C</th>\n",
       "      <td>0.099330</td>\n",
       "    </tr>\n",
       "    <tr>\n",
       "      <th>reservationstatusid_code_D</th>\n",
       "      <td>-0.347343</td>\n",
       "    </tr>\n",
       "  </tbody>\n",
       "</table>\n",
       "</div>"
      ],
      "text/plain": [
       "                               coefs\n",
       "channel_code                0.045002\n",
       "main_product_code          -0.107716\n",
       "numberofadults              0.008494\n",
       "numberofchildren            0.017312\n",
       "persontravellingid         -0.137713\n",
       "resort_region_code         -0.165719\n",
       "resort_type_code            0.023009\n",
       "room_type_booked_code      -0.025888\n",
       "roomnights                  0.086074\n",
       "season_holidayed_code      -0.064006\n",
       "state_code_residence       -0.002457\n",
       "state_code_resort           0.038659\n",
       "total_pax                   0.125808\n",
       "booking_type_code           0.012640\n",
       "resort_id                  -0.009451\n",
       "days_stayed                -0.296590\n",
       "booking_to_checkin         -0.000261\n",
       "month_of_checkin            0.006817\n",
       "member_age_buckets_A       -0.027971\n",
       "member_age_buckets_B       -0.044678\n",
       "member_age_buckets_C       -0.001723\n",
       "member_age_buckets_D        0.011911\n",
       "member_age_buckets_E        0.027368\n",
       "member_age_buckets_F        0.003774\n",
       "member_age_buckets_G       -0.022266\n",
       "member_age_buckets_H       -0.035190\n",
       "member_age_buckets_I        0.033102\n",
       "member_age_buckets_J        0.055675\n",
       "cluster_code_A              0.070953\n",
       "cluster_code_B             -0.210820\n",
       "cluster_code_C              0.001091\n",
       "cluster_code_D              0.178189\n",
       "cluster_code_E              0.052717\n",
       "cluster_code_F             -0.092129\n",
       "reservationstatusid_code_A  0.115274\n",
       "reservationstatusid_code_B  0.132739\n",
       "reservationstatusid_code_C  0.099330\n",
       "reservationstatusid_code_D -0.347343"
      ]
     },
     "execution_count": 136,
     "metadata": {},
     "output_type": "execute_result"
    }
   ],
   "source": [
    "ridge.fit(X, y)\n",
    "ridge.coef_\n",
    "pd.DataFrame(ridge.coef_, X.columns, columns=['coefs'])"
   ]
  },
  {
   "cell_type": "code",
   "execution_count": 137,
   "metadata": {},
   "outputs": [
    {
     "data": {
      "image/png": "[encoded data removed]",
      "text/plain": [
       "<Figure size 432x288 with 1 Axes>"
      ]
     },
     "metadata": {
      "needs_background": "light"
     },
     "output_type": "display_data"
    }
   ],
   "source": [
    "n_alphas = 200\n",
    "alphas = np.logspace(-3, 2, n_alphas)\n",
    "coefs=[]\n",
    "model = Ridge()\n",
    "for a in alphas:\n",
    "    model.set_params(alpha=a)\n",
    "    model.fit(X, y)\n",
    "    coefs.append(model.coef_)\n",
    "    \n",
    "plt.plot(alphas, coefs)\n",
    "plt.xlabel('alphas')\n",
    "plt.ylabel('coefs')\n",
    "plt.show()"
   ]
  },
  {
   "cell_type": "code",
   "execution_count": 138,
   "metadata": {},
   "outputs": [
    {
     "data": {
      "text/plain": [
       "1.0"
      ]
     },
     "execution_count": 138,
     "metadata": {},
     "output_type": "execute_result"
    }
   ],
   "source": [
    "n_alphas = 1000\n",
    "alphas = np.logspace(-2, 0)\n",
    "\n",
    "ridge_cv = RidgeCV(alphas=alphas, store_cv_values=True)\n",
    "ridge_cv.fit(X, y)\n",
    "\n",
    "ridge_cv.alpha_"
   ]
  },
  {
   "cell_type": "code",
   "execution_count": 139,
   "metadata": {},
   "outputs": [
    {
     "data": {
      "text/plain": [
       "Ridge(alpha=1.0, copy_X=True, fit_intercept=True, max_iter=None,\n",
       "      normalize=False, random_state=None, solver='auto', tol=0.001)"
      ]
     },
     "execution_count": 139,
     "metadata": {},
     "output_type": "execute_result"
    }
   ],
   "source": [
    "ridge=Ridge(alpha=ridge_cv.alpha_)\n",
    "ridge.fit(X_train,y_train)"
   ]
  },
  {
   "cell_type": "code",
   "execution_count": 140,
   "metadata": {},
   "outputs": [
    {
     "name": "stdout",
     "output_type": "stream",
     "text": [
      "R2 score of Train: 0.1357619381429399\n",
      "RMSE of Train: 1.0142472257386863\n"
     ]
    }
   ],
   "source": [
    "y_pred_train=ridge.predict(X_train)\n",
    "print('R2 score of Train:',r2_score(y_train,y_pred_train))\n",
    "print('RMSE of Train:',np.sqrt(mse(y_train,y_pred_train)))"
   ]
  },
  {
   "cell_type": "code",
   "execution_count": 141,
   "metadata": {},
   "outputs": [
    {
     "name": "stdout",
     "output_type": "stream",
     "text": [
      "R2 score of Test: 0.13236732450262945\n",
      "RMSE of Test: 1.0134441343370282\n"
     ]
    }
   ],
   "source": [
    "y_pred_test=ridge.predict(X_test)\n",
    "print('R2 score of Test:',r2_score(y_test,y_pred_test))\n",
    "print('RMSE of Test:',np.sqrt(mse(y_test,y_pred_test)))"
   ]
  },
  {
   "cell_type": "markdown",
   "metadata": {},
   "source": [
    "### 4.3 Elastic Net/Elastic Net CV"
   ]
  },
  {
   "cell_type": "code",
   "execution_count": 142,
   "metadata": {},
   "outputs": [
    {
     "data": {
      "text/plain": [
       "ElasticNet(alpha=0.1, copy_X=True, fit_intercept=True, l1_ratio=0.5,\n",
       "           max_iter=1000, normalize=False, positive=False, precompute=False,\n",
       "           random_state=None, selection='cyclic', tol=0.0001, warm_start=False)"
      ]
     },
     "execution_count": 142,
     "metadata": {},
     "output_type": "execute_result"
    }
   ],
   "source": [
    "from sklearn.linear_model import ElasticNet, ElasticNetCV\n",
    "enet = ElasticNet(alpha=0.1)\n",
    "enet.fit(X_train, y_train)"
   ]
  },
  {
   "cell_type": "code",
   "execution_count": 143,
   "metadata": {},
   "outputs": [
    {
     "name": "stdout",
     "output_type": "stream",
     "text": [
      "R2 score of Train: 0.10783774834531634\n",
      "RMSE of Train: 1.0305025144447626\n"
     ]
    }
   ],
   "source": [
    "y_pred_train=enet.predict(X_train)\n",
    "print('R2 score of Train:',r2_score(y_train,y_pred_train))\n",
    "print('RMSE of Train:',np.sqrt(mse(y_train,y_pred_train)))"
   ]
  },
  {
   "cell_type": "code",
   "execution_count": 144,
   "metadata": {},
   "outputs": [
    {
     "name": "stdout",
     "output_type": "stream",
     "text": [
      "R2 score of Test: 0.10591798462137558\n",
      "RMSE of Test: 1.0287753344635153\n"
     ]
    }
   ],
   "source": [
    "y_pred_test=enet.predict(X_test)\n",
    "print('R2 score of Test:',r2_score(y_test,y_pred_test))\n",
    "print('RMSE of Test:',np.sqrt(mse(y_test,y_pred_test)))"
   ]
  },
  {
   "cell_type": "code",
   "execution_count": 145,
   "metadata": {},
   "outputs": [
    {
     "data": {
      "text/html": [
       "<div>\n",
       "<style scoped>\n",
       "    .dataframe tbody tr th:only-of-type {\n",
       "        vertical-align: middle;\n",
       "    }\n",
       "\n",
       "    .dataframe tbody tr th {\n",
       "        vertical-align: top;\n",
       "    }\n",
       "\n",
       "    .dataframe thead th {\n",
       "        text-align: right;\n",
       "    }\n",
       "</style>\n",
       "<table border=\"1\" class=\"dataframe\">\n",
       "  <thead>\n",
       "    <tr style=\"text-align: right;\">\n",
       "      <th></th>\n",
       "      <th>coefs</th>\n",
       "    </tr>\n",
       "  </thead>\n",
       "  <tbody>\n",
       "    <tr>\n",
       "      <th>channel_code</th>\n",
       "      <td>0.000000</td>\n",
       "    </tr>\n",
       "    <tr>\n",
       "      <th>main_product_code</th>\n",
       "      <td>-0.034011</td>\n",
       "    </tr>\n",
       "    <tr>\n",
       "      <th>numberofadults</th>\n",
       "      <td>0.030333</td>\n",
       "    </tr>\n",
       "    <tr>\n",
       "      <th>numberofchildren</th>\n",
       "      <td>0.000000</td>\n",
       "    </tr>\n",
       "    <tr>\n",
       "      <th>persontravellingid</th>\n",
       "      <td>-0.063553</td>\n",
       "    </tr>\n",
       "    <tr>\n",
       "      <th>resort_region_code</th>\n",
       "      <td>-0.029997</td>\n",
       "    </tr>\n",
       "    <tr>\n",
       "      <th>resort_type_code</th>\n",
       "      <td>-0.000000</td>\n",
       "    </tr>\n",
       "    <tr>\n",
       "      <th>room_type_booked_code</th>\n",
       "      <td>-0.000000</td>\n",
       "    </tr>\n",
       "    <tr>\n",
       "      <th>roomnights</th>\n",
       "      <td>0.048927</td>\n",
       "    </tr>\n",
       "    <tr>\n",
       "      <th>season_holidayed_code</th>\n",
       "      <td>-0.029385</td>\n",
       "    </tr>\n",
       "    <tr>\n",
       "      <th>state_code_residence</th>\n",
       "      <td>-0.002312</td>\n",
       "    </tr>\n",
       "    <tr>\n",
       "      <th>state_code_resort</th>\n",
       "      <td>0.003905</td>\n",
       "    </tr>\n",
       "    <tr>\n",
       "      <th>total_pax</th>\n",
       "      <td>0.096542</td>\n",
       "    </tr>\n",
       "    <tr>\n",
       "      <th>booking_type_code</th>\n",
       "      <td>0.000000</td>\n",
       "    </tr>\n",
       "    <tr>\n",
       "      <th>resort_id</th>\n",
       "      <td>-0.004262</td>\n",
       "    </tr>\n",
       "    <tr>\n",
       "      <th>days_stayed</th>\n",
       "      <td>-0.200499</td>\n",
       "    </tr>\n",
       "    <tr>\n",
       "      <th>booking_to_checkin</th>\n",
       "      <td>-0.000444</td>\n",
       "    </tr>\n",
       "    <tr>\n",
       "      <th>month_of_checkin</th>\n",
       "      <td>0.003873</td>\n",
       "    </tr>\n",
       "    <tr>\n",
       "      <th>member_age_buckets_A</th>\n",
       "      <td>-0.000000</td>\n",
       "    </tr>\n",
       "    <tr>\n",
       "      <th>member_age_buckets_B</th>\n",
       "      <td>-0.000000</td>\n",
       "    </tr>\n",
       "    <tr>\n",
       "      <th>member_age_buckets_C</th>\n",
       "      <td>-0.000000</td>\n",
       "    </tr>\n",
       "    <tr>\n",
       "      <th>member_age_buckets_D</th>\n",
       "      <td>0.000000</td>\n",
       "    </tr>\n",
       "    <tr>\n",
       "      <th>member_age_buckets_E</th>\n",
       "      <td>0.000000</td>\n",
       "    </tr>\n",
       "    <tr>\n",
       "      <th>member_age_buckets_F</th>\n",
       "      <td>0.000000</td>\n",
       "    </tr>\n",
       "    <tr>\n",
       "      <th>member_age_buckets_G</th>\n",
       "      <td>-0.000000</td>\n",
       "    </tr>\n",
       "    <tr>\n",
       "      <th>member_age_buckets_H</th>\n",
       "      <td>-0.000000</td>\n",
       "    </tr>\n",
       "    <tr>\n",
       "      <th>member_age_buckets_I</th>\n",
       "      <td>0.000000</td>\n",
       "    </tr>\n",
       "    <tr>\n",
       "      <th>member_age_buckets_J</th>\n",
       "      <td>0.000000</td>\n",
       "    </tr>\n",
       "    <tr>\n",
       "      <th>cluster_code_A</th>\n",
       "      <td>-0.000000</td>\n",
       "    </tr>\n",
       "    <tr>\n",
       "      <th>cluster_code_B</th>\n",
       "      <td>-0.000000</td>\n",
       "    </tr>\n",
       "    <tr>\n",
       "      <th>cluster_code_C</th>\n",
       "      <td>0.000000</td>\n",
       "    </tr>\n",
       "    <tr>\n",
       "      <th>cluster_code_D</th>\n",
       "      <td>0.000000</td>\n",
       "    </tr>\n",
       "    <tr>\n",
       "      <th>cluster_code_E</th>\n",
       "      <td>0.000000</td>\n",
       "    </tr>\n",
       "    <tr>\n",
       "      <th>cluster_code_F</th>\n",
       "      <td>-0.000000</td>\n",
       "    </tr>\n",
       "    <tr>\n",
       "      <th>reservationstatusid_code_B</th>\n",
       "      <td>0.000000</td>\n",
       "    </tr>\n",
       "  </tbody>\n",
       "</table>\n",
       "</div>"
      ],
      "text/plain": [
       "                               coefs\n",
       "channel_code                0.000000\n",
       "main_product_code          -0.034011\n",
       "numberofadults              0.030333\n",
       "numberofchildren            0.000000\n",
       "persontravellingid         -0.063553\n",
       "resort_region_code         -0.029997\n",
       "resort_type_code           -0.000000\n",
       "room_type_booked_code      -0.000000\n",
       "roomnights                  0.048927\n",
       "season_holidayed_code      -0.029385\n",
       "state_code_residence       -0.002312\n",
       "state_code_resort           0.003905\n",
       "total_pax                   0.096542\n",
       "booking_type_code           0.000000\n",
       "resort_id                  -0.004262\n",
       "days_stayed                -0.200499\n",
       "booking_to_checkin         -0.000444\n",
       "month_of_checkin            0.003873\n",
       "member_age_buckets_A       -0.000000\n",
       "member_age_buckets_B       -0.000000\n",
       "member_age_buckets_C       -0.000000\n",
       "member_age_buckets_D        0.000000\n",
       "member_age_buckets_E        0.000000\n",
       "member_age_buckets_F        0.000000\n",
       "member_age_buckets_G       -0.000000\n",
       "member_age_buckets_H       -0.000000\n",
       "member_age_buckets_I        0.000000\n",
       "member_age_buckets_J        0.000000\n",
       "cluster_code_A             -0.000000\n",
       "cluster_code_B             -0.000000\n",
       "cluster_code_C              0.000000\n",
       "cluster_code_D              0.000000\n",
       "cluster_code_E              0.000000\n",
       "cluster_code_F             -0.000000\n",
       "reservationstatusid_code_B  0.000000"
      ]
     },
     "execution_count": 145,
     "metadata": {},
     "output_type": "execute_result"
    }
   ],
   "source": [
    "pd.DataFrame(enet.coef_, X_final.columns, columns=['coefs'])"
   ]
  },
  {
   "cell_type": "code",
   "execution_count": 146,
   "metadata": {},
   "outputs": [
    {
     "data": {
      "image/png": "[encoded data removed]",
      "text/plain": [
       "<Figure size 432x288 with 1 Axes>"
      ]
     },
     "metadata": {
      "needs_background": "light"
     },
     "output_type": "display_data"
    }
   ],
   "source": [
    "n_alphas = 200\n",
    "alphas = np.logspace(-3, -1, n_alphas)\n",
    "coefs=[]\n",
    "enet = ElasticNet()\n",
    "for a in alphas:\n",
    "    enet.set_params(alpha=a)\n",
    "    enet.fit(X_final, y)\n",
    "    coefs.append(model.coef_)\n",
    "    \n",
    "plt.plot(alphas, coefs)\n",
    "plt.xlabel('alphas')\n",
    "plt.ylabel('coefs')\n",
    "plt.show()"
   ]
  },
  {
   "cell_type": "code",
   "execution_count": 147,
   "metadata": {},
   "outputs": [
    {
     "data": {
      "text/plain": [
       "0.001"
      ]
     },
     "execution_count": 147,
     "metadata": {},
     "output_type": "execute_result"
    }
   ],
   "source": [
    "n_alphas = 200\n",
    "alphas = np.logspace(-3, 1, n_alphas)\n",
    "\n",
    "en_cv = ElasticNetCV(alphas=alphas, cv=3)\n",
    "en_cv.fit(X_final, y)\n",
    "en_cv.alpha_"
   ]
  },
  {
   "cell_type": "code",
   "execution_count": 148,
   "metadata": {},
   "outputs": [
    {
     "data": {
      "text/plain": [
       "ElasticNet(alpha=0.001, copy_X=True, fit_intercept=True, l1_ratio=0.5,\n",
       "           max_iter=1000, normalize=False, positive=False, precompute=False,\n",
       "           random_state=None, selection='cyclic', tol=0.0001, warm_start=False)"
      ]
     },
     "execution_count": 148,
     "metadata": {},
     "output_type": "execute_result"
    }
   ],
   "source": [
    "enet = ElasticNet(alpha=en_cv.alpha_)\n",
    "enet.fit(X_train,y_train)"
   ]
  },
  {
   "cell_type": "code",
   "execution_count": 149,
   "metadata": {},
   "outputs": [
    {
     "name": "stdout",
     "output_type": "stream",
     "text": [
      "R2 score of Train: 0.13566241703087745\n",
      "RMSE of Train: 1.0143056217469926\n"
     ]
    }
   ],
   "source": [
    "y_pred_train=enet.predict(X_train)\n",
    "print('R2 score of Train:',r2_score(y_train,y_pred_train))\n",
    "print('RMSE of Train:',np.sqrt(mse(y_train,y_pred_train)))"
   ]
  },
  {
   "cell_type": "code",
   "execution_count": 150,
   "metadata": {},
   "outputs": [
    {
     "name": "stdout",
     "output_type": "stream",
     "text": [
      "R2 score of Test: 0.13230329029659493\n",
      "RMSE of Test: 1.013481531437789\n"
     ]
    }
   ],
   "source": [
    "y_pred_test=enet.predict(X_test)\n",
    "print('R2 score of Test:',r2_score(y_test,y_pred_test))\n",
    "print('RMSE of Test:',np.sqrt(mse(y_test,y_pred_test)))"
   ]
  },
  {
   "cell_type": "markdown",
   "metadata": {},
   "source": [
    "### 5 Decision Tree"
   ]
  },
  {
   "cell_type": "code",
   "execution_count": 151,
   "metadata": {},
   "outputs": [],
   "source": [
    "from sklearn.tree import DecisionTreeRegressor\n",
    "dtr=DecisionTreeRegressor()"
   ]
  },
  {
   "cell_type": "code",
   "execution_count": 152,
   "metadata": {},
   "outputs": [
    {
     "data": {
      "text/plain": [
       "DecisionTreeRegressor(ccp_alpha=0.0, criterion='mse', max_depth=None,\n",
       "                      max_features=None, max_leaf_nodes=None,\n",
       "                      min_impurity_decrease=0.0, min_impurity_split=None,\n",
       "                      min_samples_leaf=1, min_samples_split=2,\n",
       "                      min_weight_fraction_leaf=0.0, presort='deprecated',\n",
       "                      random_state=None, splitter='best')"
      ]
     },
     "execution_count": 152,
     "metadata": {},
     "output_type": "execute_result"
    }
   ],
   "source": [
    "dtr.fit(X_train,y_train)"
   ]
  },
  {
   "cell_type": "code",
   "execution_count": 153,
   "metadata": {},
   "outputs": [
    {
     "name": "stdout",
     "output_type": "stream",
     "text": [
      "R2 score of Train: 0.9857195162593765\n",
      "RMSE of Train: 0.13037628245824953\n"
     ]
    }
   ],
   "source": [
    "y_pred_train=dtr.predict(X_train)\n",
    "print('R2 score of Train:',r2_score(y_train,y_pred_train))\n",
    "print('RMSE of Train:',np.sqrt(mse(y_train,y_pred_train)))"
   ]
  },
  {
   "cell_type": "code",
   "execution_count": 154,
   "metadata": {},
   "outputs": [
    {
     "name": "stdout",
     "output_type": "stream",
     "text": [
      "R2 score of Test: -0.7651992933812253\n",
      "RMSE of Test: 1.4455354149645359\n"
     ]
    }
   ],
   "source": [
    "y_pred_test=dtr.predict(X_test)\n",
    "print('R2 score of Test:',r2_score(y_test,y_pred_test))\n",
    "print('RMSE of Test:',np.sqrt(mse(y_test,y_pred_test)))"
   ]
  },
  {
   "cell_type": "markdown",
   "metadata": {},
   "source": [
    "### 6. Random Forest"
   ]
  },
  {
   "cell_type": "code",
   "execution_count": 155,
   "metadata": {},
   "outputs": [],
   "source": [
    "from sklearn.ensemble import RandomForestRegressor\n",
    "rfr=RandomForestRegressor()"
   ]
  },
  {
   "cell_type": "code",
   "execution_count": 156,
   "metadata": {},
   "outputs": [
    {
     "data": {
      "text/plain": [
       "RandomForestRegressor(bootstrap=True, ccp_alpha=0.0, criterion='mse',\n",
       "                      max_depth=None, max_features='auto', max_leaf_nodes=None,\n",
       "                      max_samples=None, min_impurity_decrease=0.0,\n",
       "                      min_impurity_split=None, min_samples_leaf=1,\n",
       "                      min_samples_split=2, min_weight_fraction_leaf=0.0,\n",
       "                      n_estimators=100, n_jobs=None, oob_score=False,\n",
       "                      random_state=None, verbose=0, warm_start=False)"
      ]
     },
     "execution_count": 156,
     "metadata": {},
     "output_type": "execute_result"
    }
   ],
   "source": [
    "rfr.fit(X_train,y_train)"
   ]
  },
  {
   "cell_type": "code",
   "execution_count": 157,
   "metadata": {},
   "outputs": [
    {
     "name": "stdout",
     "output_type": "stream",
     "text": [
      "R2 score of Train: 0.8682270840188561\n",
      "RMSE of Train: 0.3960410580854455\n"
     ]
    }
   ],
   "source": [
    "y_pred_train=rfr.predict(X_train)\n",
    "print('R2 score of Train:',r2_score(y_train,y_pred_train))\n",
    "print('RMSE of Train:',np.sqrt(mse(y_train,y_pred_train)))"
   ]
  },
  {
   "cell_type": "code",
   "execution_count": 158,
   "metadata": {},
   "outputs": [
    {
     "name": "stdout",
     "output_type": "stream",
     "text": [
      "R2 score of Test: 0.11549249627484615\n",
      "RMSE of Test: 1.0232520525988849\n"
     ]
    }
   ],
   "source": [
    "y_pred_test=rfr.predict(X_test)\n",
    "print('R2 score of Test:',r2_score(y_test,y_pred_test))\n",
    "print('RMSE of Test:',np.sqrt(mse(y_test,y_pred_test)))"
   ]
  },
  {
   "cell_type": "markdown",
   "metadata": {},
   "source": [
    "### 7. KNN"
   ]
  },
  {
   "cell_type": "code",
   "execution_count": 159,
   "metadata": {},
   "outputs": [],
   "source": [
    "from sklearn.neighbors import KNeighborsRegressor\n",
    "knnr=KNeighborsRegressor(n_neighbors=5)"
   ]
  },
  {
   "cell_type": "code",
   "execution_count": 160,
   "metadata": {},
   "outputs": [
    {
     "name": "stdout",
     "output_type": "stream",
     "text": [
      "R2 score of Train: 0.3176780629028282\n",
      "RMSE of Train: 0.9012012824388939\n"
     ]
    }
   ],
   "source": [
    "knnr.fit(X_train,y_train)\n",
    "y_pred_train=knnr.predict(X_train)\n",
    "print('R2 score of Train:',r2_score(y_train,y_pred_train))\n",
    "print('RMSE of Train:',np.sqrt(mse(y_train,y_pred_train)))"
   ]
  },
  {
   "cell_type": "code",
   "execution_count": 161,
   "metadata": {},
   "outputs": [
    {
     "name": "stdout",
     "output_type": "stream",
     "text": [
      "R2 score of Test: -0.03820240333110436\n",
      "RMSE of Test: 1.1085949059061209\n"
     ]
    }
   ],
   "source": [
    "y_pred_test=knnr.predict(X_test)\n",
    "print('R2 score of Test:',r2_score(y_test,y_pred_test))\n",
    "print('RMSE of Test:',np.sqrt(mse(y_test,y_pred_test)))"
   ]
  },
  {
   "cell_type": "markdown",
   "metadata": {},
   "source": [
    "### 8. Bayesian Ridge"
   ]
  },
  {
   "cell_type": "code",
   "execution_count": 162,
   "metadata": {},
   "outputs": [],
   "source": [
    "from sklearn.linear_model import BayesianRidge\n",
    "bay=BayesianRidge()"
   ]
  },
  {
   "cell_type": "code",
   "execution_count": 163,
   "metadata": {},
   "outputs": [
    {
     "data": {
      "text/plain": [
       "BayesianRidge(alpha_1=1e-06, alpha_2=1e-06, alpha_init=None,\n",
       "              compute_score=False, copy_X=True, fit_intercept=True,\n",
       "              lambda_1=1e-06, lambda_2=1e-06, lambda_init=None, n_iter=300,\n",
       "              normalize=False, tol=0.001, verbose=False)"
      ]
     },
     "execution_count": 163,
     "metadata": {},
     "output_type": "execute_result"
    }
   ],
   "source": [
    "bay.fit(X_train,y_train)"
   ]
  },
  {
   "cell_type": "code",
   "execution_count": 164,
   "metadata": {},
   "outputs": [
    {
     "name": "stdout",
     "output_type": "stream",
     "text": [
      "R2 score of Train: 0.1357611340846574\n",
      "RMSE of Train: 1.0142476975494805\n"
     ]
    }
   ],
   "source": [
    "y_pred_train=bay.predict(X_train)\n",
    "print('R2 score of Train:',r2_score(y_train,y_pred_train))\n",
    "print('RMSE of Train:',np.sqrt(mse(y_train,y_pred_train)))"
   ]
  },
  {
   "cell_type": "code",
   "execution_count": 165,
   "metadata": {},
   "outputs": [
    {
     "name": "stdout",
     "output_type": "stream",
     "text": [
      "R2 score of Test: 0.13237193675832903\n",
      "RMSE of Test: 1.01344144064543\n"
     ]
    }
   ],
   "source": [
    "y_pred_test=bay.predict(X_test)\n",
    "print('R2 score of Test:',r2_score(y_test,y_pred_test))\n",
    "print('RMSE of Test:',np.sqrt(mse(y_test,y_pred_test)))"
   ]
  },
  {
   "cell_type": "markdown",
   "metadata": {},
   "source": [
    "### 9. Bagging"
   ]
  },
  {
   "cell_type": "code",
   "execution_count": 166,
   "metadata": {},
   "outputs": [],
   "source": [
    "from sklearn.ensemble import BaggingRegressor\n",
    "baggr_lr=BaggingRegressor(base_estimator=LinearRegression())"
   ]
  },
  {
   "cell_type": "code",
   "execution_count": 167,
   "metadata": {},
   "outputs": [
    {
     "name": "stdout",
     "output_type": "stream",
     "text": [
      "R2 score of Train: 0.13574981790500118\n",
      "RMSE of Train: 1.0142543377111553\n"
     ]
    }
   ],
   "source": [
    "baggr_lr.fit(X_train,y_train)\n",
    "y_pred_train=baggr_lr.predict(X_train)\n",
    "print('R2 score of Train:',r2_score(y_train,y_pred_train))\n",
    "print('RMSE of Train:',np.sqrt(mse(y_train,y_pred_train)))"
   ]
  },
  {
   "cell_type": "code",
   "execution_count": 168,
   "metadata": {},
   "outputs": [
    {
     "name": "stdout",
     "output_type": "stream",
     "text": [
      "R2 score of Test: 0.1323762338573813\n",
      "RMSE of Test: 1.0134389310080458\n"
     ]
    }
   ],
   "source": [
    "y_pred_test=baggr_lr.predict(X_test)\n",
    "print('R2 score of Test:',r2_score(y_test,y_pred_test))\n",
    "print('RMSE of Test:',np.sqrt(mse(y_test,y_pred_test)))"
   ]
  },
  {
   "cell_type": "code",
   "execution_count": 169,
   "metadata": {},
   "outputs": [
    {
     "name": "stdout",
     "output_type": "stream",
     "text": [
      "R2 score of Train: 0.8200346007073206\n",
      "RMSE of Train: 0.4628301486560549\n"
     ]
    }
   ],
   "source": [
    "baggr_dt=BaggingRegressor(base_estimator=DecisionTreeRegressor())\n",
    "baggr_dt.fit(X_train,y_train)\n",
    "y_pred_train=baggr_dt.predict(X_train)\n",
    "print('R2 score of Train:',r2_score(y_train,y_pred_train))\n",
    "print('RMSE of Train:',np.sqrt(mse(y_train,y_pred_train)))"
   ]
  },
  {
   "cell_type": "code",
   "execution_count": 170,
   "metadata": {},
   "outputs": [
    {
     "name": "stdout",
     "output_type": "stream",
     "text": [
      "R2 score of Test: 0.03382617147911704\n",
      "RMSE of Test: 1.0694475707628048\n"
     ]
    }
   ],
   "source": [
    "y_pred_test=baggr_dt.predict(X_test)\n",
    "print('R2 score of Test:',r2_score(y_test,y_pred_test))\n",
    "print('RMSE of Test:',np.sqrt(mse(y_test,y_pred_test)))"
   ]
  },
  {
   "cell_type": "markdown",
   "metadata": {},
   "source": [
    "### 10. Boosting"
   ]
  },
  {
   "cell_type": "code",
   "execution_count": 172,
   "metadata": {},
   "outputs": [
    {
     "name": "stdout",
     "output_type": "stream",
     "text": [
      "R2 score of Train: 0.016389121281679242\n",
      "RMSE of Train: 1.0820287381731353\n"
     ]
    }
   ],
   "source": [
    "from sklearn.ensemble import AdaBoostRegressor\n",
    "ada=AdaBoostRegressor(base_estimator=LinearRegression())\n",
    "ada.fit(X_train,y_train)\n",
    "y_pred_train=ada.predict(X_train)\n",
    "print('R2 score of Train:',r2_score(y_train,y_pred_train))\n",
    "print('RMSE of Train:',np.sqrt(mse(y_train,y_pred_train)))"
   ]
  },
  {
   "cell_type": "code",
   "execution_count": 173,
   "metadata": {},
   "outputs": [
    {
     "name": "stdout",
     "output_type": "stream",
     "text": [
      "R2 score of Test: 0.011952834827336556\n",
      "RMSE of Test: 1.0814855022492846\n"
     ]
    }
   ],
   "source": [
    "y_pred_test=ada.predict(X_test)\n",
    "print('R2 score of Test:',r2_score(y_test,y_pred_test))\n",
    "print('RMSE of Test:',np.sqrt(mse(y_test,y_pred_test)))"
   ]
  },
  {
   "cell_type": "code",
   "execution_count": 176,
   "metadata": {},
   "outputs": [
    {
     "name": "stdout",
     "output_type": "stream",
     "text": [
      "R2 score of Train: -0.25096758391958174\n",
      "RMSE of Train: 1.220253780738443\n"
     ]
    }
   ],
   "source": [
    "ada=AdaBoostRegressor(base_estimator=DecisionTreeRegressor(max_depth=3))\n",
    "ada.fit(X_train,y_train)\n",
    "y_pred_train=ada.predict(X_train)\n",
    "print('R2 score of Train:',r2_score(y_train,y_pred_train))\n",
    "print('RMSE of Train:',np.sqrt(mse(y_train,y_pred_train)))"
   ]
  },
  {
   "cell_type": "code",
   "execution_count": 177,
   "metadata": {},
   "outputs": [
    {
     "name": "stdout",
     "output_type": "stream",
     "text": [
      "R2 score of Test: -0.26115760843628166\n",
      "RMSE of Test: 1.2218462094153597\n"
     ]
    }
   ],
   "source": [
    "y_pred_test=ada.predict(X_test)\n",
    "print('R2 score of Test:',r2_score(y_test,y_pred_test))\n",
    "print('RMSE of Test:',np.sqrt(mse(y_test,y_pred_test)))"
   ]
  }
 ],
 "metadata": {
  "kernelspec": {
   "display_name": "Python 3",
   "language": "python",
   "name": "python3"
  },
  "language_info": {
   "codemirror_mode": {
    "name": "ipython",
    "version": 3
   },
   "file_extension": ".py",
   "mimetype": "text/x-python",
   "name": "python",
   "nbconvert_exporter": "python",
   "pygments_lexer": "ipython3",
   "version": "3.7.6"
  }
 },
 "nbformat": 4,
 "nbformat_minor": 4
}
